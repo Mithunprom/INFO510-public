{
 "cells": [
  {
   "cell_type": "code",
   "execution_count": null,
   "metadata": {},
   "outputs": [],
   "source": [
    "import numpy as np, scipy as sp, matplotlib.pyplot as plt\n",
    "from scipy import stats"
   ]
  },
  {
   "cell_type": "markdown",
   "metadata": {},
   "source": [
    "## Pfizer's vaccine"
   ]
  },
  {
   "cell_type": "code",
   "execution_count": null,
   "metadata": {},
   "outputs": [],
   "source": [
    "# Prior\n",
    "grid = np.linspace(0, 1, 1000)\n",
    "α0 = 0.7\n",
    "β0 = 1\n",
    "prior = sp.stats.beta(α0, β0)\n",
    "\n",
    "plt.figure(figsize=(10, 7))\n",
    "plt.plot(grid, prior.pdf(grid), color = 'black')\n",
    "plt.fill_between(grid, np.zeros_like(grid),  prior.pdf(grid), color = 'blue', alpha = 0.3)\n",
    "plt.title('Prior probability for $\\\\theta$')\n",
    "plt.vlines(x=prior.mean(), ymin = 0, ymax = 5.5, color = 'black', linestyles='--', label = 'Prior mean $\\\\theta$')\n",
    "plt.xlabel('$\\\\theta$')\n",
    "plt.ylabel('density')\n",
    "plt.legend()\n",
    "plt.show()"
   ]
  },
  {
   "cell_type": "code",
   "execution_count": null,
   "metadata": {},
   "outputs": [],
   "source": [
    "# Posterior assuming 8 cases in vaccine arm\n",
    "posterior_1 = sp.stats.beta(α0 + 8, β0 + 86)\n",
    "plt.figure(figsize=(10, 7))\n",
    "plt.plot(grid, posterior_1.pdf(grid), color = 'black')\n",
    "plt.fill_between(grid, np.zeros_like(grid),  posterior_1.pdf(grid), color = 'blue', alpha = 0.3)\n",
    "plt.title('Posterior probability for $\\\\theta$')\n",
    "plt.vlines(x=posterior_1.mean(), ymin = 0, ymax = max(posterior_1.pdf(grid)), color = 'black', linestyles='--', label = 'Posterior mean $\\\\theta$')\n",
    "plt.vlines(x=posterior_1.ppf(0.025), ymin = 0, ymax = max(posterior_1.pdf(grid)), color = 'green', linestyles='--', lw=1, label = 'Posterior 95% bounds')\n",
    "plt.vlines(x=posterior_1.ppf(0.975), ymin = 0, ymax = max(posterior_1.pdf(grid)), color = 'green', linestyles='--', lw=1)\n",
    "plt.xlabel('$\\\\theta$')\n",
    "plt.ylabel('density')\n",
    "plt.legend()\n",
    "plt.show()"
   ]
  },
  {
   "cell_type": "code",
   "execution_count": null,
   "metadata": {},
   "outputs": [],
   "source": [
    "# Posterior assuming 3 cases in vaccine arm\n",
    "posterior_2 = sp.stats.beta(α0 + 3, β0 + 91)\n",
    "plt.figure(figsize=(10, 7))\n",
    "plt.plot(grid, posterior_2.pdf(grid), color = 'black')\n",
    "plt.fill_between(grid, np.zeros_like(grid),  posterior_2.pdf(grid), color = 'blue', alpha = 0.3)\n",
    "plt.title('Posterior probability for $\\\\theta$')\n",
    "plt.vlines(x=posterior_2.mean(), ymin = 0, ymax = max(posterior_2.pdf(grid)), color = 'black', linestyles='--', label = 'Posterior mean $\\\\theta$')\n",
    "plt.vlines(x=posterior_2.ppf(0.025), ymin = 0, ymax = max(posterior_2.pdf(grid)), color = 'green', linestyles='--', lw=1, label = 'Posterior 95% bounds')\n",
    "plt.vlines(x=posterior_2.ppf(0.975), ymin = 0, ymax = max(posterior_2.pdf(grid)), color = 'green', linestyles='--', lw=1)\n",
    "plt.xlabel('$\\\\theta$')\n",
    "plt.ylabel('density')\n",
    "plt.legend()\n",
    "plt.show()"
   ]
  },
  {
   "cell_type": "code",
   "execution_count": null,
   "metadata": {},
   "outputs": [],
   "source": [
    "# Posterior with full data\n",
    "posterior_4 = sp.stats.beta(α0 + 8, β0 + 162)\n",
    "plt.figure(figsize=(10, 7))\n",
    "plt.plot(grid, posterior_2.pdf(grid), color = 'black')\n",
    "plt.fill_between(grid, np.zeros_like(grid),  posterior_2.pdf(grid), color = 'blue', alpha = 0.3)\n",
    "plt.title('Posterior probability for $\\\\theta$')\n",
    "plt.vlines(x=posterior_2.mean(), ymin = 0, ymax = max(posterior_2.pdf(grid)), color = 'black', linestyles='--', label = 'Posterior mean $\\\\theta$')\n",
    "plt.vlines(x=posterior_2.ppf(0.025), ymin = 0, ymax = max(posterior_2.pdf(grid)), color = 'green', linestyles='--', lw=1, label = 'Posterior 95% bounds')\n",
    "plt.vlines(x=posterior_2.ppf(0.975), ymin = 0, ymax = max(posterior_2.pdf(grid)), color = 'green', linestyles='--', lw=1)\n",
    "plt.xlabel('$\\\\theta$')\n",
    "plt.ylabel('density')\n",
    "plt.legend()"
   ]
  },
  {
   "cell_type": "code",
   "execution_count": null,
   "metadata": {},
   "outputs": [],
   "source": []
  },
  {
   "cell_type": "markdown",
   "metadata": {},
   "source": [
    "## Moderna"
   ]
  },
  {
   "cell_type": "code",
   "execution_count": null,
   "metadata": {},
   "outputs": [],
   "source": [
    "# Moderna's trial had 5 cases in the vaccine arm, 90 in the placebo arm\n",
    "posterior_3 = sp.stats.beta(α0 + 5, β0 + 90)\n",
    "plt.figure(figsize=(10, 7))\n",
    "plt.plot(grid, posterior_3.pdf(grid), color = 'black')\n",
    "plt.fill_between(grid, np.zeros_like(grid),  posterior_3.pdf(grid), color = 'blue', alpha = 0.3)\n",
    "plt.title('Posterior probability for $\\\\theta$')\n",
    "plt.vlines(x=posterior_3.mean(), ymin = 0, ymax = max(posterior_3.pdf(grid)), color = 'black', linestyles='--', label = 'Posterior mean $\\\\theta$')\n",
    "plt.vlines(x=posterior_3.ppf(0.025), ymin = 0, ymax = max(posterior_3.pdf(grid)), color = 'green', linestyles='--', lw=1, label = 'Posterior 95% bounds')\n",
    "plt.vlines(x=posterior_3.ppf(0.975), ymin = 0, ymax = max(posterior_3.pdf(grid)), color = 'green', linestyles='--', lw=1)\n",
    "plt.xlabel('$\\\\theta$')\n",
    "plt.ylabel('density')\n",
    "plt.legend()\n",
    "plt.show()"
   ]
  },
  {
   "cell_type": "markdown",
   "metadata": {},
   "source": [
    "### In terms of vaccine effectiveness"
   ]
  },
  {
   "cell_type": "code",
   "execution_count": null,
   "metadata": {},
   "outputs": [],
   "source": [
    "grid = np.linspace(0.0001, 0.9999, 1000)\n",
    "ve_grid = 1 - grid / (1 - grid)\n",
    "ve_y = prior.pdf(grid) / ((2 - ve_grid) ** 2)\n",
    "\n",
    "plt.figure(figsize=(10, 7))\n",
    "plt.plot(ve_grid, ve_y, color = 'black')\n",
    "plt.fill_between(ve_grid, np.zeros_like(ve_grid),  ve_y, color = 'blue', alpha = 0.3)\n",
    "plt.title('Prior probability for VE')\n",
    "plt.vlines(x=(1 - 2*prior.mean())/(1 - prior.mean()), ymin = 0, ymax = max(ve_y), color = 'black', linestyles='--', label = 'VE at prior mean $\\\\theta$')\n",
    "plt.xlim((-1, 1))\n",
    "plt.xlabel('VE')\n",
    "plt.ylabel('density')\n",
    "plt.legend()\n",
    "plt.show()"
   ]
  },
  {
   "cell_type": "code",
   "execution_count": null,
   "metadata": {},
   "outputs": [],
   "source": [
    "grid = np.linspace(0.0001, 0.9999, 1000)\n",
    "ve_grid = 1 - grid / (1 - grid)\n",
    "ve_y = posterior_1.pdf(grid) / ((2 - ve_grid) ** 2)\n",
    "\n",
    "plt.figure(figsize=(10, 7))\n",
    "plt.plot(ve_grid, ve_y, color = 'black')\n",
    "plt.fill_between(ve_grid, np.zeros_like(ve_grid),  ve_y, color = 'blue', alpha = 0.3)\n",
    "plt.title('Posterior probability for VE')\n",
    "plt.vlines(x=(1 - 2*posterior_1.mean())/(1 - posterior_1.mean()), ymin = 0, ymax = max(ve_y), color = 'black', linestyles='--', label = 'Posterior mean VE')\n",
    "plt.vlines(x=(1 - 2*posterior_1.ppf(0.025))/(1 - posterior_1.ppf(0.025)), ymin = 0, ymax = max(ve_y), color = 'green', linestyles='--', lw=1, label = 'Posterior 95% bounds')\n",
    "plt.vlines(x=(1 - 2*posterior_1.ppf(0.975))/(1 - posterior_1.ppf(0.975)), ymin = 0, ymax = max(ve_y), color = 'green', linestyles='--', lw=1)\n",
    "plt.xlim((0.8, 1))\n",
    "plt.xlabel('VE')\n",
    "plt.ylabel('density')\n",
    "plt.legend()\n",
    "plt.show()"
   ]
  },
  {
   "cell_type": "code",
   "execution_count": null,
   "metadata": {},
   "outputs": [],
   "source": [
    "grid = np.linspace(0.0001, 0.9999, 1000)\n",
    "ve_grid = 1 - grid / (1 - grid)\n",
    "ve_y = posterior_2.pdf(grid) / ((2 - ve_grid) ** 2)\n",
    "\n",
    "plt.figure(figsize=(10, 7))\n",
    "plt.plot(ve_grid, ve_y, color = 'black')\n",
    "plt.fill_between(ve_grid, np.zeros_like(ve_grid),  ve_y, color = 'blue', alpha = 0.3)\n",
    "plt.title('Posterior probability for VE')\n",
    "plt.vlines(x=(1 - 2*posterior_2.mean())/(1 - posterior_2.mean()), ymin = 0, ymax = max(ve_y), color = 'black', linestyles='--', label = 'Posterior mean VE')\n",
    "plt.vlines(x=(1 - 2*posterior_2.ppf(0.025))/(1 - posterior_2.ppf(0.025)), ymin = 0, ymax = max(ve_y), color = 'green', linestyles='--', lw=1, label = 'Posterior 95% bounds')\n",
    "plt.vlines(x=(1 - 2*posterior_2.ppf(0.975))/(1 - posterior_2.ppf(0.975)), ymin = 0, ymax = max(ve_y), color = 'green', linestyles='--', lw=1)\n",
    "plt.xlim((0.8, 1))\n",
    "plt.xlabel('VE')\n",
    "plt.ylabel('density')\n",
    "plt.legend()\n",
    "plt.show()"
   ]
  },
  {
   "cell_type": "code",
   "execution_count": null,
   "metadata": {},
   "outputs": [],
   "source": [
    "grid = np.linspace(0.0001, 0.9999, 1000)\n",
    "ve_grid = 1 - grid / (1 - grid)\n",
    "ve_y = posterior_3.pdf(grid) / ((2 - ve_grid) ** 2)\n",
    "\n",
    "plt.figure(figsize=(10, 7))\n",
    "plt.plot(ve_grid, ve_y, color = 'black')\n",
    "plt.fill_between(ve_grid, np.zeros_like(ve_grid),  ve_y, color = 'blue', alpha = 0.3)\n",
    "plt.title('Posterior probability for VE')\n",
    "plt.vlines(x=(1 - 2*posterior_3.mean())/(1 - posterior_3.mean()), ymin = 0, ymax = max(ve_y), color = 'black', linestyles='--', label = 'VE at posterior mean $\\\\theta$')\n",
    "plt.vlines(x=(1 - 2*posterior_3.ppf(0.025))/(1 - posterior_3.ppf(0.025)), ymin = 0, ymax = max(ve_y), color = 'green', linestyles='--', lw=1, label = 'Posterior 95% bounds')\n",
    "plt.vlines(x=(1 - 2*posterior_3.ppf(0.975))/(1 - posterior_3.ppf(0.975)), ymin = 0, ymax = max(ve_y), color = 'green', linestyles='--', lw=1)\n",
    "plt.xlim((0.8, 1))\n",
    "plt.xlabel('VE')\n",
    "plt.ylabel('unnormalized density')\n",
    "plt.legend()\n",
    "plt.show()"
   ]
  },
  {
   "cell_type": "code",
   "execution_count": null,
   "metadata": {},
   "outputs": [],
   "source": [
    "grid = np.linspace(0.0001, 0.9999, 1000)\n",
    "ve_grid = 1 - grid / (1 - grid)\n",
    "ve_y = posterior_4.pdf(grid) / ((2 - ve_grid) ** 2)\n",
    "\n",
    "plt.figure(figsize=(10, 7))\n",
    "plt.plot(ve_grid, ve_y, color = 'black')\n",
    "plt.fill_between(ve_grid, np.zeros_like(ve_grid),  ve_y, color = 'blue', alpha = 0.3)\n",
    "plt.title('Posterior probability for Pfizer vaccine efficacy')\n",
    "plt.vlines(x=(1 - 2*posterior_4.mean())/(1 - posterior_4.mean()), ymin = 0, ymax = max(ve_y), color = 'black', linestyles='--', label = 'VE at posterior mean $\\\\theta$')\n",
    "plt.vlines(x=(1 - 2*posterior_4.ppf(0.025))/(1 - posterior_4.ppf(0.025)), ymin = 0, ymax = max(ve_y), color = 'green', linestyles='--', lw=1, label = 'Posterior 95% bounds')\n",
    "plt.vlines(x=(1 - 2*posterior_4.ppf(0.975))/(1 - posterior_4.ppf(0.975)), ymin = 0, ymax = max(ve_y), color = 'green', linestyles='--', lw=1)\n",
    "plt.xlim((0.8, 1))\n",
    "plt.xlabel('VE')\n",
    "plt.ylabel('density')\n",
    "plt.legend()\n",
    "plt.show()"
   ]
  }
 ],
 "metadata": {
  "kernelspec": {
   "display_name": "Python 3",
   "language": "python",
   "name": "python3"
  },
  "language_info": {
   "codemirror_mode": {
    "name": "ipython",
    "version": 3
   },
   "file_extension": ".py",
   "mimetype": "text/x-python",
   "name": "python",
   "nbconvert_exporter": "python",
   "pygments_lexer": "ipython3",
   "version": "3.8.6"
  }
 },
 "nbformat": 4,
 "nbformat_minor": 4
}
