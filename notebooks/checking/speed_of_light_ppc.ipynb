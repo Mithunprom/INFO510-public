{
 "cells": [
  {
   "cell_type": "markdown",
   "metadata": {},
   "source": [
    "# Posterior predictive checks for the speed of light data"
   ]
  },
  {
   "cell_type": "code",
   "execution_count": 1,
   "metadata": {},
   "outputs": [],
   "source": [
    "import numpy as np, pandas as pd, matplotlib.pyplot as plt, pymc3 as pm, arviz as az, os, scipy as sp\n",
    "from scipy import stats\n",
    "import plot_tools"
   ]
  },
  {
   "cell_type": "markdown",
   "metadata": {},
   "source": [
    "## Normal model"
   ]
  },
  {
   "cell_type": "code",
   "execution_count": 2,
   "metadata": {},
   "outputs": [],
   "source": [
    "# From Aki Vehtari's demos\n",
    "# data\n",
    "data_path = os.path.abspath(\n",
    "    os.path.join(\n",
    "        os.path.curdir,\n",
    "        'utilities_and_data',\n",
    "        'light.txt'\n",
    "    )\n",
    ")\n",
    "y = np.loadtxt(data_path)\n",
    "#y = np.concatenate((y[:np.argmin(y)], y[np.argmin(y)+1:])) # Drop the lowest outlier, if desired\n",
    "n = len(y)\n",
    "s2 = np.var(y, ddof=1)  # Here ddof=1 is used to get the sample estimate.\n",
    "s = np.sqrt(s2)\n",
    "my = np.mean(y)"
   ]
  },
  {
   "cell_type": "code",
   "execution_count": 3,
   "metadata": {},
   "outputs": [],
   "source": [
    "# scipy doesn't have the scaled inverse-chi-squared distribution, so we do the scale and inverse part ourselves\n",
    "def get_sigma2(sd, n):\n",
    "    x = sp.stats.chi2.rvs(n-1)\n",
    "    y = 1/x\n",
    "    y *= (n-1) * sd**2\n",
    "    return y\n",
    "\n",
    "# this is just a normal\n",
    "def get_mu(ybar, sigma, n):\n",
    "    return sp.stats.norm.rvs(ybar, sigma / np.sqrt(n))"
   ]
  },
  {
   "cell_type": "code",
   "execution_count": 4,
   "metadata": {},
   "outputs": [],
   "source": [
    "def sample_posterior(ybar, sd, n):\n",
    "    sigma2 = get_sigma2(sd, n)\n",
    "    mu = get_mu(ybar, sigma2 ** (1/2), n)\n",
    "    return (mu, sigma2)\n",
    "\n",
    "def sample_posterior_predictive(ybar, sd, n):\n",
    "    mu, sigma2 = sample_posterior(ybar, sd, n)\n",
    "    return sp.stats.norm.rvs(mu, sigma2 ** 0.5)"
   ]
  },
  {
   "cell_type": "code",
   "execution_count": 5,
   "metadata": {},
   "outputs": [],
   "source": [
    "replicates = np.array([[sample_posterior_predictive(my, s, n) for i in range(n)] for j in range(2000)])"
   ]
  },
  {
   "cell_type": "code",
   "execution_count": 6,
   "metadata": {},
   "outputs": [
    {
     "data": {
      "image/png": "[encoded data removed]",
      "text/plain": [
       "<Figure size 648x864 with 10 Axes>"
      ]
     },
     "metadata": {
      "needs_background": "light"
     },
     "output_type": "display_data"
    }
   ],
   "source": [
    "# plot them along with the real data set in random order subplot\n",
    "fig, axes = plt.subplots(5, 2, sharex=True, sharey=True, figsize=(9, 12))\n",
    "fig.subplots_adjust(top=0.95, wspace=0.4)\n",
    "order = np.random.permutation(10)\n",
    "choices = np.random.permutation(2000)\n",
    "for i, ax in enumerate(axes.flat):\n",
    "    ax.hist(\n",
    "        replicates[choices[order[i]]] if order[i] < 9 else y,\n",
    "        np.arange(-45, 65, 5)\n",
    "        #color = 'blue' if order[i] < 9 else 'red'\n",
    "    )\n",
    "    plot_tools.modify_axes.only_x(ax)\n",
    "axes[0, 0].set_xlim([-50, 70])\n",
    "fig.suptitle(\n",
    "    \"Light speed example: Observed data + Replicated datasets.\\n\"\n",
    "    \"Can you spot which one is the observed data?\"\n",
    ");"
   ]
  },
  {
   "cell_type": "code",
   "execution_count": 7,
   "metadata": {},
   "outputs": [
    {
     "data": {
      "image/png": "[encoded data removed]",
      "text/plain": [
       "<Figure size 432x288 with 1 Axes>"
      ]
     },
     "metadata": {
      "needs_background": "light"
     },
     "output_type": "display_data"
    }
   ],
   "source": [
    "minimums = np.min(replicates, axis = 1)\n",
    "plt.hist(minimums, bins=np.arange(-50, 50, 2))\n",
    "plt.vlines(x=np.min(y), ymin=0, ymax=300, color = 'red')\n",
    "plt.show()"
   ]
  },
  {
   "cell_type": "code",
   "execution_count": 8,
   "metadata": {},
   "outputs": [
    {
     "name": "stderr",
     "output_type": "stream",
     "text": [
      "Auto-assigning NUTS sampler...\n",
      "Initializing NUTS using jitter+adapt_diag...\n",
      "Multiprocess sampling (2 chains in 2 jobs)\n",
      "NUTS: [sigma_log, mu]\n"
     ]
    },
    {
     "data": {
      "text/html": [
       "\n",
       "    <div>\n",
       "        <style>\n",
       "            /* Turns off some styling */\n",
       "            progress {\n",
       "                /* gets rid of default border in Firefox and Opera. */\n",
       "                border: none;\n",
       "                /* Needs to be in here for Safari polyfill so background images work as expected. */\n",
       "                background-size: auto;\n",
       "            }\n",
       "            .progress-bar-interrupted, .progress-bar-interrupted::-webkit-progress-bar {\n",
       "                background: #F44336;\n",
       "            }\n",
       "        </style>\n",
       "      <progress value='6000' class='' max='6000' style='width:300px; height:20px; vertical-align: middle;'></progress>\n",
       "      100.00% [6000/6000 00:01<00:00 Sampling 2 chains, 0 divergences]\n",
       "    </div>\n",
       "    "
      ],
      "text/plain": [
       "<IPython.core.display.HTML object>"
      ]
     },
     "metadata": {},
     "output_type": "display_data"
    },
    {
     "name": "stderr",
     "output_type": "stream",
     "text": [
      "Sampling 2 chains for 1_000 tune and 2_000 draw iterations (2_000 + 4_000 draws total) took 2 seconds.\n"
     ]
    },
    {
     "data": {
      "text/html": [
       "\n",
       "    <div>\n",
       "        <style>\n",
       "            /* Turns off some styling */\n",
       "            progress {\n",
       "                /* gets rid of default border in Firefox and Opera. */\n",
       "                border: none;\n",
       "                /* Needs to be in here for Safari polyfill so background images work as expected. */\n",
       "                background-size: auto;\n",
       "            }\n",
       "            .progress-bar-interrupted, .progress-bar-interrupted::-webkit-progress-bar {\n",
       "                background: #F44336;\n",
       "            }\n",
       "        </style>\n",
       "      <progress value='4000' class='' max='4000' style='width:300px; height:20px; vertical-align: middle;'></progress>\n",
       "      100.00% [4000/4000 00:02<00:00]\n",
       "    </div>\n",
       "    "
      ],
      "text/plain": [
       "<IPython.core.display.HTML object>"
      ]
     },
     "metadata": {},
     "output_type": "display_data"
    }
   ],
   "source": [
    "# Normal model in PyMC3\n",
    "with pm.Model() as model:\n",
    "    mu = pm.Flat('mu')\n",
    "    sigma_log = pm.Flat('sigma_log')\n",
    "    sigma = pm.Deterministic('sigma', pm.math.exp(sigma_log))\n",
    "    y_ = pm.Normal('y', mu = mu, sigma = sigma, observed = y)\n",
    "    \n",
    "    trace_norm = pm.sample(2000, return_inferencedata=True)\n",
    "    \n",
    "    replicates = pm.sample_posterior_predictive(trace_norm)"
   ]
  },
  {
   "cell_type": "markdown",
   "metadata": {},
   "source": [
    "## Student T model"
   ]
  },
  {
   "cell_type": "code",
   "execution_count": 9,
   "metadata": {},
   "outputs": [
    {
     "name": "stderr",
     "output_type": "stream",
     "text": [
      "Auto-assigning NUTS sampler...\n",
      "Initializing NUTS using jitter+adapt_diag...\n",
      "Multiprocess sampling (2 chains in 2 jobs)\n",
      "NUTS: [sigma_log, mu]\n"
     ]
    },
    {
     "data": {
      "text/html": [
       "\n",
       "    <div>\n",
       "        <style>\n",
       "            /* Turns off some styling */\n",
       "            progress {\n",
       "                /* gets rid of default border in Firefox and Opera. */\n",
       "                border: none;\n",
       "                /* Needs to be in here for Safari polyfill so background images work as expected. */\n",
       "                background-size: auto;\n",
       "            }\n",
       "            .progress-bar-interrupted, .progress-bar-interrupted::-webkit-progress-bar {\n",
       "                background: #F44336;\n",
       "            }\n",
       "        </style>\n",
       "      <progress value='6000' class='' max='6000' style='width:300px; height:20px; vertical-align: middle;'></progress>\n",
       "      100.00% [6000/6000 00:02<00:00 Sampling 2 chains, 0 divergences]\n",
       "    </div>\n",
       "    "
      ],
      "text/plain": [
       "<IPython.core.display.HTML object>"
      ]
     },
     "metadata": {},
     "output_type": "display_data"
    },
    {
     "name": "stderr",
     "output_type": "stream",
     "text": [
      "Sampling 2 chains for 1_000 tune and 2_000 draw iterations (2_000 + 4_000 draws total) took 2 seconds.\n"
     ]
    },
    {
     "data": {
      "text/html": [
       "\n",
       "    <div>\n",
       "        <style>\n",
       "            /* Turns off some styling */\n",
       "            progress {\n",
       "                /* gets rid of default border in Firefox and Opera. */\n",
       "                border: none;\n",
       "                /* Needs to be in here for Safari polyfill so background images work as expected. */\n",
       "                background-size: auto;\n",
       "            }\n",
       "            .progress-bar-interrupted, .progress-bar-interrupted::-webkit-progress-bar {\n",
       "                background: #F44336;\n",
       "            }\n",
       "        </style>\n",
       "      <progress value='4000' class='' max='4000' style='width:300px; height:20px; vertical-align: middle;'></progress>\n",
       "      100.00% [4000/4000 00:02<00:00]\n",
       "    </div>\n",
       "    "
      ],
      "text/plain": [
       "<IPython.core.display.HTML object>"
      ]
     },
     "metadata": {},
     "output_type": "display_data"
    }
   ],
   "source": [
    "# Student T Model\n",
    "with pm.Model() as model:\n",
    "    mu = pm.Flat('mu')\n",
    "    sigma_log = pm.Flat('sigma_log')\n",
    "    sigma = pm.Deterministic('sigma', pm.math.exp(sigma_log))\n",
    "    y_ = pm.StudentT('y', nu = 3, mu = mu, sigma = sigma, observed = y)\n",
    "    \n",
    "    trace_t = pm.sample(2000, return_inferencedata=True)\n",
    "    \n",
    "    replicates = pm.sample_posterior_predictive(trace_t)"
   ]
  },
  {
   "cell_type": "code",
   "execution_count": 10,
   "metadata": {},
   "outputs": [
    {
     "data": {
      "image/png": "[encoded data removed]",
      "text/plain": [
       "<Figure size 648x864 with 10 Axes>"
      ]
     },
     "metadata": {
      "needs_background": "light"
     },
     "output_type": "display_data"
    }
   ],
   "source": [
    "# plot them along with the real data set in random order subplot\n",
    "fig, axes = plt.subplots(5, 2, sharex=True, sharey=True, figsize=(9, 12))\n",
    "fig.subplots_adjust(top=0.95, wspace=0.4)\n",
    "#np.random.seed(824792)\n",
    "order = np.random.permutation(10)\n",
    "choices = np.random.permutation(2000)\n",
    "for i, ax in enumerate(axes.flat):\n",
    "    ax.hist(\n",
    "        replicates['y'][choices[order[i]]] if order[i] < 9 else y,\n",
    "        np.arange(-75, 100, 5)\n",
    "    )\n",
    "    plot_tools.modify_axes.only_x(ax)\n",
    "axes[0, 0].set_xlim([-75, 100])\n",
    "fig.suptitle(\n",
    "    \"Light speed example: Observed data + Replicated datasets.\\n\"\n",
    "    \"Can you spot which one is the observed data?\"\n",
    ");"
   ]
  },
  {
   "cell_type": "code",
   "execution_count": 11,
   "metadata": {},
   "outputs": [
    {
     "data": {
      "image/png": "[encoded data removed]",
      "text/plain": [
       "<Figure size 432x288 with 1 Axes>"
      ]
     },
     "metadata": {
      "needs_background": "light"
     },
     "output_type": "display_data"
    }
   ],
   "source": [
    "minimums = np.min(replicates['y'], axis = 1)\n",
    "plt.hist(minimums, bins=np.arange(-250, 100, 4))\n",
    "plt.vlines(x=np.min(y), ymin=0, ymax=200, color = 'red')\n",
    "plt.show()"
   ]
  },
  {
   "cell_type": "markdown",
   "metadata": {},
   "source": [
    "## Cauchy model"
   ]
  },
  {
   "cell_type": "code",
   "execution_count": 12,
   "metadata": {},
   "outputs": [
    {
     "name": "stderr",
     "output_type": "stream",
     "text": [
      "Auto-assigning NUTS sampler...\n",
      "Initializing NUTS using jitter+adapt_diag...\n",
      "Multiprocess sampling (2 chains in 2 jobs)\n",
      "NUTS: [alpha, beta]\n"
     ]
    },
    {
     "data": {
      "text/html": [
       "\n",
       "    <div>\n",
       "        <style>\n",
       "            /* Turns off some styling */\n",
       "            progress {\n",
       "                /* gets rid of default border in Firefox and Opera. */\n",
       "                border: none;\n",
       "                /* Needs to be in here for Safari polyfill so background images work as expected. */\n",
       "                background-size: auto;\n",
       "            }\n",
       "            .progress-bar-interrupted, .progress-bar-interrupted::-webkit-progress-bar {\n",
       "                background: #F44336;\n",
       "            }\n",
       "        </style>\n",
       "      <progress value='6000' class='' max='6000' style='width:300px; height:20px; vertical-align: middle;'></progress>\n",
       "      100.00% [6000/6000 00:01<00:00 Sampling 2 chains, 0 divergences]\n",
       "    </div>\n",
       "    "
      ],
      "text/plain": [
       "<IPython.core.display.HTML object>"
      ]
     },
     "metadata": {},
     "output_type": "display_data"
    },
    {
     "name": "stderr",
     "output_type": "stream",
     "text": [
      "Sampling 2 chains for 1_000 tune and 2_000 draw iterations (2_000 + 4_000 draws total) took 2 seconds.\n"
     ]
    },
    {
     "data": {
      "text/html": [
       "\n",
       "    <div>\n",
       "        <style>\n",
       "            /* Turns off some styling */\n",
       "            progress {\n",
       "                /* gets rid of default border in Firefox and Opera. */\n",
       "                border: none;\n",
       "                /* Needs to be in here for Safari polyfill so background images work as expected. */\n",
       "                background-size: auto;\n",
       "            }\n",
       "            .progress-bar-interrupted, .progress-bar-interrupted::-webkit-progress-bar {\n",
       "                background: #F44336;\n",
       "            }\n",
       "        </style>\n",
       "      <progress value='4000' class='' max='4000' style='width:300px; height:20px; vertical-align: middle;'></progress>\n",
       "      100.00% [4000/4000 00:01<00:00]\n",
       "    </div>\n",
       "    "
      ],
      "text/plain": [
       "<IPython.core.display.HTML object>"
      ]
     },
     "metadata": {},
     "output_type": "display_data"
    }
   ],
   "source": [
    "# Cauchy Model\n",
    "with pm.Model() as model:\n",
    "    beta = pm.HalfCauchy('beta', 5)\n",
    "    alpha = pm.Normal('alpha', 0, 50)\n",
    "    y_ = pm.Cauchy('y', alpha = alpha, beta = beta, observed = y)\n",
    "    \n",
    "    trace_cauchy = pm.sample(2000, return_inferencedata=True)\n",
    "    \n",
    "    replicates = pm.sample_posterior_predictive(trace_cauchy)"
   ]
  },
  {
   "cell_type": "code",
   "execution_count": 13,
   "metadata": {},
   "outputs": [
    {
     "data": {
      "image/png": "[encoded data removed]",
      "text/plain": [
       "<Figure size 648x864 with 10 Axes>"
      ]
     },
     "metadata": {
      "needs_background": "light"
     },
     "output_type": "display_data"
    }
   ],
   "source": [
    "# plot them along with the real data set in random order subplot\n",
    "fig, axes = plt.subplots(5, 2, sharex=True, sharey=True, figsize=(9, 12))\n",
    "fig.subplots_adjust(top=0.95, wspace=0.4)\n",
    "order = np.random.permutation(10)\n",
    "choices = np.random.permutation(2000)\n",
    "for i, ax in enumerate(axes.flat):\n",
    "    ax.hist(\n",
    "        replicates['y'][choices[order[i]]] if order[i] < 9 else y,\n",
    "        np.arange(-75, 100, 5)\n",
    "    )\n",
    "    plot_tools.modify_axes.only_x(ax)\n",
    "axes[0, 0].set_xlim([-75, 100])\n",
    "fig.suptitle(\n",
    "    \"Light speed example: Observed data + Replicated datasets.\\n\"\n",
    "    \"Can you spot which one is the observed data?\"\n",
    ");"
   ]
  },
  {
   "cell_type": "code",
   "execution_count": 14,
   "metadata": {},
   "outputs": [
    {
     "data": {
      "image/png": "[encoded data removed]",
      "text/plain": [
       "<Figure size 432x288 with 1 Axes>"
      ]
     },
     "metadata": {
      "needs_background": "light"
     },
     "output_type": "display_data"
    }
   ],
   "source": [
    "minimums = np.min(replicates['y'], axis = 1)\n",
    "plt.hist(minimums, bins=np.arange(-750, 100, 4))\n",
    "plt.vlines(x=np.min(y), ymin=0, ymax=70, color = 'red')\n",
    "plt.show()"
   ]
  },
  {
   "cell_type": "markdown",
   "metadata": {},
   "source": [
    "### Model comparison using PSIS-LOO"
   ]
  },
  {
   "cell_type": "code",
   "execution_count": 15,
   "metadata": {},
   "outputs": [
    {
     "name": "stderr",
     "output_type": "stream",
     "text": [
      "/home/dylan/.conda/envs/info510/lib/python3.8/site-packages/arviz/stats/stats.py:145: UserWarning: The default method used to estimate the weights for each model,has changed from BB-pseudo-BMA to stacking\n",
      "  warnings.warn(\n",
      "/home/dylan/.conda/envs/info510/lib/python3.8/site-packages/arviz/stats/stats.py:655: UserWarning: Estimated shape parameter of Pareto distribution is greater than 0.7 for one or more samples. You should consider using a more robust model, this is because importance sampling is less likely to work well if the marginal posterior and LOO posterior are very different. This is more likely to happen with a non-robust model and highly influential observations.\n",
      "  warnings.warn(\n"
     ]
    },
    {
     "data": {
      "text/html": [
       "<div>\n",
       "<style scoped>\n",
       "    .dataframe tbody tr th:only-of-type {\n",
       "        vertical-align: middle;\n",
       "    }\n",
       "\n",
       "    .dataframe tbody tr th {\n",
       "        vertical-align: top;\n",
       "    }\n",
       "\n",
       "    .dataframe thead th {\n",
       "        text-align: right;\n",
       "    }\n",
       "</style>\n",
       "<table border=\"1\" class=\"dataframe\">\n",
       "  <thead>\n",
       "    <tr style=\"text-align: right;\">\n",
       "      <th></th>\n",
       "      <th>rank</th>\n",
       "      <th>loo</th>\n",
       "      <th>p_loo</th>\n",
       "      <th>d_loo</th>\n",
       "      <th>weight</th>\n",
       "      <th>se</th>\n",
       "      <th>dse</th>\n",
       "      <th>warning</th>\n",
       "      <th>loo_scale</th>\n",
       "    </tr>\n",
       "  </thead>\n",
       "  <tbody>\n",
       "    <tr>\n",
       "      <th>studentt</th>\n",
       "      <td>0</td>\n",
       "      <td>-217.939102</td>\n",
       "      <td>1.996512</td>\n",
       "      <td>0.000000</td>\n",
       "      <td>8.241645e-01</td>\n",
       "      <td>11.442832</td>\n",
       "      <td>0.000000</td>\n",
       "      <td>False</td>\n",
       "      <td>log</td>\n",
       "    </tr>\n",
       "    <tr>\n",
       "      <th>cauchy</th>\n",
       "      <td>1</td>\n",
       "      <td>-220.915495</td>\n",
       "      <td>2.111113</td>\n",
       "      <td>2.976393</td>\n",
       "      <td>1.758355e-01</td>\n",
       "      <td>9.250870</td>\n",
       "      <td>3.782918</td>\n",
       "      <td>False</td>\n",
       "      <td>log</td>\n",
       "    </tr>\n",
       "    <tr>\n",
       "      <th>normal</th>\n",
       "      <td>2</td>\n",
       "      <td>-259.586895</td>\n",
       "      <td>14.008520</td>\n",
       "      <td>41.647792</td>\n",
       "      <td>4.967138e-13</td>\n",
       "      <td>29.435276</td>\n",
       "      <td>21.341398</td>\n",
       "      <td>True</td>\n",
       "      <td>log</td>\n",
       "    </tr>\n",
       "  </tbody>\n",
       "</table>\n",
       "</div>"
      ],
      "text/plain": [
       "          rank         loo      p_loo      d_loo        weight         se  \\\n",
       "studentt     0 -217.939102   1.996512   0.000000  8.241645e-01  11.442832   \n",
       "cauchy       1 -220.915495   2.111113   2.976393  1.758355e-01   9.250870   \n",
       "normal       2 -259.586895  14.008520  41.647792  4.967138e-13  29.435276   \n",
       "\n",
       "                dse  warning loo_scale  \n",
       "studentt   0.000000    False       log  \n",
       "cauchy     3.782918    False       log  \n",
       "normal    21.341398     True       log  "
      ]
     },
     "execution_count": 15,
     "metadata": {},
     "output_type": "execute_result"
    }
   ],
   "source": [
    "az.compare({'normal':trace_norm, 'studentt':trace_t, 'cauchy':trace_cauchy}, ic='loo')"
   ]
  },
  {
   "cell_type": "markdown",
   "metadata": {},
   "source": [
    "Note the warnings about the Pareto shape parameter for the normal model. This indicates the presence of influential outliers in the non-robust normal model. The same problem does not appear with the StudentT and Cauchy models because these likelihoods are robust to outliers, and not strongly influenced by the one point far to the left of the bulk of the distribution."
   ]
  },
  {
   "cell_type": "code",
   "execution_count": 16,
   "metadata": {},
   "outputs": [
    {
     "name": "stderr",
     "output_type": "stream",
     "text": [
      "/home/dylan/.conda/envs/info510/lib/python3.8/site-packages/arviz/stats/stats.py:655: UserWarning: Estimated shape parameter of Pareto distribution is greater than 0.7 for one or more samples. You should consider using a more robust model, this is because importance sampling is less likely to work well if the marginal posterior and LOO posterior are very different. This is more likely to happen with a non-robust model and highly influential observations.\n",
      "  warnings.warn(\n"
     ]
    },
    {
     "data": {
      "text/plain": [
       "Computed from 4000 by 66 log-likelihood matrix\n",
       "\n",
       "         Estimate       SE\n",
       "elpd_loo  -259.59    29.44\n",
       "p_loo       14.01        -\n",
       "\n",
       "There has been a warning during the calculation. Please check the results.\n",
       "------\n",
       "\n",
       "Pareto k diagnostic values:\n",
       "                         Count   Pct.\n",
       "(-Inf, 0.5]   (good)       65   98.5%\n",
       " (0.5, 0.7]   (ok)          0    0.0%\n",
       "   (0.7, 1]   (bad)         0    0.0%\n",
       "   (1, Inf)   (very bad)    1    1.5%"
      ]
     },
     "execution_count": 16,
     "metadata": {},
     "output_type": "execute_result"
    }
   ],
   "source": [
    "az.loo(trace_norm, pointwise = True)"
   ]
  },
  {
   "cell_type": "code",
   "execution_count": 17,
   "metadata": {},
   "outputs": [
    {
     "name": "stderr",
     "output_type": "stream",
     "text": [
      "/home/dylan/.conda/envs/info510/lib/python3.8/site-packages/arviz/stats/stats.py:655: UserWarning: Estimated shape parameter of Pareto distribution is greater than 0.7 for one or more samples. You should consider using a more robust model, this is because importance sampling is less likely to work well if the marginal posterior and LOO posterior are very different. This is more likely to happen with a non-robust model and highly influential observations.\n",
      "  warnings.warn(\n"
     ]
    },
    {
     "data": {
      "text/html": [
       "<div><svg style=\"position: absolute; width: 0; height: 0; overflow: hidden\">\n",
       "<defs>\n",
       "<symbol id=\"icon-database\" viewBox=\"0 0 32 32\">\n",
       "<path d=\"M16 0c-8.837 0-16 2.239-16 5v4c0 2.761 7.163 5 16 5s16-2.239 16-5v-4c0-2.761-7.163-5-16-5z\"></path>\n",
       "<path d=\"M16 17c-8.837 0-16-2.239-16-5v6c0 2.761 7.163 5 16 5s16-2.239 16-5v-6c0 2.761-7.163 5-16 5z\"></path>\n",
       "<path d=\"M16 26c-8.837 0-16-2.239-16-5v6c0 2.761 7.163 5 16 5s16-2.239 16-5v-6c0 2.761-7.163 5-16 5z\"></path>\n",
       "</symbol>\n",
       "<symbol id=\"icon-file-text2\" viewBox=\"0 0 32 32\">\n",
       "<path d=\"M28.681 7.159c-0.694-0.947-1.662-2.053-2.724-3.116s-2.169-2.030-3.116-2.724c-1.612-1.182-2.393-1.319-2.841-1.319h-15.5c-1.378 0-2.5 1.121-2.5 2.5v27c0 1.378 1.122 2.5 2.5 2.5h23c1.378 0 2.5-1.122 2.5-2.5v-19.5c0-0.448-0.137-1.23-1.319-2.841zM24.543 5.457c0.959 0.959 1.712 1.825 2.268 2.543h-4.811v-4.811c0.718 0.556 1.584 1.309 2.543 2.268zM28 29.5c0 0.271-0.229 0.5-0.5 0.5h-23c-0.271 0-0.5-0.229-0.5-0.5v-27c0-0.271 0.229-0.5 0.5-0.5 0 0 15.499-0 15.5 0v7c0 0.552 0.448 1 1 1h7v19.5z\"></path>\n",
       "<path d=\"M23 26h-14c-0.552 0-1-0.448-1-1s0.448-1 1-1h14c0.552 0 1 0.448 1 1s-0.448 1-1 1z\"></path>\n",
       "<path d=\"M23 22h-14c-0.552 0-1-0.448-1-1s0.448-1 1-1h14c0.552 0 1 0.448 1 1s-0.448 1-1 1z\"></path>\n",
       "<path d=\"M23 18h-14c-0.552 0-1-0.448-1-1s0.448-1 1-1h14c0.552 0 1 0.448 1 1s-0.448 1-1 1z\"></path>\n",
       "</symbol>\n",
       "</defs>\n",
       "</svg>\n",
       "<style>/* CSS stylesheet for displaying xarray objects in jupyterlab.\n",
       " *\n",
       " */\n",
       "\n",
       ":root {\n",
       "  --xr-font-color0: var(--jp-content-font-color0, rgba(0, 0, 0, 1));\n",
       "  --xr-font-color2: var(--jp-content-font-color2, rgba(0, 0, 0, 0.54));\n",
       "  --xr-font-color3: var(--jp-content-font-color3, rgba(0, 0, 0, 0.38));\n",
       "  --xr-border-color: var(--jp-border-color2, #e0e0e0);\n",
       "  --xr-disabled-color: var(--jp-layout-color3, #bdbdbd);\n",
       "  --xr-background-color: var(--jp-layout-color0, white);\n",
       "  --xr-background-color-row-even: var(--jp-layout-color1, white);\n",
       "  --xr-background-color-row-odd: var(--jp-layout-color2, #eeeeee);\n",
       "}\n",
       "\n",
       "html[theme=dark],\n",
       "body.vscode-dark {\n",
       "  --xr-font-color0: rgba(255, 255, 255, 1);\n",
       "  --xr-font-color2: rgba(255, 255, 255, 0.54);\n",
       "  --xr-font-color3: rgba(255, 255, 255, 0.38);\n",
       "  --xr-border-color: #1F1F1F;\n",
       "  --xr-disabled-color: #515151;\n",
       "  --xr-background-color: #111111;\n",
       "  --xr-background-color-row-even: #111111;\n",
       "  --xr-background-color-row-odd: #313131;\n",
       "}\n",
       "\n",
       ".xr-wrap {\n",
       "  display: block;\n",
       "  min-width: 300px;\n",
       "  max-width: 700px;\n",
       "}\n",
       "\n",
       ".xr-text-repr-fallback {\n",
       "  /* fallback to plain text repr when CSS is not injected (untrusted notebook) */\n",
       "  display: none;\n",
       "}\n",
       "\n",
       ".xr-header {\n",
       "  padding-top: 6px;\n",
       "  padding-bottom: 6px;\n",
       "  margin-bottom: 4px;\n",
       "  border-bottom: solid 1px var(--xr-border-color);\n",
       "}\n",
       "\n",
       ".xr-header > div,\n",
       ".xr-header > ul {\n",
       "  display: inline;\n",
       "  margin-top: 0;\n",
       "  margin-bottom: 0;\n",
       "}\n",
       "\n",
       ".xr-obj-type,\n",
       ".xr-array-name {\n",
       "  margin-left: 2px;\n",
       "  margin-right: 10px;\n",
       "}\n",
       "\n",
       ".xr-obj-type {\n",
       "  color: var(--xr-font-color2);\n",
       "}\n",
       "\n",
       ".xr-sections {\n",
       "  padding-left: 0 !important;\n",
       "  display: grid;\n",
       "  grid-template-columns: 150px auto auto 1fr 20px 20px;\n",
       "}\n",
       "\n",
       ".xr-section-item {\n",
       "  display: contents;\n",
       "}\n",
       "\n",
       ".xr-section-item input {\n",
       "  display: none;\n",
       "}\n",
       "\n",
       ".xr-section-item input + label {\n",
       "  color: var(--xr-disabled-color);\n",
       "}\n",
       "\n",
       ".xr-section-item input:enabled + label {\n",
       "  cursor: pointer;\n",
       "  color: var(--xr-font-color2);\n",
       "}\n",
       "\n",
       ".xr-section-item input:enabled + label:hover {\n",
       "  color: var(--xr-font-color0);\n",
       "}\n",
       "\n",
       ".xr-section-summary {\n",
       "  grid-column: 1;\n",
       "  color: var(--xr-font-color2);\n",
       "  font-weight: 500;\n",
       "}\n",
       "\n",
       ".xr-section-summary > span {\n",
       "  display: inline-block;\n",
       "  padding-left: 0.5em;\n",
       "}\n",
       "\n",
       ".xr-section-summary-in:disabled + label {\n",
       "  color: var(--xr-font-color2);\n",
       "}\n",
       "\n",
       ".xr-section-summary-in + label:before {\n",
       "  display: inline-block;\n",
       "  content: '►';\n",
       "  font-size: 11px;\n",
       "  width: 15px;\n",
       "  text-align: center;\n",
       "}\n",
       "\n",
       ".xr-section-summary-in:disabled + label:before {\n",
       "  color: var(--xr-disabled-color);\n",
       "}\n",
       "\n",
       ".xr-section-summary-in:checked + label:before {\n",
       "  content: '▼';\n",
       "}\n",
       "\n",
       ".xr-section-summary-in:checked + label > span {\n",
       "  display: none;\n",
       "}\n",
       "\n",
       ".xr-section-summary,\n",
       ".xr-section-inline-details {\n",
       "  padding-top: 4px;\n",
       "  padding-bottom: 4px;\n",
       "}\n",
       "\n",
       ".xr-section-inline-details {\n",
       "  grid-column: 2 / -1;\n",
       "}\n",
       "\n",
       ".xr-section-details {\n",
       "  display: none;\n",
       "  grid-column: 1 / -1;\n",
       "  margin-bottom: 5px;\n",
       "}\n",
       "\n",
       ".xr-section-summary-in:checked ~ .xr-section-details {\n",
       "  display: contents;\n",
       "}\n",
       "\n",
       ".xr-array-wrap {\n",
       "  grid-column: 1 / -1;\n",
       "  display: grid;\n",
       "  grid-template-columns: 20px auto;\n",
       "}\n",
       "\n",
       ".xr-array-wrap > label {\n",
       "  grid-column: 1;\n",
       "  vertical-align: top;\n",
       "}\n",
       "\n",
       ".xr-preview {\n",
       "  color: var(--xr-font-color3);\n",
       "}\n",
       "\n",
       ".xr-array-preview,\n",
       ".xr-array-data {\n",
       "  padding: 0 5px !important;\n",
       "  grid-column: 2;\n",
       "}\n",
       "\n",
       ".xr-array-data,\n",
       ".xr-array-in:checked ~ .xr-array-preview {\n",
       "  display: none;\n",
       "}\n",
       "\n",
       ".xr-array-in:checked ~ .xr-array-data,\n",
       ".xr-array-preview {\n",
       "  display: inline-block;\n",
       "}\n",
       "\n",
       ".xr-dim-list {\n",
       "  display: inline-block !important;\n",
       "  list-style: none;\n",
       "  padding: 0 !important;\n",
       "  margin: 0;\n",
       "}\n",
       "\n",
       ".xr-dim-list li {\n",
       "  display: inline-block;\n",
       "  padding: 0;\n",
       "  margin: 0;\n",
       "}\n",
       "\n",
       ".xr-dim-list:before {\n",
       "  content: '(';\n",
       "}\n",
       "\n",
       ".xr-dim-list:after {\n",
       "  content: ')';\n",
       "}\n",
       "\n",
       ".xr-dim-list li:not(:last-child):after {\n",
       "  content: ',';\n",
       "  padding-right: 5px;\n",
       "}\n",
       "\n",
       ".xr-has-index {\n",
       "  font-weight: bold;\n",
       "}\n",
       "\n",
       ".xr-var-list,\n",
       ".xr-var-item {\n",
       "  display: contents;\n",
       "}\n",
       "\n",
       ".xr-var-item > div,\n",
       ".xr-var-item label,\n",
       ".xr-var-item > .xr-var-name span {\n",
       "  background-color: var(--xr-background-color-row-even);\n",
       "  margin-bottom: 0;\n",
       "}\n",
       "\n",
       ".xr-var-item > .xr-var-name:hover span {\n",
       "  padding-right: 5px;\n",
       "}\n",
       "\n",
       ".xr-var-list > li:nth-child(odd) > div,\n",
       ".xr-var-list > li:nth-child(odd) > label,\n",
       ".xr-var-list > li:nth-child(odd) > .xr-var-name span {\n",
       "  background-color: var(--xr-background-color-row-odd);\n",
       "}\n",
       "\n",
       ".xr-var-name {\n",
       "  grid-column: 1;\n",
       "}\n",
       "\n",
       ".xr-var-dims {\n",
       "  grid-column: 2;\n",
       "}\n",
       "\n",
       ".xr-var-dtype {\n",
       "  grid-column: 3;\n",
       "  text-align: right;\n",
       "  color: var(--xr-font-color2);\n",
       "}\n",
       "\n",
       ".xr-var-preview {\n",
       "  grid-column: 4;\n",
       "}\n",
       "\n",
       ".xr-var-name,\n",
       ".xr-var-dims,\n",
       ".xr-var-dtype,\n",
       ".xr-preview,\n",
       ".xr-attrs dt {\n",
       "  white-space: nowrap;\n",
       "  overflow: hidden;\n",
       "  text-overflow: ellipsis;\n",
       "  padding-right: 10px;\n",
       "}\n",
       "\n",
       ".xr-var-name:hover,\n",
       ".xr-var-dims:hover,\n",
       ".xr-var-dtype:hover,\n",
       ".xr-attrs dt:hover {\n",
       "  overflow: visible;\n",
       "  width: auto;\n",
       "  z-index: 1;\n",
       "}\n",
       "\n",
       ".xr-var-attrs,\n",
       ".xr-var-data {\n",
       "  display: none;\n",
       "  background-color: var(--xr-background-color) !important;\n",
       "  padding-bottom: 5px !important;\n",
       "}\n",
       "\n",
       ".xr-var-attrs-in:checked ~ .xr-var-attrs,\n",
       ".xr-var-data-in:checked ~ .xr-var-data {\n",
       "  display: block;\n",
       "}\n",
       "\n",
       ".xr-var-data > table {\n",
       "  float: right;\n",
       "}\n",
       "\n",
       ".xr-var-name span,\n",
       ".xr-var-data,\n",
       ".xr-attrs {\n",
       "  padding-left: 25px !important;\n",
       "}\n",
       "\n",
       ".xr-attrs,\n",
       ".xr-var-attrs,\n",
       ".xr-var-data {\n",
       "  grid-column: 1 / -1;\n",
       "}\n",
       "\n",
       "dl.xr-attrs {\n",
       "  padding: 0;\n",
       "  margin: 0;\n",
       "  display: grid;\n",
       "  grid-template-columns: 125px auto;\n",
       "}\n",
       "\n",
       ".xr-attrs dt,\n",
       ".xr-attrs dd {\n",
       "  padding: 0;\n",
       "  margin: 0;\n",
       "  float: left;\n",
       "  padding-right: 10px;\n",
       "  width: auto;\n",
       "}\n",
       "\n",
       ".xr-attrs dt {\n",
       "  font-weight: normal;\n",
       "  grid-column: 1;\n",
       "}\n",
       "\n",
       ".xr-attrs dt:hover span {\n",
       "  display: inline-block;\n",
       "  background: var(--xr-background-color);\n",
       "  padding-right: 10px;\n",
       "}\n",
       "\n",
       ".xr-attrs dd {\n",
       "  grid-column: 2;\n",
       "  white-space: pre-wrap;\n",
       "  word-break: break-all;\n",
       "}\n",
       "\n",
       ".xr-icon-database,\n",
       ".xr-icon-file-text2 {\n",
       "  display: inline-block;\n",
       "  vertical-align: middle;\n",
       "  width: 1em;\n",
       "  height: 1.5em !important;\n",
       "  stroke-width: 0;\n",
       "  stroke: currentColor;\n",
       "  fill: currentColor;\n",
       "}\n",
       "</style><pre class='xr-text-repr-fallback'>&lt;xarray.DataArray &#x27;pareto_shape&#x27; (y_dim_0: 66)&gt;\n",
       "array([-0.06960245, -0.03345663,  0.05862373,  0.04740177,  0.03238724,\n",
       "        1.51078099, -0.07680666,  0.06729037,  0.07262871,  0.18907462,\n",
       "       -0.05120459,  0.01433957,  0.04740177,  0.06820454,  0.04799314,\n",
       "       -0.03721842, -0.01273915, -0.05120459, -0.02808758,  0.01791002,\n",
       "        0.04740177,  0.09722098, -0.00872468,  0.02531276, -0.00872468,\n",
       "       -0.06960245,  0.04799314,  0.06820454, -0.06960245, -0.05120459,\n",
       "       -0.01918269,  0.04799314, -0.06960245, -0.03345663, -0.03721842,\n",
       "        0.02531276, -0.00872468, -0.03345663, -0.03721842,  0.01433957,\n",
       "       -0.00872468, -0.01273915, -0.07680666, -0.07680666, -0.06960245,\n",
       "       -0.07680666, -0.02808758, -0.07680666, -0.03345663,  0.05862373,\n",
       "       -0.03345663,  0.02531276,  0.02531276,  0.04740177,  0.04019924,\n",
       "       -0.06960245,  0.04740177,  0.04799314,  0.02531276,  0.04799314,\n",
       "       -0.05120459, -0.07680666, -0.06960245, -0.05120459,  0.06729037,\n",
       "       -0.01273915])\n",
       "Coordinates:\n",
       "  * y_dim_0  (y_dim_0) int64 0 1 2 3 4 5 6 7 8 9 ... 57 58 59 60 61 62 63 64 65</pre><div class='xr-wrap' hidden><div class='xr-header'><div class='xr-obj-type'>xarray.DataArray</div><div class='xr-array-name'>'pareto_shape'</div><ul class='xr-dim-list'><li><span class='xr-has-index'>y_dim_0</span>: 66</li></ul></div><ul class='xr-sections'><li class='xr-section-item'><div class='xr-array-wrap'><input id='section-1815a59a-9632-48b4-b9a9-2ca15f42907f' class='xr-array-in' type='checkbox' checked><label for='section-1815a59a-9632-48b4-b9a9-2ca15f42907f' title='Show/hide data repr'><svg class='icon xr-icon-database'><use xlink:href='#icon-database'></use></svg></label><div class='xr-array-preview xr-preview'><span>-0.0696 -0.03346 0.05862 0.0474 ... -0.0696 -0.0512 0.06729 -0.01274</span></div><div class='xr-array-data'><pre>array([-0.06960245, -0.03345663,  0.05862373,  0.04740177,  0.03238724,\n",
       "        1.51078099, -0.07680666,  0.06729037,  0.07262871,  0.18907462,\n",
       "       -0.05120459,  0.01433957,  0.04740177,  0.06820454,  0.04799314,\n",
       "       -0.03721842, -0.01273915, -0.05120459, -0.02808758,  0.01791002,\n",
       "        0.04740177,  0.09722098, -0.00872468,  0.02531276, -0.00872468,\n",
       "       -0.06960245,  0.04799314,  0.06820454, -0.06960245, -0.05120459,\n",
       "       -0.01918269,  0.04799314, -0.06960245, -0.03345663, -0.03721842,\n",
       "        0.02531276, -0.00872468, -0.03345663, -0.03721842,  0.01433957,\n",
       "       -0.00872468, -0.01273915, -0.07680666, -0.07680666, -0.06960245,\n",
       "       -0.07680666, -0.02808758, -0.07680666, -0.03345663,  0.05862373,\n",
       "       -0.03345663,  0.02531276,  0.02531276,  0.04740177,  0.04019924,\n",
       "       -0.06960245,  0.04740177,  0.04799314,  0.02531276,  0.04799314,\n",
       "       -0.05120459, -0.07680666, -0.06960245, -0.05120459,  0.06729037,\n",
       "       -0.01273915])</pre></div></div></li><li class='xr-section-item'><input id='section-8dc6ecd8-c366-456a-903f-8110062e9417' class='xr-section-summary-in' type='checkbox'  checked><label for='section-8dc6ecd8-c366-456a-903f-8110062e9417' class='xr-section-summary' >Coordinates: <span>(1)</span></label><div class='xr-section-inline-details'></div><div class='xr-section-details'><ul class='xr-var-list'><li class='xr-var-item'><div class='xr-var-name'><span class='xr-has-index'>y_dim_0</span></div><div class='xr-var-dims'>(y_dim_0)</div><div class='xr-var-dtype'>int64</div><div class='xr-var-preview xr-preview'>0 1 2 3 4 5 6 ... 60 61 62 63 64 65</div><input id='attrs-70e5aed4-024f-4f5c-8522-80e5b9d84ca3' class='xr-var-attrs-in' type='checkbox' disabled><label for='attrs-70e5aed4-024f-4f5c-8522-80e5b9d84ca3' title='Show/Hide attributes'><svg class='icon xr-icon-file-text2'><use xlink:href='#icon-file-text2'></use></svg></label><input id='data-eed7ce77-bb22-4764-beb1-785e77d048fc' class='xr-var-data-in' type='checkbox'><label for='data-eed7ce77-bb22-4764-beb1-785e77d048fc' title='Show/Hide data repr'><svg class='icon xr-icon-database'><use xlink:href='#icon-database'></use></svg></label><div class='xr-var-attrs'><dl class='xr-attrs'></dl></div><div class='xr-var-data'><pre>array([ 0,  1,  2,  3,  4,  5,  6,  7,  8,  9, 10, 11, 12, 13, 14, 15, 16, 17,\n",
       "       18, 19, 20, 21, 22, 23, 24, 25, 26, 27, 28, 29, 30, 31, 32, 33, 34, 35,\n",
       "       36, 37, 38, 39, 40, 41, 42, 43, 44, 45, 46, 47, 48, 49, 50, 51, 52, 53,\n",
       "       54, 55, 56, 57, 58, 59, 60, 61, 62, 63, 64, 65])</pre></div></li></ul></div></li><li class='xr-section-item'><input id='section-3a969238-d9f2-4e55-97b2-023da9924b62' class='xr-section-summary-in' type='checkbox' disabled ><label for='section-3a969238-d9f2-4e55-97b2-023da9924b62' class='xr-section-summary'  title='Expand/collapse section'>Attributes: <span>(0)</span></label><div class='xr-section-inline-details'></div><div class='xr-section-details'><dl class='xr-attrs'></dl></div></li></ul></div></div>"
      ],
      "text/plain": [
       "<xarray.DataArray 'pareto_shape' (y_dim_0: 66)>\n",
       "array([-0.06960245, -0.03345663,  0.05862373,  0.04740177,  0.03238724,\n",
       "        1.51078099, -0.07680666,  0.06729037,  0.07262871,  0.18907462,\n",
       "       -0.05120459,  0.01433957,  0.04740177,  0.06820454,  0.04799314,\n",
       "       -0.03721842, -0.01273915, -0.05120459, -0.02808758,  0.01791002,\n",
       "        0.04740177,  0.09722098, -0.00872468,  0.02531276, -0.00872468,\n",
       "       -0.06960245,  0.04799314,  0.06820454, -0.06960245, -0.05120459,\n",
       "       -0.01918269,  0.04799314, -0.06960245, -0.03345663, -0.03721842,\n",
       "        0.02531276, -0.00872468, -0.03345663, -0.03721842,  0.01433957,\n",
       "       -0.00872468, -0.01273915, -0.07680666, -0.07680666, -0.06960245,\n",
       "       -0.07680666, -0.02808758, -0.07680666, -0.03345663,  0.05862373,\n",
       "       -0.03345663,  0.02531276,  0.02531276,  0.04740177,  0.04019924,\n",
       "       -0.06960245,  0.04740177,  0.04799314,  0.02531276,  0.04799314,\n",
       "       -0.05120459, -0.07680666, -0.06960245, -0.05120459,  0.06729037,\n",
       "       -0.01273915])\n",
       "Coordinates:\n",
       "  * y_dim_0  (y_dim_0) int64 0 1 2 3 4 5 6 7 8 9 ... 57 58 59 60 61 62 63 64 65"
      ]
     },
     "execution_count": 17,
     "metadata": {},
     "output_type": "execute_result"
    }
   ],
   "source": [
    "az.loo(trace_norm, pointwise = True).pareto_k"
   ]
  }
 ],
 "metadata": {
  "kernelspec": {
   "display_name": "Python 3",
   "language": "python",
   "name": "python3"
  },
  "language_info": {
   "codemirror_mode": {
    "name": "ipython",
    "version": 3
   },
   "file_extension": ".py",
   "mimetype": "text/x-python",
   "name": "python",
   "nbconvert_exporter": "python",
   "pygments_lexer": "ipython3",
   "version": "3.8.8"
  }
 },
 "nbformat": 4,
 "nbformat_minor": 4
}
