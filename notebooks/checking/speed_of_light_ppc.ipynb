{
 "cells": [
  {
   "cell_type": "markdown",
   "metadata": {},
   "source": [
    "# Posterior predictive checks for the speed of light data"
   ]
  },
  {
   "cell_type": "code",
   "execution_count": 1,
   "metadata": {},
   "outputs": [],
   "source": [
    "import numpy as np, pandas as pd, matplotlib.pyplot as plt, pymc3 as pm, arviz as az, os, scipy as sp\n",
    "from scipy import stats\n",
    "import plot_tools"
   ]
  },
  {
   "cell_type": "markdown",
   "metadata": {},
   "source": [
    "## Normal model"
   ]
  },
  {
   "cell_type": "code",
   "execution_count": 2,
   "metadata": {},
   "outputs": [],
   "source": [
    "# From Aki Vehtari's demos\n",
    "# data\n",
    "data_path = os.path.abspath(\n",
    "    os.path.join(\n",
    "        os.path.curdir,\n",
    "        'utilities_and_data',\n",
    "        'light.txt'\n",
    "    )\n",
    ")\n",
    "y = np.loadtxt(data_path)\n",
    "#y = np.concatenate((y[:np.argmin(y)], y[np.argmin(y)+1:])) # Drop the lowest outlier, if desired\n",
    "n = len(y)\n",
    "s2 = np.var(y, ddof=1)  # Here ddof=1 is used to get the sample estimate.\n",
    "s = np.sqrt(s2)\n",
    "my = np.mean(y)"
   ]
  },
  {
   "cell_type": "code",
   "execution_count": 3,
   "metadata": {},
   "outputs": [],
   "source": [
    "# scipy doesn't have the scaled inverse-chi-squared distribution, so we do the scale and inverse part ourselves\n",
    "def get_sigma2(sd, n):\n",
    "    x = sp.stats.chi2.rvs(n-1)\n",
    "    y = 1/x\n",
    "    y *= (n-1) * sd**2\n",
    "    return y\n",
    "\n",
    "# this is just a normal\n",
    "def get_mu(ybar, sigma, n):\n",
    "    return sp.stats.norm.rvs(ybar, sigma / np.sqrt(n))"
   ]
  },
  {
   "cell_type": "code",
   "execution_count": 4,
   "metadata": {},
   "outputs": [],
   "source": [
    "def sample_posterior(ybar, sd, n):\n",
    "    sigma2 = get_sigma2(sd, n)\n",
    "    mu = get_mu(ybar, sigma2 ** (1/2), n)\n",
    "    return (mu, sigma2)\n",
    "\n",
    "def sample_posterior_predictive(ybar, sd, n):\n",
    "    mu, sigma2 = sample_posterior(ybar, sd, n)\n",
    "    return sp.stats.norm.rvs(mu, sigma2 ** 0.5)"
   ]
  },
  {
   "cell_type": "code",
   "execution_count": 5,
   "metadata": {},
   "outputs": [],
   "source": [
    "replicates = np.array([[sample_posterior_predictive(my, s, n) for i in range(n)] for j in range(2000)])"
   ]
  },
  {
   "cell_type": "code",
   "execution_count": 6,
   "metadata": {},
   "outputs": [
    {
     "data": {
      "image/png": "[encoded data removed]",
      "text/plain": [
       "<Figure size 648x864 with 10 Axes>"
      ]
     },
     "metadata": {
      "needs_background": "light"
     },
     "output_type": "display_data"
    }
   ],
   "source": [
    "# plot them along with the real data set in random order subplot\n",
    "fig, axes = plt.subplots(5, 2, sharex=True, sharey=True, figsize=(9, 12))\n",
    "fig.subplots_adjust(top=0.95, wspace=0.4)\n",
    "order = np.random.permutation(10)\n",
    "choices = np.random.permutation(2000)\n",
    "for i, ax in enumerate(axes.flat):\n",
    "    ax.hist(\n",
    "        replicates[choices[order[i]]] if order[i] < 9 else y,\n",
    "        np.arange(-45, 65, 5)\n",
    "        #color = 'blue' if order[i] < 9 else 'red'\n",
    "    )\n",
    "    plot_tools.modify_axes.only_x(ax)\n",
    "axes[0, 0].set_xlim([-50, 70])\n",
    "fig.suptitle(\n",
    "    \"Light speed example: Observed data + Replicated datasets.\\n\"\n",
    "    \"Can you spot which one is the observed data?\"\n",
    ");"
   ]
  },
  {
   "cell_type": "code",
   "execution_count": 7,
   "metadata": {},
   "outputs": [
    {
     "data": {
      "image/png": "[encoded data removed]",
      "text/plain": [
       "<Figure size 432x288 with 1 Axes>"
      ]
     },
     "metadata": {
      "needs_background": "light"
     },
     "output_type": "display_data"
    }
   ],
   "source": [
    "minimums = np.min(replicates, axis = 1)\n",
    "plt.hist(minimums, bins=np.arange(-50, 50, 2))\n",
    "plt.vlines(x=np.min(y), ymin=0, ymax=300, color = 'red')\n",
    "plt.show()"
   ]
  },
  {
   "cell_type": "code",
   "execution_count": 8,
   "metadata": {},
   "outputs": [
    {
     "name": "stderr",
     "output_type": "stream",
     "text": [
      "Auto-assigning NUTS sampler...\n",
      "Initializing NUTS using jitter+adapt_diag...\n",
      "Multiprocess sampling (2 chains in 2 jobs)\n",
      "NUTS: [sigma_log, mu]\n"
     ]
    },
    {
     "data": {
      "text/html": [
       "\n",
       "    <div>\n",
       "        <style>\n",
       "            /* Turns off some styling */\n",
       "            progress {\n",
       "                /* gets rid of default border in Firefox and Opera. */\n",
       "                border: none;\n",
       "                /* Needs to be in here for Safari polyfill so background images work as expected. */\n",
       "                background-size: auto;\n",
       "            }\n",
       "            .progress-bar-interrupted, .progress-bar-interrupted::-webkit-progress-bar {\n",
       "                background: #F44336;\n",
       "            }\n",
       "        </style>\n",
       "      <progress value='6000' class='' max='6000' style='width:300px; height:20px; vertical-align: middle;'></progress>\n",
       "      100.00% [6000/6000 00:01<00:00 Sampling 2 chains, 0 divergences]\n",
       "    </div>\n",
       "    "
      ],
      "text/plain": [
       "<IPython.core.display.HTML object>"
      ]
     },
     "metadata": {},
     "output_type": "display_data"
    },
    {
     "name": "stderr",
     "output_type": "stream",
     "text": [
      "Sampling 2 chains for 1_000 tune and 2_000 draw iterations (2_000 + 4_000 draws total) took 2 seconds.\n"
     ]
    },
    {
     "data": {
      "text/html": [
       "\n",
       "    <div>\n",
       "        <style>\n",
       "            /* Turns off some styling */\n",
       "            progress {\n",
       "                /* gets rid of default border in Firefox and Opera. */\n",
       "                border: none;\n",
       "                /* Needs to be in here for Safari polyfill so background images work as expected. */\n",
       "                background-size: auto;\n",
       "            }\n",
       "            .progress-bar-interrupted, .progress-bar-interrupted::-webkit-progress-bar {\n",
       "                background: #F44336;\n",
       "            }\n",
       "        </style>\n",
       "      <progress value='4000' class='' max='4000' style='width:300px; height:20px; vertical-align: middle;'></progress>\n",
       "      100.00% [4000/4000 00:02<00:00]\n",
       "    </div>\n",
       "    "
      ],
      "text/plain": [
       "<IPython.core.display.HTML object>"
      ]
     },
     "metadata": {},
     "output_type": "display_data"
    }
   ],
   "source": [
    "# Normal model in PyMC3\n",
    "with pm.Model() as model:\n",
    "    mu = pm.Flat('mu')\n",
    "    sigma_log = pm.Flat('sigma_log')\n",
    "    sigma = pm.Deterministic('sigma', pm.math.exp(sigma_log))\n",
    "    y_ = pm.Normal('y', mu = mu, sigma = sigma, observed = y)\n",
    "    \n",
    "    trace_norm = pm.sample(2000, return_inferencedata=True)\n",
    "    \n",
    "    replicates = pm.sample_posterior_predictive(trace_norm)"
   ]
  },
  {
   "cell_type": "markdown",
   "metadata": {},
   "source": [
    "## Student T model"
   ]
  },
  {
   "cell_type": "code",
   "execution_count": 9,
   "metadata": {},
   "outputs": [
    {
     "name": "stderr",
     "output_type": "stream",
     "text": [
      "Auto-assigning NUTS sampler...\n",
      "Initializing NUTS using jitter+adapt_diag...\n",
      "Multiprocess sampling (2 chains in 2 jobs)\n",
      "NUTS: [sigma_log, mu]\n"
     ]
    },
    {
     "data": {
      "text/html": [
       "\n",
       "    <div>\n",
       "        <style>\n",
       "            /* Turns off some styling */\n",
       "            progress {\n",
       "                /* gets rid of default border in Firefox and Opera. */\n",
       "                border: none;\n",
       "                /* Needs to be in here for Safari polyfill so background images work as expected. */\n",
       "                background-size: auto;\n",
       "            }\n",
       "            .progress-bar-interrupted, .progress-bar-interrupted::-webkit-progress-bar {\n",
       "                background: #F44336;\n",
       "            }\n",
       "        </style>\n",
       "      <progress value='6000' class='' max='6000' style='width:300px; height:20px; vertical-align: middle;'></progress>\n",
       "      100.00% [6000/6000 00:01<00:00 Sampling 2 chains, 0 divergences]\n",
       "    </div>\n",
       "    "
      ],
      "text/plain": [
       "<IPython.core.display.HTML object>"
      ]
     },
     "metadata": {},
     "output_type": "display_data"
    },
    {
     "name": "stderr",
     "output_type": "stream",
     "text": [
      "Sampling 2 chains for 1_000 tune and 2_000 draw iterations (2_000 + 4_000 draws total) took 2 seconds.\n"
     ]
    },
    {
     "data": {
      "text/html": [
       "\n",
       "    <div>\n",
       "        <style>\n",
       "            /* Turns off some styling */\n",
       "            progress {\n",
       "                /* gets rid of default border in Firefox and Opera. */\n",
       "                border: none;\n",
       "                /* Needs to be in here for Safari polyfill so background images work as expected. */\n",
       "                background-size: auto;\n",
       "            }\n",
       "            .progress-bar-interrupted, .progress-bar-interrupted::-webkit-progress-bar {\n",
       "                background: #F44336;\n",
       "            }\n",
       "        </style>\n",
       "      <progress value='4000' class='' max='4000' style='width:300px; height:20px; vertical-align: middle;'></progress>\n",
       "      100.00% [4000/4000 00:02<00:00]\n",
       "    </div>\n",
       "    "
      ],
      "text/plain": [
       "<IPython.core.display.HTML object>"
      ]
     },
     "metadata": {},
     "output_type": "display_data"
    }
   ],
   "source": [
    "# Student T Model\n",
    "with pm.Model() as model:\n",
    "    mu = pm.Flat('mu')\n",
    "    sigma_log = pm.Flat('sigma_log')\n",
    "    sigma = pm.Deterministic('sigma', pm.math.exp(sigma_log))\n",
    "    y_ = pm.StudentT('y', nu = 3, mu = mu, sigma = sigma, observed = y)\n",
    "    \n",
    "    trace_t = pm.sample(2000, return_inferencedata=True)\n",
    "    \n",
    "    replicates = pm.sample_posterior_predictive(trace_t)"
   ]
  },
  {
   "cell_type": "code",
   "execution_count": 10,
   "metadata": {},
   "outputs": [
    {
     "data": {
      "image/png": "[encoded data removed]",
      "text/plain": [
       "<Figure size 648x864 with 10 Axes>"
      ]
     },
     "metadata": {
      "needs_background": "light"
     },
     "output_type": "display_data"
    }
   ],
   "source": [
    "# plot them along with the real data set in random order subplot\n",
    "fig, axes = plt.subplots(5, 2, sharex=True, sharey=True, figsize=(9, 12))\n",
    "fig.subplots_adjust(top=0.95, wspace=0.4)\n",
    "#np.random.seed(824792)\n",
    "order = np.random.permutation(10)\n",
    "choices = np.random.permutation(2000)\n",
    "for i, ax in enumerate(axes.flat):\n",
    "    ax.hist(\n",
    "        replicates['y'][choices[order[i]]] if order[i] < 9 else y,\n",
    "        np.arange(-75, 100, 5)\n",
    "    )\n",
    "    plot_tools.modify_axes.only_x(ax)\n",
    "axes[0, 0].set_xlim([-75, 100])\n",
    "fig.suptitle(\n",
    "    \"Light speed example: Observed data + Replicated datasets.\\n\"\n",
    "    \"Can you spot which one is the observed data?\"\n",
    ");"
   ]
  },
  {
   "cell_type": "code",
   "execution_count": 11,
   "metadata": {},
   "outputs": [
    {
     "data": {
      "image/png": "[encoded data removed]",
      "text/plain": [
       "<Figure size 432x288 with 1 Axes>"
      ]
     },
     "metadata": {
      "needs_background": "light"
     },
     "output_type": "display_data"
    }
   ],
   "source": [
    "minimums = np.min(replicates['y'], axis = 1)\n",
    "plt.hist(minimums, bins=np.arange(-250, 100, 4))\n",
    "plt.vlines(x=np.min(y), ymin=0, ymax=200, color = 'red')\n",
    "plt.show()"
   ]
  },
  {
   "cell_type": "markdown",
   "metadata": {},
   "source": [
    "## Cauchy model"
   ]
  },
  {
   "cell_type": "code",
   "execution_count": 12,
   "metadata": {},
   "outputs": [
    {
     "name": "stderr",
     "output_type": "stream",
     "text": [
      "Auto-assigning NUTS sampler...\n",
      "Initializing NUTS using jitter+adapt_diag...\n",
      "Multiprocess sampling (2 chains in 2 jobs)\n",
      "NUTS: [alpha, beta]\n"
     ]
    },
    {
     "data": {
      "text/html": [
       "\n",
       "    <div>\n",
       "        <style>\n",
       "            /* Turns off some styling */\n",
       "            progress {\n",
       "                /* gets rid of default border in Firefox and Opera. */\n",
       "                border: none;\n",
       "                /* Needs to be in here for Safari polyfill so background images work as expected. */\n",
       "                background-size: auto;\n",
       "            }\n",
       "            .progress-bar-interrupted, .progress-bar-interrupted::-webkit-progress-bar {\n",
       "                background: #F44336;\n",
       "            }\n",
       "        </style>\n",
       "      <progress value='6000' class='' max='6000' style='width:300px; height:20px; vertical-align: middle;'></progress>\n",
       "      100.00% [6000/6000 00:01<00:00 Sampling 2 chains, 0 divergences]\n",
       "    </div>\n",
       "    "
      ],
      "text/plain": [
       "<IPython.core.display.HTML object>"
      ]
     },
     "metadata": {},
     "output_type": "display_data"
    },
    {
     "name": "stderr",
     "output_type": "stream",
     "text": [
      "Sampling 2 chains for 1_000 tune and 2_000 draw iterations (2_000 + 4_000 draws total) took 2 seconds.\n"
     ]
    },
    {
     "data": {
      "text/html": [
       "\n",
       "    <div>\n",
       "        <style>\n",
       "            /* Turns off some styling */\n",
       "            progress {\n",
       "                /* gets rid of default border in Firefox and Opera. */\n",
       "                border: none;\n",
       "                /* Needs to be in here for Safari polyfill so background images work as expected. */\n",
       "                background-size: auto;\n",
       "            }\n",
       "            .progress-bar-interrupted, .progress-bar-interrupted::-webkit-progress-bar {\n",
       "                background: #F44336;\n",
       "            }\n",
       "        </style>\n",
       "      <progress value='4000' class='' max='4000' style='width:300px; height:20px; vertical-align: middle;'></progress>\n",
       "      100.00% [4000/4000 00:01<00:00]\n",
       "    </div>\n",
       "    "
      ],
      "text/plain": [
       "<IPython.core.display.HTML object>"
      ]
     },
     "metadata": {},
     "output_type": "display_data"
    }
   ],
   "source": [
    "# Cauchy Model\n",
    "with pm.Model() as model:\n",
    "    beta = pm.HalfCauchy('beta', 5)\n",
    "    alpha = pm.Normal('alpha', 0, 50)\n",
    "    y_ = pm.Cauchy('y', alpha = alpha, beta = beta, observed = y)\n",
    "    \n",
    "    trace_cauchy = pm.sample(2000, return_inferencedata=True)\n",
    "    \n",
    "    replicates = pm.sample_posterior_predictive(trace_cauchy)"
   ]
  },
  {
   "cell_type": "code",
   "execution_count": 13,
   "metadata": {},
   "outputs": [
    {
     "data": {
      "image/png": "[encoded data removed]",
      "text/plain": [
       "<Figure size 648x864 with 10 Axes>"
      ]
     },
     "metadata": {
      "needs_background": "light"
     },
     "output_type": "display_data"
    }
   ],
   "source": [
    "# plot them along with the real data set in random order subplot\n",
    "fig, axes = plt.subplots(5, 2, sharex=True, sharey=True, figsize=(9, 12))\n",
    "fig.subplots_adjust(top=0.95, wspace=0.4)\n",
    "order = np.random.permutation(10)\n",
    "choices = np.random.permutation(2000)\n",
    "for i, ax in enumerate(axes.flat):\n",
    "    ax.hist(\n",
    "        replicates['y'][choices[order[i]]] if order[i] < 9 else y,\n",
    "        np.arange(-75, 100, 5)\n",
    "    )\n",
    "    plot_tools.modify_axes.only_x(ax)\n",
    "axes[0, 0].set_xlim([-75, 100])\n",
    "fig.suptitle(\n",
    "    \"Light speed example: Observed data + Replicated datasets.\\n\"\n",
    "    \"Can you spot which one is the observed data?\"\n",
    ");"
   ]
  },
  {
   "cell_type": "code",
   "execution_count": 14,
   "metadata": {},
   "outputs": [
    {
     "data": {
      "image/png": "[encoded data removed]",
      "text/plain": [
       "<Figure size 432x288 with 1 Axes>"
      ]
     },
     "metadata": {
      "needs_background": "light"
     },
     "output_type": "display_data"
    }
   ],
   "source": [
    "minimums = np.min(replicates['y'], axis = 1)\n",
    "plt.hist(minimums, bins=np.arange(-750, 100, 4))\n",
    "plt.vlines(x=np.min(y), ymin=0, ymax=70, color = 'red')\n",
    "plt.show()"
   ]
  },
  {
   "cell_type": "code",
   "execution_count": 15,
   "metadata": {},
   "outputs": [
    {
     "name": "stderr",
     "output_type": "stream",
     "text": [
      "/home/dylan/.conda/envs/info510/lib/python3.8/site-packages/arviz/stats/stats.py:145: UserWarning: The default method used to estimate the weights for each model,has changed from BB-pseudo-BMA to stacking\n",
      "  warnings.warn(\n",
      "/home/dylan/.conda/envs/info510/lib/python3.8/site-packages/arviz/stats/stats.py:655: UserWarning: Estimated shape parameter of Pareto distribution is greater than 0.7 for one or more samples. You should consider using a more robust model, this is because importance sampling is less likely to work well if the marginal posterior and LOO posterior are very different. This is more likely to happen with a non-robust model and highly influential observations.\n",
      "  warnings.warn(\n"
     ]
    },
    {
     "data": {
      "text/html": [
       "<div>\n",
       "<style scoped>\n",
       "    .dataframe tbody tr th:only-of-type {\n",
       "        vertical-align: middle;\n",
       "    }\n",
       "\n",
       "    .dataframe tbody tr th {\n",
       "        vertical-align: top;\n",
       "    }\n",
       "\n",
       "    .dataframe thead th {\n",
       "        text-align: right;\n",
       "    }\n",
       "</style>\n",
       "<table border=\"1\" class=\"dataframe\">\n",
       "  <thead>\n",
       "    <tr style=\"text-align: right;\">\n",
       "      <th></th>\n",
       "      <th>rank</th>\n",
       "      <th>loo</th>\n",
       "      <th>p_loo</th>\n",
       "      <th>d_loo</th>\n",
       "      <th>weight</th>\n",
       "      <th>se</th>\n",
       "      <th>dse</th>\n",
       "      <th>warning</th>\n",
       "      <th>loo_scale</th>\n",
       "    </tr>\n",
       "  </thead>\n",
       "  <tbody>\n",
       "    <tr>\n",
       "      <th>studentt</th>\n",
       "      <td>0</td>\n",
       "      <td>-218.012915</td>\n",
       "      <td>2.066822</td>\n",
       "      <td>0.000000</td>\n",
       "      <td>0.818228</td>\n",
       "      <td>11.412499</td>\n",
       "      <td>0.000000</td>\n",
       "      <td>False</td>\n",
       "      <td>log</td>\n",
       "    </tr>\n",
       "    <tr>\n",
       "      <th>cauchy</th>\n",
       "      <td>1</td>\n",
       "      <td>-220.845212</td>\n",
       "      <td>2.047360</td>\n",
       "      <td>2.832298</td>\n",
       "      <td>0.181772</td>\n",
       "      <td>9.259205</td>\n",
       "      <td>3.777416</td>\n",
       "      <td>False</td>\n",
       "      <td>log</td>\n",
       "    </tr>\n",
       "    <tr>\n",
       "      <th>normal</th>\n",
       "      <td>2</td>\n",
       "      <td>-259.274579</td>\n",
       "      <td>13.605664</td>\n",
       "      <td>41.261664</td>\n",
       "      <td>0.000000</td>\n",
       "      <td>29.150316</td>\n",
       "      <td>21.060734</td>\n",
       "      <td>True</td>\n",
       "      <td>log</td>\n",
       "    </tr>\n",
       "  </tbody>\n",
       "</table>\n",
       "</div>"
      ],
      "text/plain": [
       "          rank         loo      p_loo      d_loo    weight         se  \\\n",
       "studentt     0 -218.012915   2.066822   0.000000  0.818228  11.412499   \n",
       "cauchy       1 -220.845212   2.047360   2.832298  0.181772   9.259205   \n",
       "normal       2 -259.274579  13.605664  41.261664  0.000000  29.150316   \n",
       "\n",
       "                dse  warning loo_scale  \n",
       "studentt   0.000000    False       log  \n",
       "cauchy     3.777416    False       log  \n",
       "normal    21.060734     True       log  "
      ]
     },
     "execution_count": 15,
     "metadata": {},
     "output_type": "execute_result"
    }
   ],
   "source": [
    "az.compare({'normal':trace_norm, 'studentt':trace_t, 'cauchy':trace_cauchy}, ic='loo')"
   ]
  },
  {
   "cell_type": "code",
   "execution_count": 20,
   "metadata": {},
   "outputs": [
    {
     "name": "stderr",
     "output_type": "stream",
     "text": [
      "/home/dylan/.conda/envs/info510/lib/python3.8/site-packages/arviz/stats/stats.py:655: UserWarning: Estimated shape parameter of Pareto distribution is greater than 0.7 for one or more samples. You should consider using a more robust model, this is because importance sampling is less likely to work well if the marginal posterior and LOO posterior are very different. This is more likely to happen with a non-robust model and highly influential observations.\n",
      "  warnings.warn(\n"
     ]
    },
    {
     "data": {
      "text/plain": [
       "Computed from 4000 by 66 log-likelihood matrix\n",
       "\n",
       "         Estimate       SE\n",
       "elpd_loo  -259.27    29.15\n",
       "p_loo       13.61        -\n",
       "\n",
       "There has been a warning during the calculation. Please check the results.\n",
       "------\n",
       "\n",
       "Pareto k diagnostic values:\n",
       "                         Count   Pct.\n",
       "(-Inf, 0.5]   (good)       65   98.5%\n",
       " (0.5, 0.7]   (ok)          0    0.0%\n",
       "   (0.7, 1]   (bad)         0    0.0%\n",
       "   (1, Inf)   (very bad)    1    1.5%"
      ]
     },
     "execution_count": 20,
     "metadata": {},
     "output_type": "execute_result"
    }
   ],
   "source": [
    "az.loo(trace_norm, pointwise = True)"
   ]
  },
  {
   "cell_type": "code",
   "execution_count": null,
   "metadata": {},
   "outputs": [],
   "source": []
  }
 ],
 "metadata": {
  "kernelspec": {
   "display_name": "Python 3",
   "language": "python",
   "name": "python3"
  },
  "language_info": {
   "codemirror_mode": {
    "name": "ipython",
    "version": 3
   },
   "file_extension": ".py",
   "mimetype": "text/x-python",
   "name": "python",
   "nbconvert_exporter": "python",
   "pygments_lexer": "ipython3",
   "version": "3.8.8"
  }
 },
 "nbformat": 4,
 "nbformat_minor": 4
}
