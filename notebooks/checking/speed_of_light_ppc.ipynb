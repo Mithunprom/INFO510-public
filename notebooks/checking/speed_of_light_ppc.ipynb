{
 "cells": [
  {
   "cell_type": "markdown",
   "metadata": {},
   "source": [
    "# Posterior predictive checks for the speed of light data"
   ]
  },
  {
   "cell_type": "code",
   "execution_count": null,
   "metadata": {},
   "outputs": [],
   "source": [
    "import numpy as np, pandas as pd, matplotlib.pyplot as plt, pymc3 as pm, arviz as az, os\n",
    "import plot_tools"
   ]
  },
  {
   "cell_type": "markdown",
   "metadata": {},
   "source": [
    "## Normal model"
   ]
  },
  {
   "cell_type": "code",
   "execution_count": null,
   "metadata": {},
   "outputs": [],
   "source": [
    "# From Aki Vehtari's demos\n",
    "# data\n",
    "data_path = os.path.abspath(\n",
    "    os.path.join(\n",
    "        os.path.curdir,\n",
    "        '../data',\n",
    "        'light.txt'\n",
    "    )\n",
    ")\n",
    "#y = pd.DataFrame(data = np.loadtxt(data_path), columns = ['time'])\n",
    "y = np.loadtxt(data_path)\n",
    "#y = np.concatenate((y[:5], y[6:]))\n",
    "n = len(y)\n",
    "s2 = np.var(y, ddof=1)  # Here ddof=1 is used to get the sample estimate.\n",
    "s = np.sqrt(s2)\n",
    "my = np.mean(y)"
   ]
  },
  {
   "cell_type": "code",
   "execution_count": null,
   "metadata": {},
   "outputs": [],
   "source": [
    "y = np.concatenate((y[:5], y[6:]))\n",
    "y"
   ]
  },
  {
   "cell_type": "code",
   "execution_count": null,
   "metadata": {},
   "outputs": [],
   "source": [
    "replicates = np.random.standard_t(n-1, size=(9,n)) * np.sqrt(1+1/n)*s + my"
   ]
  },
  {
   "cell_type": "code",
   "execution_count": null,
   "metadata": {},
   "outputs": [],
   "source": [
    "# plot them along with the real data set in random order subplot\n",
    "fig, axes = plt.subplots(5, 2, sharex=True, sharey=True, figsize=(9, 12))\n",
    "fig.subplots_adjust(top=0.95, wspace=0.4)\n",
    "order = np.random.permutation(10)\n",
    "for i, ax in enumerate(axes.flat):\n",
    "    ax.hist(\n",
    "        replicates[order[i]] if order[i] < 9 else y,\n",
    "        np.arange(-45, 65, 5)\n",
    "    )\n",
    "    plot_tools.modify_axes.only_x(ax)\n",
    "axes[0, 0].set_xlim([-50, 70])\n",
    "fig.suptitle(\n",
    "    \"Light speed example: Observed data + Replicated datasets.\\n\"\n",
    "    \"Can you spot which one is the observed data?\"\n",
    ");"
   ]
  },
  {
   "cell_type": "code",
   "execution_count": null,
   "metadata": {},
   "outputs": [],
   "source": [
    "minimums = np.min(replicates, axis = 1)\n",
    "plt.hist(minimums, bins=np.arange(-50, 10, 4))\n",
    "plt.vlines(x=np.min(y), ymin=0, ymax=30, color = 'red')\n",
    "plt.show()"
   ]
  },
  {
   "cell_type": "code",
   "execution_count": null,
   "metadata": {},
   "outputs": [],
   "source": [
    "# Normal model in PyMC3\n",
    "with pm.Model() as model:\n",
    "    sigma = pm.HalfCauchy('sigma', 5)\n",
    "    m = pm.Normal('m', 0, 50)\n",
    "    nu = pm.HalfCauchy('nu', 5)\n",
    "    y_obs = pm.Normal('y_obs', mu = m, sigma = sigma, observed = y)\n",
    "    \n",
    "    trace_norm = pm.sample()\n",
    "    \n",
    "    replicates = pm.sample_posterior_predictive(trace_norm)"
   ]
  },
  {
   "cell_type": "markdown",
   "metadata": {},
   "source": [
    "## Student T model"
   ]
  },
  {
   "cell_type": "code",
   "execution_count": null,
   "metadata": {},
   "outputs": [],
   "source": [
    "# Student T Model\n",
    "with pm.Model() as model:\n",
    "    sigma = pm.HalfCauchy('sigma', 5)\n",
    "    m = pm.Normal('m', 0, 50)\n",
    "    nu = pm.HalfCauchy('nu', 5)\n",
    "    y_obs = pm.StudentT('y_obs', nu = nu, mu = m, sigma = sigma, observed = y)\n",
    "    \n",
    "    trace_T = pm.sample()\n",
    "    \n",
    "    replicates = pm.sample_posterior_predictive(trace_T)"
   ]
  },
  {
   "cell_type": "code",
   "execution_count": null,
   "metadata": {},
   "outputs": [],
   "source": [
    "yrep = replicates['y_obs'][:10]\n",
    "replicates['y_obs'].shape"
   ]
  },
  {
   "cell_type": "code",
   "execution_count": null,
   "metadata": {},
   "outputs": [],
   "source": [
    "# plot them along with the real data set in random order subplot\n",
    "fig, axes = plt.subplots(5, 2, sharex=True, sharey=True, figsize=(9, 12))\n",
    "fig.subplots_adjust(top=0.95, wspace=0.4)\n",
    "order = np.random.permutation(10)\n",
    "for i, ax in enumerate(axes.flat):\n",
    "    ax.hist(\n",
    "        yrep[order[i]] if order[i] < 9 else y,\n",
    "        np.arange(-75, 100, 5)\n",
    "    )\n",
    "    plot_tools.modify_axes.only_x(ax)\n",
    "axes[0, 0].set_xlim([-75, 100])\n",
    "fig.suptitle(\n",
    "    \"Light speed example: Observed data + Replicated datasets.\\n\"\n",
    "    \"Can you spot which one is the observed data?\"\n",
    ");"
   ]
  },
  {
   "cell_type": "markdown",
   "metadata": {},
   "source": [
    "## Cauchy model"
   ]
  },
  {
   "cell_type": "code",
   "execution_count": null,
   "metadata": {},
   "outputs": [],
   "source": [
    "# Cauchy Model\n",
    "with pm.Model() as model:\n",
    "    beta = pm.HalfCauchy('beta', 5)\n",
    "    alpha = pm.Normal('alpha', 0, 50)\n",
    "    y_obs = pm.Cauchy('y_obs', alpha = alpha, beta = beta, observed = y)\n",
    "    \n",
    "    trace_C = pm.sample()\n",
    "    \n",
    "    replicates = pm.sample_posterior_predictive(trace_C)"
   ]
  },
  {
   "cell_type": "code",
   "execution_count": null,
   "metadata": {},
   "outputs": [],
   "source": [
    "# plot them along with the real data set in random order subplot\n",
    "fig, axes = plt.subplots(5, 2, sharex=True, sharey=True, figsize=(9, 12))\n",
    "fig.subplots_adjust(top=0.95, wspace=0.4)\n",
    "order = np.random.permutation(10)\n",
    "for i, ax in enumerate(axes.flat):\n",
    "    ax.hist(\n",
    "        yrep[order[i]] if order[i] < 9 else y,\n",
    "        np.arange(-75, 100, 5)\n",
    "    )\n",
    "    plot_tools.modify_axes.only_x(ax)\n",
    "axes[0, 0].set_xlim([-75, 100])\n",
    "fig.suptitle(\n",
    "    \"Light speed example: Observed data + Replicated datasets.\\n\"\n",
    "    \"Can you spot which one is the observed data?\"\n",
    ");"
   ]
  },
  {
   "cell_type": "code",
   "execution_count": null,
   "metadata": {},
   "outputs": [],
   "source": [
    "pm.compare({'Normal':trace_norm, 'StudentT':trace_T, 'Cauchy':trace_C}, ic='waic', scale = 'deviance')"
   ]
  },
  {
   "cell_type": "code",
   "execution_count": null,
   "metadata": {},
   "outputs": [],
   "source": [
    "pm.compare({'Normal':trace_norm, 'StudentT':trace_T, 'Cauchy':trace_C}, ic='loo', scale = 'deviance')"
   ]
  },
  {
   "cell_type": "code",
   "execution_count": null,
   "metadata": {},
   "outputs": [],
   "source": []
  },
  {
   "cell_type": "code",
   "execution_count": null,
   "metadata": {},
   "outputs": [],
   "source": []
  }
 ],
 "metadata": {
  "kernelspec": {
   "display_name": "Python 3",
   "language": "python",
   "name": "python3"
  },
  "language_info": {
   "codemirror_mode": {
    "name": "ipython",
    "version": 3
   },
   "file_extension": ".py",
   "mimetype": "text/x-python",
   "name": "python",
   "nbconvert_exporter": "python",
   "pygments_lexer": "ipython3",
   "version": "3.8.3"
  }
 },
 "nbformat": 4,
 "nbformat_minor": 4
}
