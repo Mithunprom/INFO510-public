{
 "cells": [
  {
   "cell_type": "markdown",
   "metadata": {},
   "source": [
    "# The 8 schools example\n",
    "\n",
    "The \"8 schools\" example is a famous example of a hierarchical (multi-level) model with so-called \"partial pooling.\" The data comes from a study of coaching programs for the Verbal SAT (for those unfamiliar, the SAT is one of two major standardized tests used in undergraduate college/university admissions in the US).\n",
    "\n",
    "Let's do our imports and load the data."
   ]
  },
  {
   "cell_type": "code",
   "execution_count": 1,
   "metadata": {},
   "outputs": [
    {
     "data": {
      "text/html": [
       "<div>\n",
       "<style scoped>\n",
       "    .dataframe tbody tr th:only-of-type {\n",
       "        vertical-align: middle;\n",
       "    }\n",
       "\n",
       "    .dataframe tbody tr th {\n",
       "        vertical-align: top;\n",
       "    }\n",
       "\n",
       "    .dataframe thead th {\n",
       "        text-align: right;\n",
       "    }\n",
       "</style>\n",
       "<table border=\"1\" class=\"dataframe\">\n",
       "  <thead>\n",
       "    <tr style=\"text-align: right;\">\n",
       "      <th></th>\n",
       "      <th>School</th>\n",
       "      <th>Effect</th>\n",
       "      <th>SE</th>\n",
       "    </tr>\n",
       "  </thead>\n",
       "  <tbody>\n",
       "    <tr>\n",
       "      <th>0</th>\n",
       "      <td>A</td>\n",
       "      <td>28</td>\n",
       "      <td>15</td>\n",
       "    </tr>\n",
       "    <tr>\n",
       "      <th>1</th>\n",
       "      <td>B</td>\n",
       "      <td>8</td>\n",
       "      <td>10</td>\n",
       "    </tr>\n",
       "    <tr>\n",
       "      <th>2</th>\n",
       "      <td>C</td>\n",
       "      <td>-3</td>\n",
       "      <td>16</td>\n",
       "    </tr>\n",
       "    <tr>\n",
       "      <th>3</th>\n",
       "      <td>D</td>\n",
       "      <td>7</td>\n",
       "      <td>11</td>\n",
       "    </tr>\n",
       "    <tr>\n",
       "      <th>4</th>\n",
       "      <td>E</td>\n",
       "      <td>-1</td>\n",
       "      <td>9</td>\n",
       "    </tr>\n",
       "    <tr>\n",
       "      <th>5</th>\n",
       "      <td>F</td>\n",
       "      <td>1</td>\n",
       "      <td>11</td>\n",
       "    </tr>\n",
       "    <tr>\n",
       "      <th>6</th>\n",
       "      <td>G</td>\n",
       "      <td>18</td>\n",
       "      <td>10</td>\n",
       "    </tr>\n",
       "    <tr>\n",
       "      <th>7</th>\n",
       "      <td>H</td>\n",
       "      <td>12</td>\n",
       "      <td>18</td>\n",
       "    </tr>\n",
       "  </tbody>\n",
       "</table>\n",
       "</div>"
      ],
      "text/plain": [
       "  School  Effect  SE\n",
       "0      A      28  15\n",
       "1      B       8  10\n",
       "2      C      -3  16\n",
       "3      D       7  11\n",
       "4      E      -1   9\n",
       "5      F       1  11\n",
       "6      G      18  10\n",
       "7      H      12  18"
      ]
     },
     "execution_count": 1,
     "metadata": {},
     "output_type": "execute_result"
    }
   ],
   "source": [
    "import numpy as np, scipy as sp, pymc3 as pm, pandas as pd\n",
    "import matplotlib.pyplot as plt\n",
    "from scipy import stats\n",
    "\n",
    "d = {'School': ['A','B','C','D','E','F','G','H'],\n",
    "     'Effect': [28, 8, -3, 7, -1, 1, 18, 12],\n",
    "     'SE': [15, 10, 16, 11, 9, 11, 10, 18]}\n",
    "schools = pd.DataFrame(data=d)\n",
    "schools"
   ]
  },
  {
   "cell_type": "markdown",
   "metadata": {},
   "source": [
    "The estimates $y_i$ of the effects are obtained by independent experiments carried out at each school. The estimates are not simple sample means, as they underwent some adjustment procedures, but they can be assumed to have approximately normal sampling distributions with known standard errors (in the above table)."
   ]
  },
  {
   "cell_type": "markdown",
   "metadata": {},
   "source": [
    "## Hierarchical model\n",
    "\n",
    "\n",
    "### The model\n",
    "\n",
    "We presume that the estimates $y_i$ are produced by 8 independent normal distributions with their own means $\\theta_i$ and variances $\\sigma^2_i$:\n",
    "\n",
    "$$ y_i | \\theta_i, \\sigma^2_i \\sim N(\\theta_i, \\sigma^2_i) $$\n",
    "\n",
    "We presume that the parameters $\\theta_i$ are themselves drawn from a normal distribution with parameters $\\mu, \\tau$. Given $\\mu, \\tau$, we assume the $\\theta_i$'s to be conditionally independent.\n",
    "\n",
    "For convenience, we presume the sampling standard deviations of the $\\bar y_i$ to be known and equal to the values in the data table. "
   ]
  },
  {
   "cell_type": "code",
   "execution_count": 2,
   "metadata": {},
   "outputs": [
    {
     "name": "stderr",
     "output_type": "stream",
     "text": [
      "Auto-assigning NUTS sampler...\n",
      "Initializing NUTS using jitter+adapt_diag...\n",
      "Multiprocess sampling (4 chains in 4 jobs)\n",
      "NUTS: [m, tau, eta]\n",
      "Sampling 4 chains, 0 divergences: 100%|██████████| 10000/10000 [00:04<00:00, 2343.96draws/s]\n"
     ]
    }
   ],
   "source": [
    "with pm.Model() as hierarchical_model:\n",
    "    # Hyperparameters\n",
    "    eta = pm.Normal('eta', 0, 1, shape = 8)\n",
    "    tau = pm.HalfCauchy('tau', 5)\n",
    "    m = pm.Normal('m', mu = 0, sigma = 5)\n",
    "    \n",
    "    # Parameter vector\n",
    "    \n",
    "    theta = pm.Deterministic('theta', m + tau * eta)\n",
    "    #theta = pm.Normal('theta', mu = m, sigma = tau, shape = 8)\n",
    "    \n",
    "    # Data likelihood\n",
    "    y_obs = pm.Normal('y_obs', mu = theta, sigma = schools['SE'], observed = schools['Effect'])\n",
    "    \n",
    "    trace = pm.sample(2000, target_accept = 0.95)"
   ]
  },
  {
   "cell_type": "code",
   "execution_count": 18,
   "metadata": {},
   "outputs": [
    {
     "data": {
      "text/html": [
       "<div>\n",
       "<style scoped>\n",
       "    .dataframe tbody tr th:only-of-type {\n",
       "        vertical-align: middle;\n",
       "    }\n",
       "\n",
       "    .dataframe tbody tr th {\n",
       "        vertical-align: top;\n",
       "    }\n",
       "\n",
       "    .dataframe thead th {\n",
       "        text-align: right;\n",
       "    }\n",
       "</style>\n",
       "<table border=\"1\" class=\"dataframe\">\n",
       "  <thead>\n",
       "    <tr style=\"text-align: right;\">\n",
       "      <th></th>\n",
       "      <th>mean</th>\n",
       "      <th>sd</th>\n",
       "      <th>hpd_3%</th>\n",
       "      <th>hpd_97%</th>\n",
       "      <th>mcse_mean</th>\n",
       "      <th>mcse_sd</th>\n",
       "      <th>ess_mean</th>\n",
       "      <th>ess_sd</th>\n",
       "      <th>ess_bulk</th>\n",
       "      <th>ess_tail</th>\n",
       "      <th>r_hat</th>\n",
       "    </tr>\n",
       "  </thead>\n",
       "  <tbody>\n",
       "    <tr>\n",
       "      <th>m</th>\n",
       "      <td>4.590</td>\n",
       "      <td>3.213</td>\n",
       "      <td>-1.476</td>\n",
       "      <td>10.576</td>\n",
       "      <td>0.156</td>\n",
       "      <td>0.120</td>\n",
       "      <td>424.0</td>\n",
       "      <td>356.0</td>\n",
       "      <td>427.0</td>\n",
       "      <td>248.0</td>\n",
       "      <td>1.01</td>\n",
       "    </tr>\n",
       "    <tr>\n",
       "      <th>theta[0]</th>\n",
       "      <td>6.635</td>\n",
       "      <td>5.624</td>\n",
       "      <td>-2.596</td>\n",
       "      <td>18.744</td>\n",
       "      <td>0.201</td>\n",
       "      <td>0.142</td>\n",
       "      <td>783.0</td>\n",
       "      <td>783.0</td>\n",
       "      <td>741.0</td>\n",
       "      <td>1440.0</td>\n",
       "      <td>1.00</td>\n",
       "    </tr>\n",
       "    <tr>\n",
       "      <th>theta[1]</th>\n",
       "      <td>5.269</td>\n",
       "      <td>4.747</td>\n",
       "      <td>-3.962</td>\n",
       "      <td>14.289</td>\n",
       "      <td>0.154</td>\n",
       "      <td>0.109</td>\n",
       "      <td>945.0</td>\n",
       "      <td>945.0</td>\n",
       "      <td>849.0</td>\n",
       "      <td>1735.0</td>\n",
       "      <td>1.01</td>\n",
       "    </tr>\n",
       "    <tr>\n",
       "      <th>theta[2]</th>\n",
       "      <td>4.057</td>\n",
       "      <td>5.327</td>\n",
       "      <td>-6.098</td>\n",
       "      <td>13.390</td>\n",
       "      <td>0.178</td>\n",
       "      <td>0.126</td>\n",
       "      <td>893.0</td>\n",
       "      <td>893.0</td>\n",
       "      <td>783.0</td>\n",
       "      <td>1670.0</td>\n",
       "      <td>1.01</td>\n",
       "    </tr>\n",
       "    <tr>\n",
       "      <th>theta[3]</th>\n",
       "      <td>4.963</td>\n",
       "      <td>5.122</td>\n",
       "      <td>-5.222</td>\n",
       "      <td>14.295</td>\n",
       "      <td>0.161</td>\n",
       "      <td>0.117</td>\n",
       "      <td>1011.0</td>\n",
       "      <td>959.0</td>\n",
       "      <td>865.0</td>\n",
       "      <td>1461.0</td>\n",
       "      <td>1.01</td>\n",
       "    </tr>\n",
       "    <tr>\n",
       "      <th>theta[4]</th>\n",
       "      <td>3.770</td>\n",
       "      <td>4.789</td>\n",
       "      <td>-5.036</td>\n",
       "      <td>12.826</td>\n",
       "      <td>0.179</td>\n",
       "      <td>0.130</td>\n",
       "      <td>713.0</td>\n",
       "      <td>679.0</td>\n",
       "      <td>659.0</td>\n",
       "      <td>1394.0</td>\n",
       "      <td>1.00</td>\n",
       "    </tr>\n",
       "    <tr>\n",
       "      <th>theta[5]</th>\n",
       "      <td>4.177</td>\n",
       "      <td>4.876</td>\n",
       "      <td>-4.688</td>\n",
       "      <td>13.851</td>\n",
       "      <td>0.176</td>\n",
       "      <td>0.125</td>\n",
       "      <td>770.0</td>\n",
       "      <td>756.0</td>\n",
       "      <td>686.0</td>\n",
       "      <td>1721.0</td>\n",
       "      <td>1.01</td>\n",
       "    </tr>\n",
       "    <tr>\n",
       "      <th>theta[6]</th>\n",
       "      <td>6.671</td>\n",
       "      <td>5.165</td>\n",
       "      <td>-2.703</td>\n",
       "      <td>16.629</td>\n",
       "      <td>0.197</td>\n",
       "      <td>0.139</td>\n",
       "      <td>689.0</td>\n",
       "      <td>689.0</td>\n",
       "      <td>663.0</td>\n",
       "      <td>1342.0</td>\n",
       "      <td>1.00</td>\n",
       "    </tr>\n",
       "    <tr>\n",
       "      <th>theta[7]</th>\n",
       "      <td>5.153</td>\n",
       "      <td>5.529</td>\n",
       "      <td>-4.043</td>\n",
       "      <td>16.793</td>\n",
       "      <td>0.159</td>\n",
       "      <td>0.120</td>\n",
       "      <td>1212.0</td>\n",
       "      <td>1054.0</td>\n",
       "      <td>961.0</td>\n",
       "      <td>1488.0</td>\n",
       "      <td>1.00</td>\n",
       "    </tr>\n",
       "    <tr>\n",
       "      <th>tau</th>\n",
       "      <td>4.003</td>\n",
       "      <td>3.336</td>\n",
       "      <td>0.481</td>\n",
       "      <td>9.790</td>\n",
       "      <td>0.220</td>\n",
       "      <td>0.156</td>\n",
       "      <td>230.0</td>\n",
       "      <td>230.0</td>\n",
       "      <td>122.0</td>\n",
       "      <td>82.0</td>\n",
       "      <td>1.00</td>\n",
       "    </tr>\n",
       "  </tbody>\n",
       "</table>\n",
       "</div>"
      ],
      "text/plain": [
       "           mean     sd  hpd_3%  hpd_97%  mcse_mean  mcse_sd  ess_mean  ess_sd  \\\n",
       "m         4.590  3.213  -1.476   10.576      0.156    0.120     424.0   356.0   \n",
       "theta[0]  6.635  5.624  -2.596   18.744      0.201    0.142     783.0   783.0   \n",
       "theta[1]  5.269  4.747  -3.962   14.289      0.154    0.109     945.0   945.0   \n",
       "theta[2]  4.057  5.327  -6.098   13.390      0.178    0.126     893.0   893.0   \n",
       "theta[3]  4.963  5.122  -5.222   14.295      0.161    0.117    1011.0   959.0   \n",
       "theta[4]  3.770  4.789  -5.036   12.826      0.179    0.130     713.0   679.0   \n",
       "theta[5]  4.177  4.876  -4.688   13.851      0.176    0.125     770.0   756.0   \n",
       "theta[6]  6.671  5.165  -2.703   16.629      0.197    0.139     689.0   689.0   \n",
       "theta[7]  5.153  5.529  -4.043   16.793      0.159    0.120    1212.0  1054.0   \n",
       "tau       4.003  3.336   0.481    9.790      0.220    0.156     230.0   230.0   \n",
       "\n",
       "          ess_bulk  ess_tail  r_hat  \n",
       "m            427.0     248.0   1.01  \n",
       "theta[0]     741.0    1440.0   1.00  \n",
       "theta[1]     849.0    1735.0   1.01  \n",
       "theta[2]     783.0    1670.0   1.01  \n",
       "theta[3]     865.0    1461.0   1.01  \n",
       "theta[4]     659.0    1394.0   1.00  \n",
       "theta[5]     686.0    1721.0   1.01  \n",
       "theta[6]     663.0    1342.0   1.00  \n",
       "theta[7]     961.0    1488.0   1.00  \n",
       "tau          122.0      82.0   1.00  "
      ]
     },
     "execution_count": 18,
     "metadata": {},
     "output_type": "execute_result"
    }
   ],
   "source": [
    "pm.summary(trace, var_names=['m', 'theta', 'tau'])"
   ]
  },
  {
   "cell_type": "code",
   "execution_count": 19,
   "metadata": {},
   "outputs": [
    {
     "data": {
      "text/plain": [
       "<AxesSubplot:title={'center':'scatter plot between log(tau) and theta[0]'}, xlabel='theta[0]', ylabel='log(tau)'>"
      ]
     },
     "execution_count": 19,
     "metadata": {},
     "output_type": "execute_result"
    },
    {
     "data": {
      "image/png": "[encoded data removed]",
      "text/plain": [
       "<Figure size 720x360 with 1 Axes>"
      ]
     },
     "metadata": {
      "needs_background": "light"
     },
     "output_type": "display_data"
    }
   ],
   "source": [
    "def pairplot_divergence(trace, ax=None, divergence=True, color='C3', divergence_color='C2'):\n",
    "    theta = trace.get_values(varname='theta', combine=True)[:, 0]\n",
    "    logtau = trace.get_values(varname='tau_log__', combine=True)\n",
    "    if not ax:\n",
    "        _, ax = plt.subplots(1, 1, figsize=(10, 5))\n",
    "    ax.plot(theta, logtau, 'o', color=color, alpha=.5)\n",
    "    if divergence:\n",
    "        divergent = trace['diverging']\n",
    "        ax.plot(theta[divergent], logtau[divergent], 'o', color=divergence_color)\n",
    "    ax.set_xlabel('theta[0]')\n",
    "    ax.set_ylabel('log(tau)')\n",
    "    ax.set_title('scatter plot between log(tau) and theta[0]');\n",
    "    return ax\n",
    "\n",
    "pairplot_divergence(trace)"
   ]
  },
  {
   "cell_type": "code",
   "execution_count": null,
   "metadata": {},
   "outputs": [],
   "source": [
    "pm.summary(trace)"
   ]
  },
  {
   "cell_type": "code",
   "execution_count": null,
   "metadata": {},
   "outputs": [],
   "source": [
    "kernels = [sp.stats.gaussian_kde(trace['theta' + str(i)]) for i in range(8)]"
   ]
  },
  {
   "cell_type": "code",
   "execution_count": null,
   "metadata": {},
   "outputs": [],
   "source": [
    "x = np.linspace(-15, 45, 500)\n",
    "y = [kernels[i](x) for i in range(8)]\n",
    "for i in range(8):\n",
    "    plt.plot(x, y[i])\n",
    "plt.show()"
   ]
  },
  {
   "cell_type": "code",
   "execution_count": null,
   "metadata": {},
   "outputs": [],
   "source": [
    "ppc = pm.sample_posterior_predictive(trace, 10, model = hierarchical_model)"
   ]
  },
  {
   "cell_type": "code",
   "execution_count": null,
   "metadata": {},
   "outputs": [],
   "source": [
    "ppc"
   ]
  },
  {
   "cell_type": "code",
   "execution_count": null,
   "metadata": {},
   "outputs": [],
   "source": [
    "for i in range(10):\n",
    "plt.plot(range(8), schools['Effect'], 'o', color = 'black')\n",
    "plt.show()"
   ]
  },
  {
   "cell_type": "code",
   "execution_count": null,
   "metadata": {},
   "outputs": [],
   "source": []
  }
 ],
 "metadata": {
  "@webio": {
   "lastCommId": null,
   "lastKernelId": null
  },
  "kernelspec": {
   "display_name": "Python 3",
   "language": "python",
   "name": "python3"
  },
  "language_info": {
   "codemirror_mode": {
    "name": "ipython",
    "version": 3
   },
   "file_extension": ".py",
   "mimetype": "text/x-python",
   "name": "python",
   "nbconvert_exporter": "python",
   "pygments_lexer": "ipython3",
   "version": "3.8.3"
  }
 },
 "nbformat": 4,
 "nbformat_minor": 4
}
