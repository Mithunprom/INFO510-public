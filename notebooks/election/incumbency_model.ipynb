{
 "cells": [
  {
   "cell_type": "markdown",
   "metadata": {},
   "source": [
    "# Regression for causal inference: election forecasting\n",
    "\n",
    "This notebook follows the example from section 14.3 of *Bayesian Data Analysis.* The data files for this analysis are available at http://www.stat.columbia.edu/~gelman/book/data/incumbency/."
   ]
  },
  {
   "cell_type": "code",
   "execution_count": 1,
   "metadata": {},
   "outputs": [],
   "source": [
    "# Imports\n",
    "import numpy as np, scipy as sp, pandas as pd, pymc3 as pm, matplotlib.pyplot as plt\n",
    "from scipy import stats\n",
    "from modelutils import *"
   ]
  },
  {
   "cell_type": "markdown",
   "metadata": {},
   "source": [
    "## The model\n",
    "\n",
    "The basic model is a multiple linear regression. We define the following variables:\n",
    "* $V_i^{(t)}$: the vote share of the incumbent party in district $i$, year $t$\n",
    "* $P_i^{(t)}$: the identity of the incumbent party in district $i$, year $t$\n",
    "* $I_i^{(t)}$: an indicator variable for whether the incumbent ran in district $i$, year $t$.\n",
    "\n",
    "Then the model is formulated as follows. (Note: all variables have an implicit superscript $t$ *except* $V_i^{(t-2)}$).\n",
    "$$ \n",
    "\\begin{align*}\n",
    "V_i &\\sim \\mathrm{Normal}(\\mu_i, \\sigma) \\\\\n",
    "\\mu_i &= \\alpha + \\beta_I I_i + \\beta_P P_i + \\beta_V V_i^{(t-2)} \\\\\n",
    "\\alpha &\\sim \\mathrm{Normal(0, 0.3)} \\\\\n",
    "\\beta_I &\\sim \\mathrm{Normal(0, 0.3)} \\\\\n",
    "\\beta_P &\\sim \\mathrm{Normal(0, 0.3)} \\\\\n",
    "\\beta_V &\\sim \\mathrm{Normal(0, 0.3)} \\\\\n",
    "\\sigma &\\sim \\mathrm{HalfCauchy(1)}\n",
    "\\end{align*}\n",
    "$$"
   ]
  },
  {
   "cell_type": "markdown",
   "metadata": {},
   "source": [
    "## Setting up the model in PyMC3\n",
    "\n",
    "We define two helper functions to do the computation. The first, given a year, loads the data files for that year and the previous year, joins them into a single data frame, and drops rows corresponding to elections where candidates ran unopposed (using a vote total of 0 as a proxy for this). Then, we calculate three variables that go into our model:\n",
    "* the identity of the incumbent party (1 = Democratic, -1 = Republican). Note that this isn't the same as the incumbency code. Incumbency code 0 means that the incumbent didn't run; however, we're still interested in which *party* held the seat last.\n",
    "* the vote share of the incumbent party this year (the outcome variable)\n",
    "* the vote share of the incumbent party the previous year (a control variable used as a proxy for the \"safety\" of the seat)"
   ]
  },
  {
   "cell_type": "code",
   "execution_count": 2,
   "metadata": {},
   "outputs": [],
   "source": [
    "def create_merged_data(year):\n",
    "    '''\n",
    "    Creates a data frame with the necessary variables to estimate incumbency advantage in a given year.\n",
    "    Parameters:\n",
    "        year: the desired year (int)\n",
    "    Returns: DataFrame\n",
    "    '''\n",
    "    # Load this year and the previous election's data\n",
    "    df_past = pd.read_fwf(str(year - 2) + '.asc', names = ['state', 'district', 'incumbent', 'dem_votes', 'rep_votes'])\n",
    "    df_pres = pd.read_fwf(str(year) + '.asc', names = ['state', 'district', 'incumbent', 'dem_votes', 'rep_votes'])\n",
    "    \n",
    "    # Join the data frames\n",
    "    df = df_past.join(df_pres, lsuffix = '_past').drop(['state_past', 'district_past'], axis = 'columns')\n",
    "    # Drop rows where candidates were unopposed\n",
    "    df = df[(df.dem_votes > 0) & (df.rep_votes > 0) & (df.dem_votes_past > 0) & (df.rep_votes_past > 0)]\n",
    "    \n",
    "    # Compute auxiliary quantities\n",
    "    df['incumbent_party'] = 2*(df.dem_votes_past > df.rep_votes_past).astype(np.int64) - 1\n",
    "    df['dem_share'] = df.dem_votes / (df.dem_votes + df.rep_votes)\n",
    "    df['dem_share_past'] = df.dem_votes_past / (df.dem_votes_past + df.rep_votes_past)\n",
    "    df['incumbent_share'] = pd.Series([df.dem_share[i] if df.incumbent_party[i] == 1 else (1 - df.dem_share[i]) for i in df.index], index = df.index)\n",
    "    df['incumbent_share_past'] = pd.Series([df.dem_share_past[i] if df.incumbent_party[i] == 1 else (1 - df.dem_share_past[i]) for i in df.index], index = df.index)\n",
    "    return df"
   ]
  },
  {
   "cell_type": "markdown",
   "metadata": {},
   "source": [
    "The next function performs the estimation. Given a year, we load the data, set up the model as defined above, and estimate it using one or both of quadratic approximation or MCMC sampling. In this notebook we'll use MCMC sampling, as it's both faster and more accurate for this problem (quadratic approximation underestimates uncertainties here)."
   ]
  },
  {
   "cell_type": "code",
   "execution_count": 11,
   "metadata": {},
   "outputs": [],
   "source": [
    "def estimate_inc_advantage(year, mode = 'sample', progress = True):\n",
    "    '''\n",
    "    Estimates the incumbency advantage in a given year.\n",
    "    Parameters:\n",
    "        year: the desired year (int)\n",
    "        mode: estimation mode. Should be 'sample' for MCMC sampling, 'quad' for quadratic approximation, 'both' for both.\n",
    "                Point estimates will be simpler, but empirically, quadratic approximation underestimates uncertainties.\n",
    "        progress: True if you want the MCMC sampling progress bar displayed.\n",
    "    Returns:\n",
    "        one of: --pymc3 trace (if mode == 'sample')\n",
    "                --DataFrame (if mode == 'quad')\n",
    "                --tuple of (DataFrame, pymc3 trace) (if mode == 'both')\n",
    "    '''\n",
    "    # Load the data\n",
    "    df = create_merged_data(year)\n",
    "    with pm.Model() as inc_model:\n",
    "        # Weakly informative normal / half Cauchy priors on all quantities.\n",
    "        betaI = pm.Normal('betaI', 0, 0.3)\n",
    "        betaV = pm.Normal('betaV', 0, 0.3)\n",
    "        betaP = pm.Normal('betaP', 0, 0.3)\n",
    "        alpha = pm.Normal('alpha', 0, 0.3)\n",
    "        sigma = pm.HalfCauchy('sigma', 1)\n",
    "        \n",
    "        # Model equation    \n",
    "        mu = alpha + betaI * np.abs(df['incumbent']) \\\n",
    "        + betaV * df['incumbent_share_past'] \\\n",
    "        + betaP * df['incumbent_party']\n",
    "    \n",
    "        # Observed \n",
    "        share = pm.Normal('share', mu = mu, sigma = sigma, observed = df['incumbent_share'])\n",
    "    \n",
    "        if mode == 'quad' or mode == 'both':\n",
    "            summary = make_normal_approx([betaI, betaV, betaP, alpha, sigma])\n",
    "        if mode == 'sample' or mode == 'both':\n",
    "            trace = pm.sample(1000, target_accept = 0.9, progressbar = progress)\n",
    "    if mode == 'quad':\n",
    "        return summary\n",
    "    if mode == 'sample':\n",
    "        return trace\n",
    "    else:\n",
    "        return summary, trace"
   ]
  },
  {
   "cell_type": "markdown",
   "metadata": {},
   "source": [
    "## Doing the estimation\n",
    "\n",
    "Let's do a single example to start. We'll do 1988, because the results from this appear in Table 14.1 in BDA."
   ]
  },
  {
   "cell_type": "code",
   "execution_count": 12,
   "metadata": {},
   "outputs": [
    {
     "name": "stderr",
     "output_type": "stream",
     "text": [
      "Sampling 4 chains, 0 divergences: 100%|██████████| 6000/6000 [00:07<00:00, 805.16draws/s]\n"
     ]
    },
    {
     "data": {
      "text/html": [
       "<div>\n",
       "<style scoped>\n",
       "    .dataframe tbody tr th:only-of-type {\n",
       "        vertical-align: middle;\n",
       "    }\n",
       "\n",
       "    .dataframe tbody tr th {\n",
       "        vertical-align: top;\n",
       "    }\n",
       "\n",
       "    .dataframe thead th {\n",
       "        text-align: right;\n",
       "    }\n",
       "</style>\n",
       "<table border=\"1\" class=\"dataframe\">\n",
       "  <thead>\n",
       "    <tr style=\"text-align: right;\">\n",
       "      <th></th>\n",
       "      <th>mean</th>\n",
       "      <th>sd</th>\n",
       "      <th>hpd_3%</th>\n",
       "      <th>hpd_97%</th>\n",
       "      <th>mcse_mean</th>\n",
       "      <th>mcse_sd</th>\n",
       "      <th>ess_mean</th>\n",
       "      <th>ess_sd</th>\n",
       "      <th>ess_bulk</th>\n",
       "      <th>ess_tail</th>\n",
       "      <th>r_hat</th>\n",
       "    </tr>\n",
       "  </thead>\n",
       "  <tbody>\n",
       "    <tr>\n",
       "      <th>betaI</th>\n",
       "      <td>0.114</td>\n",
       "      <td>0.015</td>\n",
       "      <td>0.085</td>\n",
       "      <td>0.143</td>\n",
       "      <td>0.000</td>\n",
       "      <td>0.000</td>\n",
       "      <td>2517.0</td>\n",
       "      <td>2517.0</td>\n",
       "      <td>2523.0</td>\n",
       "      <td>2666.0</td>\n",
       "      <td>1.0</td>\n",
       "    </tr>\n",
       "    <tr>\n",
       "      <th>betaV</th>\n",
       "      <td>0.621</td>\n",
       "      <td>0.041</td>\n",
       "      <td>0.544</td>\n",
       "      <td>0.698</td>\n",
       "      <td>0.001</td>\n",
       "      <td>0.001</td>\n",
       "      <td>1858.0</td>\n",
       "      <td>1854.0</td>\n",
       "      <td>1859.0</td>\n",
       "      <td>2164.0</td>\n",
       "      <td>1.0</td>\n",
       "    </tr>\n",
       "    <tr>\n",
       "      <th>betaP</th>\n",
       "      <td>-0.005</td>\n",
       "      <td>0.004</td>\n",
       "      <td>-0.012</td>\n",
       "      <td>0.002</td>\n",
       "      <td>0.000</td>\n",
       "      <td>0.000</td>\n",
       "      <td>3061.0</td>\n",
       "      <td>2706.0</td>\n",
       "      <td>3061.0</td>\n",
       "      <td>2275.0</td>\n",
       "      <td>1.0</td>\n",
       "    </tr>\n",
       "    <tr>\n",
       "      <th>alpha</th>\n",
       "      <td>0.151</td>\n",
       "      <td>0.032</td>\n",
       "      <td>0.090</td>\n",
       "      <td>0.209</td>\n",
       "      <td>0.001</td>\n",
       "      <td>0.001</td>\n",
       "      <td>1552.0</td>\n",
       "      <td>1552.0</td>\n",
       "      <td>1553.0</td>\n",
       "      <td>1900.0</td>\n",
       "      <td>1.0</td>\n",
       "    </tr>\n",
       "    <tr>\n",
       "      <th>sigma</th>\n",
       "      <td>0.065</td>\n",
       "      <td>0.003</td>\n",
       "      <td>0.060</td>\n",
       "      <td>0.070</td>\n",
       "      <td>0.000</td>\n",
       "      <td>0.000</td>\n",
       "      <td>2193.0</td>\n",
       "      <td>2169.0</td>\n",
       "      <td>2232.0</td>\n",
       "      <td>2072.0</td>\n",
       "      <td>1.0</td>\n",
       "    </tr>\n",
       "  </tbody>\n",
       "</table>\n",
       "</div>"
      ],
      "text/plain": [
       "        mean     sd  hpd_3%  hpd_97%  mcse_mean  mcse_sd  ess_mean  ess_sd  \\\n",
       "betaI  0.114  0.015   0.085    0.143      0.000    0.000    2517.0  2517.0   \n",
       "betaV  0.621  0.041   0.544    0.698      0.001    0.001    1858.0  1854.0   \n",
       "betaP -0.005  0.004  -0.012    0.002      0.000    0.000    3061.0  2706.0   \n",
       "alpha  0.151  0.032   0.090    0.209      0.001    0.001    1552.0  1552.0   \n",
       "sigma  0.065  0.003   0.060    0.070      0.000    0.000    2193.0  2169.0   \n",
       "\n",
       "       ess_bulk  ess_tail  r_hat  \n",
       "betaI    2523.0    2666.0    1.0  \n",
       "betaV    1859.0    2164.0    1.0  \n",
       "betaP    3061.0    2275.0    1.0  \n",
       "alpha    1553.0    1900.0    1.0  \n",
       "sigma    2232.0    2072.0    1.0  "
      ]
     },
     "execution_count": 12,
     "metadata": {},
     "output_type": "execute_result"
    }
   ],
   "source": [
    "result = estimate_inc_advantage(1988)\n",
    "pm.summary(result)"
   ]
  },
  {
   "cell_type": "markdown",
   "metadata": {},
   "source": [
    "Comparing this to the table in BDA, we see pretty similar results (slight differences are to be expected because we used sampling, they used analytical expressions for the posterior, and they report medians rather than means). Specifically, notice the coefficient $\\beta_I$, the coefficient of incumbency (our parameter of interest). In 1988, there appears to have been a substantial advantage to incumbency -- between 9 and 14 percentage points. Among our control variables, past vote share is a fairly strong predictor, but party identity didn't seem to have a very large effect in this year.\n",
    "\n",
    "Now, we set up an array of years for all the data we have. We have to start with 1898 (since 1896 would depend on the previous year, which we don't have). We also make the choice to drop years ending in 2 from the estimation. The reason for this is that they complicate the meaning of the term \"incumbent\", because these elections follow the decennial US Census, and it's associated redefinition of districts."
   ]
  },
  {
   "cell_type": "code",
   "execution_count": 5,
   "metadata": {},
   "outputs": [],
   "source": [
    "years = [year for year in np.arange(1898, 1992, 2) if year % 10 != 2]"
   ]
  },
  {
   "cell_type": "code",
   "execution_count": 6,
   "metadata": {},
   "outputs": [],
   "source": [
    "# Suppress some logging because we're doing many runs of this!\n",
    "import logging\n",
    "logger = logging.getLogger(\"pymc3\")\n",
    "logger.setLevel(logging.ERROR)\n",
    "\n",
    "results = []\n",
    "for year in years:\n",
    "    results.append(estimate_inc_advantage(year, mode = 'sample', progress = False))"
   ]
  },
  {
   "cell_type": "markdown",
   "metadata": {},
   "source": [
    "Now let's plot the estimates against time. We have to extract the posterior means and interval endpoints from the sample traces, and then plot them. There are a few differences visible between this plot and the comparable plot in BDA -- notably, they seem to have a few extra years at the end. Presumably the book was updated in more recent printings but the website was not. There are also a couple of years with substantially different results, but most results appear similar."
   ]
  },
  {
   "cell_type": "code",
   "execution_count": 8,
   "metadata": {},
   "outputs": [],
   "source": [
    "# Extract the estimates\n",
    "# From MCMC sampling of the posterior\n",
    "means = [pm.summary(trace).loc['betaI', 'mean'] for trace in results]\n",
    "lowers = [pm.summary(trace).loc['betaI', 'hpd_3%'] for trace in results]\n",
    "uppers = [pm.summary(trace).loc['betaI', 'hpd_97%'] for trace in results]"
   ]
  },
  {
   "cell_type": "code",
   "execution_count": 9,
   "metadata": {},
   "outputs": [
    {
     "data": {
      "image/png": "[encoded data removed]",
      "text/plain": [
       "<Figure size 720x504 with 1 Axes>"
      ]
     },
     "metadata": {
      "needs_background": "light"
     },
     "output_type": "display_data"
    }
   ],
   "source": [
    "plt.figure(figsize=(10, 7))\n",
    "plt.plot(years, means, '.', color = 'black')\n",
    "for i in range(len(years)):\n",
    "    plt.vlines(x=years[i], ymin=lowers[i], ymax=uppers[i], color = 'black', lw=0.5)\n",
    "plt.xlabel('Year', size=14)\n",
    "plt.ylabel('Estimated incumbency advantage', size=14)\n",
    "plt.show()"
   ]
  }
 ],
 "metadata": {
  "kernelspec": {
   "display_name": "Python 3",
   "language": "python",
   "name": "python3"
  },
  "language_info": {
   "codemirror_mode": {
    "name": "ipython",
    "version": 3
   },
   "file_extension": ".py",
   "mimetype": "text/x-python",
   "name": "python",
   "nbconvert_exporter": "python",
   "pygments_lexer": "ipython3",
   "version": "3.8.3"
  }
 },
 "nbformat": 4,
 "nbformat_minor": 4
}
