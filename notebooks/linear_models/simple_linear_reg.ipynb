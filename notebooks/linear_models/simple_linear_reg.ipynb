{
 "cells": [
  {
   "cell_type": "markdown",
   "metadata": {},
   "source": [
    "# Simple linear regression via Bayes"
   ]
  },
  {
   "cell_type": "code",
   "execution_count": null,
   "metadata": {},
   "outputs": [],
   "source": [
    "import numpy as np\n",
    "import pymc3 as pm\n",
    "import pandas as pd\n",
    "import scipy as sp\n",
    "from scipy import stats\n",
    "import matplotlib.pyplot as plt"
   ]
  },
  {
   "cell_type": "code",
   "execution_count": null,
   "metadata": {},
   "outputs": [],
   "source": [
    "climate = pd.read_csv('../data/climate-change-2016.csv')\n",
    "center = climate['CO2ppm'].mean()\n",
    "climate['CO2ppm'] = (climate['CO2ppm'] - center) / 100   # center the x values\n",
    "climate.head()"
   ]
  },
  {
   "cell_type": "markdown",
   "metadata": {},
   "source": [
    "### Prior sampling\n",
    "\n",
    "Three choices of priors on $\\alpha$ and $\\beta$\n",
    "$$\n",
    "\\begin{align*}\n",
    "\\alpha &\\sim \\mathrm{Normal}(0, 5) \\\\\n",
    "\\beta &\\sim \\mathrm{Normal}(0, 10) \\\\\n",
    "\\end{align*}\n",
    "$$\n",
    "(really vague, diffuse priors)\n",
    "$$\n",
    "\\begin{align*}\n",
    "\\alpha &\\sim \\mathrm{Normal}(0, 0.5) \\\\\n",
    "\\beta &\\sim \\mathrm{Normal}(0, 1) \\\\\n",
    "\\end{align*}\n",
    "$$\n",
    "(weakly informative)\n",
    "$$\n",
    "\\begin{align*}\n",
    "\\alpha &\\sim \\mathrm{Normal}(0, 0.5) \\\\\n",
    "\\beta &\\sim \\mathrm{LogNormal}(0, 1) \\\\\n",
    "\\end{align*}\n",
    "$$\n",
    "(more informative, enforces positive relationship)"
   ]
  },
  {
   "cell_type": "code",
   "execution_count": null,
   "metadata": {},
   "outputs": [],
   "source": [
    "n_lines = 100\n",
    "α = sp.stats.norm.rvs(0, 5, n_lines)\n",
    "β = sp.stats.norm.rvs(0, 10, n_lines)\n",
    "\n",
    "xmin=climate['CO2ppm'].min()\n",
    "xmax=climate['CO2ppm'].max()\n",
    "\n",
    "plt.figure(figsize=(12, 9))\n",
    "for i in range(n_lines):\n",
    "    plt.plot(climate['CO2ppm'] * 100 + center, α[i] + β[i] * climate['CO2ppm'], 'r-', alpha=0.2)\n",
    "plt.xlabel('CO2 (ppm)', size = 14)\n",
    "plt.ylabel('Global temperature (centered, degrees C)', size = 14)\n",
    "plt.xticks(size=14)\n",
    "plt.yticks(size=14)\n",
    "plt.show()"
   ]
  },
  {
   "cell_type": "code",
   "execution_count": null,
   "metadata": {},
   "outputs": [],
   "source": [
    "plt.figure(figsize=(12, 9))\n",
    "for i in range(n_lines):\n",
    "    plt.plot(climate['CO2ppm'] * 100 + center, α[i] + β[i] * climate['CO2ppm'], 'r-', alpha=0.2)\n",
    "plt.hlines(4, xmin=xmin * 100 + center, xmax=xmax * 100 + center, color='b', linestyle='--', label='\"Worst case\" by 2100')\n",
    "plt.hlines(-6, xmin=xmin * 100 + center, xmax=xmax * 100 + center, color='g', linestyle='--', label='Last Glacial Maximum (ice age)')\n",
    "plt.xlabel('CO2 (ppm)', size = 14)\n",
    "plt.ylabel('Global temperature (centered, degrees C)', size = 14)\n",
    "plt.xticks(size=14)\n",
    "plt.yticks(size=14)\n",
    "plt.legend()\n",
    "plt.show()"
   ]
  },
  {
   "cell_type": "code",
   "execution_count": null,
   "metadata": {},
   "outputs": [],
   "source": [
    "n_lines = 100\n",
    "α = sp.stats.norm.rvs(0, 0.5, n_lines)\n",
    "β = sp.stats.norm.rvs(0, 2, n_lines)\n",
    "\n",
    "xmin=climate['CO2ppm'].min()\n",
    "xmax=climate['CO2ppm'].max()\n",
    "\n",
    "plt.figure(figsize=(12, 9))\n",
    "for i in range(n_lines):\n",
    "    plt.plot(climate['CO2ppm'] * 100 + center, α[i] + β[i] * climate['CO2ppm'], 'r-', alpha=0.2)\n",
    "plt.hlines(4, xmin=xmin * 100 + center, xmax=xmax * 100 + center, color='b', linestyle='--', label='\"Worst case\" by 2100')\n",
    "plt.hlines(-6, xmin=xmin * 100 + center, xmax=xmax * 100 + center, color='g', linestyle='--', label='Last Glacial Maximum (ice age)')\n",
    "plt.xlabel('CO2 (ppm)', size = 14)\n",
    "plt.ylabel('Global temperature (centered, degrees C)', size = 14)\n",
    "plt.xticks(size=14)\n",
    "plt.yticks(size=14)\n",
    "plt.legend()\n",
    "plt.show()"
   ]
  },
  {
   "cell_type": "code",
   "execution_count": null,
   "metadata": {},
   "outputs": [],
   "source": [
    "n_lines = 100\n",
    "α = sp.stats.norm.rvs(0, 0.5, n_lines)\n",
    "β = sp.stats.norm.rvs(0, 1, n_lines)\n",
    "\n",
    "xmin=climate['CO2ppm'].min()\n",
    "xmax=climate['CO2ppm'].max()\n",
    "\n",
    "plt.figure(figsize=(12, 9))\n",
    "for i in range(n_lines):\n",
    "    plt.plot(climate['CO2ppm'] * 100 + center, α[i] + np.exp(β[i]) * climate['CO2ppm'], 'r-', alpha=0.2)\n",
    "plt.hlines(4, xmin=xmin * 100 + center, xmax=xmax * 100 + center, color='b', linestyle='--', label='\"Worst case\" by 2100')\n",
    "plt.hlines(-6, xmin=xmin * 100 + center, xmax=xmax * 100 + center, color='g', linestyle='--', label='Last Glacial Maximum (ice age)')\n",
    "plt.xlabel('CO2 (ppm)', size = 14)\n",
    "plt.ylabel('Global temperature (centered, degrees C)', size = 14)\n",
    "plt.xticks(size=14)\n",
    "plt.yticks(size=14)\n",
    "plt.legend()\n",
    "plt.show()"
   ]
  },
  {
   "cell_type": "markdown",
   "metadata": {},
   "source": [
    "### Adding the data"
   ]
  },
  {
   "cell_type": "code",
   "execution_count": null,
   "metadata": {},
   "outputs": [],
   "source": [
    "plt.figure(figsize=(12, 9))\n",
    "plt.plot(climate['CO2ppm'] * 100 + center, climate['global_temp_anomaly'], 'bo', label = 'Observed values')\n",
    "plt.xlabel('CO2 (ppm)', size = 14)\n",
    "plt.ylabel('Global temperature (centered, degrees C)', size = 14)\n",
    "plt.xticks(size=14)\n",
    "plt.yticks(size=14)\n",
    "plt.legend()\n",
    "plt.show()"
   ]
  },
  {
   "cell_type": "code",
   "execution_count": null,
   "metadata": {},
   "outputs": [],
   "source": [
    "with pm.Model() as linear_model:\n",
    "    # Priors for parameters\n",
    "    alpha = pm.Normal('alpha', 0, 0.5)\n",
    "    beta = pm.Normal('beta', 0, 1)\n",
    "\n",
    "    sigma = pm.HalfCauchy('sigma', 1)\n",
    "    \n",
    "    \n",
    "    # Model equation\n",
    "    mu = pm.Deterministic('mu', alpha + beta * climate['CO2ppm'])\n",
    "        \n",
    "    # Likelihood\n",
    "    y_ = pm.Normal('y', mu=mu, sigma=sigma, observed = climate['global_temp_anomaly'])\n",
    "    \n",
    "    # Inference\n",
    "    trace = pm.sample(2000, target_accept = 0.9, tune = 1000)\n",
    "    mp = pm.find_MAP()"
   ]
  },
  {
   "cell_type": "code",
   "execution_count": null,
   "metadata": {},
   "outputs": [],
   "source": [
    "with linear_model:\n",
    "    summary = pm.summary(trace, var_names = ['alpha', 'beta', 'sigma'])"
   ]
  },
  {
   "cell_type": "code",
   "execution_count": null,
   "metadata": {},
   "outputs": [],
   "source": [
    "summary"
   ]
  },
  {
   "cell_type": "code",
   "execution_count": null,
   "metadata": {},
   "outputs": [],
   "source": [
    "plt.figure(figsize=(12, 9))\n",
    "plt.plot(climate['CO2ppm'], climate['global_temp_anomaly'], 'bo', label = 'Observed values')\n",
    "plt.plot(climate['CO2ppm'], summary.loc['alpha', 'mean'] + summary.loc['beta', 'mean'] * climate['CO2ppm'], 'r-', label = 'Posterior mean line')\n",
    "\n",
    "plt.xlabel('CO2 (ppm)', size = 14)\n",
    "plt.ylabel('Global temperature (centered, degrees C)', size = 14)\n",
    "plt.xticks(size=14)\n",
    "plt.yticks(size=14)\n",
    "plt.legend()\n",
    "plt.show()"
   ]
  },
  {
   "cell_type": "markdown",
   "metadata": {},
   "source": [
    "### Visualizing uncertainty"
   ]
  },
  {
   "cell_type": "code",
   "execution_count": null,
   "metadata": {},
   "outputs": [],
   "source": [
    "plt.figure(figsize=(12, 9))\n",
    "plt.plot(climate['CO2ppm'], climate['global_temp_anomaly'], 'bo', label = 'Observed values')\n",
    "plt.plot(climate['CO2ppm'], summary.loc['alpha', 'mean'] + summary.loc['beta', 'mean'] * climate['CO2ppm'], 'k-', label = 'Posterior mean line')\n",
    "for i in range(n_lines):\n",
    "    plt.plot(climate['CO2ppm'], trace['mu'][i], 'r-', alpha=0.05)\n",
    "\n",
    "plt.xlabel('CO2 (ppm)', size = 14)\n",
    "plt.ylabel('Global temperature (centered, degrees C)', size = 14)\n",
    "plt.xticks(size=14)\n",
    "plt.yticks(size=14)\n",
    "plt.legend()\n",
    "plt.show()"
   ]
  },
  {
   "cell_type": "markdown",
   "metadata": {},
   "source": [
    "### Logistic regression for the bioassay experiment"
   ]
  },
  {
   "cell_type": "code",
   "execution_count": null,
   "metadata": {},
   "outputs": [],
   "source": [
    "bioassay = pd.DataFrame(data={'dose':[-0.86, -0.3, -0.05, 0.73], 'n':[5, 5, 5, 5], 'deaths':[0, 1, 3, 5]})\n",
    "bioassay"
   ]
  },
  {
   "cell_type": "code",
   "execution_count": null,
   "metadata": {},
   "outputs": [],
   "source": [
    "with pm.Model() as logistic_model:\n",
    "    alpha = pm.Normal('alpha', 0, 1)\n",
    "    beta = pm.Normal('beta', 0, 5)\n",
    "    #alpha = pm.Flat('alpha')\n",
    "    #beta = pm.Flat('beta')\n",
    "    \n",
    "    theta = pm.Deterministic('theta', pm.math.invlogit(alpha + beta * bioassay['dose']))\n",
    "    \n",
    "    y_ = pm.Binomial('y', n = bioassay['n'], p = theta, observed = bioassay['deaths'])\n",
    "    \n",
    "    trace = pm.sample()\n",
    "    mp = pm.find_MAP()"
   ]
  },
  {
   "cell_type": "code",
   "execution_count": null,
   "metadata": {},
   "outputs": [],
   "source": [
    "summary = pm.summary(trace, var_names = ['alpha', 'beta'])\n",
    "summary"
   ]
  },
  {
   "cell_type": "code",
   "execution_count": null,
   "metadata": {},
   "outputs": [],
   "source": [
    "grid = np.linspace(-2, 2, 100)\n",
    "\n",
    "plt.figure(figsize=(12, 9))\n",
    "plt.plot(grid, sp.special.expit(summary.loc['alpha', 'mean'] + summary.loc['beta', 'mean'] * grid), 'r-', label = 'Posterior mean fit')\n",
    "plt.plot(bioassay['dose'], bioassay['deaths'] / bioassay['n'], 'bo', label = 'Observed data')\n",
    "\n",
    "plt.legend()\n",
    "plt.show()"
   ]
  },
  {
   "cell_type": "code",
   "execution_count": null,
   "metadata": {},
   "outputs": [],
   "source": [
    "grid = np.linspace(-2, 2, 100)\n",
    "\n",
    "plt.figure(figsize=(12, 9))\n",
    "plt.plot(grid, sp.special.expit(summary.loc['alpha', 'mean'] + summary.loc['beta', 'mean'] * grid), 'b-', label = 'Posterior mean fit')\n",
    "for i in range(100):\n",
    "    plt.plot(grid, sp.special.expit(trace['alpha'][i] + trace['beta'][i] * grid), 'r-', alpha = 0.1)\n",
    "plt.plot(bioassay['dose'], bioassay['deaths'] / bioassay['n'], 'bo', label = 'Observed data')\n",
    "plt.plot(grid, sp.special.expit(mp['alpha'] + mp['beta'] * grid), 'k-', label = 'MAP fit')\n",
    "\n",
    "\n",
    "plt.legend()\n",
    "plt.show()"
   ]
  },
  {
   "cell_type": "code",
   "execution_count": null,
   "metadata": {},
   "outputs": [],
   "source": []
  },
  {
   "cell_type": "code",
   "execution_count": null,
   "metadata": {},
   "outputs": [],
   "source": []
  }
 ],
 "metadata": {
  "kernelspec": {
   "display_name": "Python 3",
   "language": "python",
   "name": "python3"
  },
  "language_info": {
   "codemirror_mode": {
    "name": "ipython",
    "version": 3
   },
   "file_extension": ".py",
   "mimetype": "text/x-python",
   "name": "python",
   "nbconvert_exporter": "python",
   "pygments_lexer": "ipython3",
   "version": "3.8.3"
  }
 },
 "nbformat": 4,
 "nbformat_minor": 4
}
