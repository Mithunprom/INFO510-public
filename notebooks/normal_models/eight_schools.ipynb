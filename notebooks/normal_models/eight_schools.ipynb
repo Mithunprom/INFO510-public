{
 "cells": [
  {
   "cell_type": "markdown",
   "metadata": {},
   "source": [
    "# The 8 schools example\n",
    "\n",
    "The \"8 schools\" example is a famous example of a hierarchical (multi-level) model with so-called \"partial pooling.\" The data comes from a study of coaching programs for the Verbal SAT (for those unfamiliar, the SAT is one of two major standardized tests used in undergraduate college/university admissions in the US).\n",
    "\n",
    "Let's do our imports and load the data."
   ]
  },
  {
   "cell_type": "code",
   "execution_count": null,
   "metadata": {},
   "outputs": [],
   "source": [
    "import numpy as np, scipy as sp, pymc3 as pm, pandas as pd\n",
    "import matplotlib.pyplot as plt\n",
    "from scipy import stats\n",
    "\n",
    "d = {'School': ['A','B','C','D','E','F','G','H'],\n",
    "     'Effect': [28, 8, -3, 7, -1, 1, 18, 12],\n",
    "     'SE': [15, 10, 16, 11, 9, 11, 10, 18]}\n",
    "schools = pd.DataFrame(data=d)\n",
    "schools"
   ]
  },
  {
   "cell_type": "markdown",
   "metadata": {},
   "source": [
    "The estimates $y_i$ of the effects are obtained by independent experiments carried out at each school. The estimates are not simple sample means, as they underwent some adjustment procedures, but they can be assumed to have approximately normal sampling distributions with known standard errors (in the above table)."
   ]
  },
  {
   "cell_type": "markdown",
   "metadata": {},
   "source": [
    "## Hierarchical model\n",
    "\n",
    "\n",
    "### The model\n",
    "\n",
    "We presume that the estimates $y_i$ are produced by 8 independent normal distributions with their own means $\\theta_i$ and variances $\\sigma^2_i$:\n",
    "\n",
    "$$ \\begin{align}\n",
    "y_i | \\theta_i, \\sigma^2_i &\\sim \\mathrm{Normal}(\\theta_i, \\sigma^2_i) \\\\\n",
    "\\theta_i &\\sim \\mathrm{Normal}(\\mu, \\tau)\\\\\n",
    "\\mu &\\sim \\mathrm{Normal}(0,5) \\\\\n",
    "\\tau &\\sim \\mathrm{HalfCauchy}(5) \n",
    "\\end{align} \\\\$$\n",
    "\n",
    "We presume that the parameters $\\theta_i$ are themselves drawn from a normal distribution with parameters $\\mu, \\tau$. Given $\\mu, \\tau$, we assume the $\\theta_i$'s to be conditionally independent.\n",
    "\n",
    "For convenience, we presume the sampling standard deviations of the $\\bar y_i$ to be known and equal to the values in the data table. "
   ]
  },
  {
   "cell_type": "code",
   "execution_count": null,
   "metadata": {},
   "outputs": [],
   "source": [
    "with pm.Model() as centered_model:\n",
    "    # Hyperparameters\n",
    "    tau = pm.HalfCauchy('tau', 5)\n",
    "    mu = pm.Normal('mu', mu = 0, sigma = 5)\n",
    "    \n",
    "    # Parameter vector   \n",
    "    theta = pm.Normal('theta', mu = mu, sigma = tau, shape = 8)\n",
    "    \n",
    "    # Data likelihood\n",
    "    y_obs = pm.Normal('y_obs', mu = theta, sigma = schools['SE'], observed = schools['Effect'])\n",
    "    \n",
    "    trace = pm.sample(5000, target_accept = 0.9, chains = 4, cores = 4, tune = 1000)"
   ]
  },
  {
   "cell_type": "code",
   "execution_count": null,
   "metadata": {},
   "outputs": [],
   "source": [
    "pm.summary(trace)"
   ]
  },
  {
   "cell_type": "code",
   "execution_count": null,
   "metadata": {},
   "outputs": [],
   "source": [
    "def pairplot_divergence(trace, ax=None, divergence=True, color='C3', divergence_color='C2'):\n",
    "    theta = trace.get_values(varname='theta', combine=True)[:, 0]\n",
    "    logtau = trace.get_values(varname='tau_log__', combine=True)\n",
    "    if not ax:\n",
    "        _, ax = plt.subplots(1, 1, figsize=(10, 5))\n",
    "    ax.plot(theta, logtau, 'o', color=color, alpha=.5)\n",
    "    if divergence:\n",
    "        divergent = trace['diverging']\n",
    "        ax.plot(theta[divergent], logtau[divergent], 'o', color=divergence_color)\n",
    "    ax.set_xlabel('theta[0]')\n",
    "    ax.set_ylabel('log(tau)')\n",
    "    ax.set_title('scatter plot between log(tau) and theta[0]');\n",
    "    return ax\n",
    "\n",
    "pairplot_divergence(trace)"
   ]
  },
  {
   "cell_type": "code",
   "execution_count": null,
   "metadata": {},
   "outputs": [],
   "source": [
    "K = 8\n",
    "\n",
    "mu = 5\n",
    "tau = 3.5\n",
    "sigma = 12\n",
    "theta_true = sp.stats.norm.rvs(mu, tau, K)\n",
    "y = sp.stats.norm.rvs(theta_true, sigma)\n",
    "y"
   ]
  },
  {
   "cell_type": "code",
   "execution_count": null,
   "metadata": {},
   "outputs": [],
   "source": [
    "theta_true"
   ]
  },
  {
   "cell_type": "code",
   "execution_count": null,
   "metadata": {},
   "outputs": [],
   "source": [
    "with pm.Model() as centered_model:\n",
    "    # Hyperparameters\n",
    "    mu = pm.Normal('mu', mu = 0, sigma = 5)\n",
    "    #mu = pm.Flat('mu')\n",
    "    tau = pm.HalfCauchy('tau', 5)\n",
    "    \n",
    "    # Parameter vector\n",
    "    theta = pm.Normal('theta', mu = mu, sigma = tau, shape = K)\n",
    "    \n",
    "    # Data likelihood\n",
    "    y_obs = pm.Normal('y_obs', mu = theta, sigma = sigma, observed = y)\n",
    "    \n",
    "    trace = pm.sample(4000, target_accept = 0.90, chains = 4, cores = 4, tune = 1000)"
   ]
  },
  {
   "cell_type": "code",
   "execution_count": null,
   "metadata": {},
   "outputs": [],
   "source": [
    "pm.summary(trace, var_names = ['mu', 'tau'])"
   ]
  },
  {
   "cell_type": "code",
   "execution_count": null,
   "metadata": {},
   "outputs": [],
   "source": [
    "with pm.Model() as noncentered_model:\n",
    "    # Hyperparameters\n",
    "    mu = pm.Normal('mu', mu = 0, sigma = 5)\n",
    "    tau = pm.HalfCauchy('tau', 5)\n",
    "    eta = pm.Normal('eta', mu = 0, sigma = 1, shape = K)\n",
    "    \n",
    "    # Parameter vector\n",
    "    theta = pm.Deterministic('theta', mu + tau * eta)\n",
    "    \n",
    "    # Data likelihood\n",
    "    y_obs = pm.Normal('y_obs', mu = theta, sigma = sigma, observed = y)\n",
    "    \n",
    "    trace = pm.sample(4000, target_accept = 0.90, chains = 4, cores = 4, tune = 1000)"
   ]
  },
  {
   "cell_type": "code",
   "execution_count": null,
   "metadata": {},
   "outputs": [],
   "source": [
    "pm.summary(trace, var_names = ['mu', 'tau'])"
   ]
  },
  {
   "cell_type": "code",
   "execution_count": null,
   "metadata": {},
   "outputs": [],
   "source": [
    "with pm.Model() as noncentered_model:\n",
    "    # Hyperparameters\n",
    "    tau = pm.HalfCauchy('tau', 5)\n",
    "    mu = pm.Normal('mu', mu = 0, sigma = 5)\n",
    "    eta = pm.Normal('eta', 0, 1, shape = 8)\n",
    "    \n",
    "    # Parameter vector\n",
    "    \n",
    "    theta = pm.Deterministic('theta', mu + tau * eta)\n",
    "    #theta = pm.Normal('theta', mu = mu, sigma = tau, shape = 8)\n",
    "    \n",
    "    # Data likelihood\n",
    "    y_obs = pm.Normal('y_obs', mu = theta, sigma = schools['SE'], observed = schools['Effect'])\n",
    "    \n",
    "    trace = pm.sample(5000, target_accept = 0.95, chains = 4, cores = 4, tune = 1000)"
   ]
  },
  {
   "cell_type": "code",
   "execution_count": null,
   "metadata": {},
   "outputs": [],
   "source": [
    "pm.summary(trace, var_names=['mu', 'theta', 'tau'])"
   ]
  },
  {
   "cell_type": "code",
   "execution_count": null,
   "metadata": {},
   "outputs": [],
   "source": [
    "pm.forestplot(trace, var_names = ['theta'])"
   ]
  },
  {
   "cell_type": "code",
   "execution_count": null,
   "metadata": {},
   "outputs": [],
   "source": []
  }
 ],
 "metadata": {
  "@webio": {
   "lastCommId": null,
   "lastKernelId": null
  },
  "kernelspec": {
   "display_name": "Python 3",
   "language": "python",
   "name": "python3"
  },
  "language_info": {
   "codemirror_mode": {
    "name": "ipython",
    "version": 3
   },
   "file_extension": ".py",
   "mimetype": "text/x-python",
   "name": "python",
   "nbconvert_exporter": "python",
   "pygments_lexer": "ipython3",
   "version": "3.8.6"
  }
 },
 "nbformat": 4,
 "nbformat_minor": 4
}
