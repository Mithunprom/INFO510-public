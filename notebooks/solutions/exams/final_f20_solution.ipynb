{
 "cells": [
  {
   "cell_type": "markdown",
   "metadata": {},
   "source": [
    "## Solution to the F20 final"
   ]
  },
  {
   "cell_type": "code",
   "execution_count": 1,
   "metadata": {},
   "outputs": [],
   "source": [
    "import numpy as np, scipy as sp, pandas as pd, pymc3 as pm, matplotlib.pyplot as plt\n",
    "from scipy import stats"
   ]
  },
  {
   "cell_type": "markdown",
   "metadata": {},
   "source": [
    "### Problem 1"
   ]
  },
  {
   "cell_type": "code",
   "execution_count": 2,
   "metadata": {},
   "outputs": [
    {
     "data": {
      "text/html": [
       "<div>\n",
       "<style scoped>\n",
       "    .dataframe tbody tr th:only-of-type {\n",
       "        vertical-align: middle;\n",
       "    }\n",
       "\n",
       "    .dataframe tbody tr th {\n",
       "        vertical-align: top;\n",
       "    }\n",
       "\n",
       "    .dataframe thead th {\n",
       "        text-align: right;\n",
       "    }\n",
       "</style>\n",
       "<table border=\"1\" class=\"dataframe\">\n",
       "  <thead>\n",
       "    <tr style=\"text-align: right;\">\n",
       "      <th></th>\n",
       "      <th>home</th>\n",
       "      <th>favorite</th>\n",
       "      <th>underdog</th>\n",
       "      <th>spread</th>\n",
       "      <th>favorite_name</th>\n",
       "      <th>underdog_name</th>\n",
       "      <th>week</th>\n",
       "      <th>diff</th>\n",
       "    </tr>\n",
       "  </thead>\n",
       "  <tbody>\n",
       "    <tr>\n",
       "      <th>21</th>\n",
       "      <td>0</td>\n",
       "      <td>17</td>\n",
       "      <td>23</td>\n",
       "      <td>7.0</td>\n",
       "      <td>LAN</td>\n",
       "      <td>NO</td>\n",
       "      <td>2</td>\n",
       "      <td>-6</td>\n",
       "    </tr>\n",
       "    <tr>\n",
       "      <th>24</th>\n",
       "      <td>1</td>\n",
       "      <td>28</td>\n",
       "      <td>23</td>\n",
       "      <td>7.0</td>\n",
       "      <td>SD</td>\n",
       "      <td>DET</td>\n",
       "      <td>2</td>\n",
       "      <td>5</td>\n",
       "    </tr>\n",
       "    <tr>\n",
       "      <th>35</th>\n",
       "      <td>1</td>\n",
       "      <td>35</td>\n",
       "      <td>23</td>\n",
       "      <td>7.0</td>\n",
       "      <td>LAN</td>\n",
       "      <td>GB</td>\n",
       "      <td>3</td>\n",
       "      <td>12</td>\n",
       "    </tr>\n",
       "    <tr>\n",
       "      <th>37</th>\n",
       "      <td>1</td>\n",
       "      <td>20</td>\n",
       "      <td>10</td>\n",
       "      <td>7.0</td>\n",
       "      <td>LAA</td>\n",
       "      <td>SEA</td>\n",
       "      <td>3</td>\n",
       "      <td>10</td>\n",
       "    </tr>\n",
       "    <tr>\n",
       "      <th>56</th>\n",
       "      <td>1</td>\n",
       "      <td>23</td>\n",
       "      <td>17</td>\n",
       "      <td>7.0</td>\n",
       "      <td>BUF</td>\n",
       "      <td>IND</td>\n",
       "      <td>5</td>\n",
       "      <td>6</td>\n",
       "    </tr>\n",
       "  </tbody>\n",
       "</table>\n",
       "</div>"
      ],
      "text/plain": [
       "    home  favorite  underdog  spread favorite_name underdog_name  week  diff\n",
       "21     0        17        23     7.0           LAN            NO     2    -6\n",
       "24     1        28        23     7.0            SD           DET     2     5\n",
       "35     1        35        23     7.0           LAN            GB     3    12\n",
       "37     1        20        10     7.0           LAA           SEA     3    10\n",
       "56     1        23        17     7.0           BUF           IND     5     6"
      ]
     },
     "execution_count": 2,
     "metadata": {},
     "output_type": "execute_result"
    }
   ],
   "source": [
    "scores = pd.read_csv('spread7.csv', index_col = 0)\n",
    "scores.head()"
   ]
  },
  {
   "cell_type": "markdown",
   "metadata": {},
   "source": [
    "First, we compute the following probabilities assuming that the quantity $y = (\\mbox{outcome} - \\mbox{point spread})$ has a distribution $N(0, 14^2)$:\n",
    "\n",
    "$$\n",
    "\\begin{align*}\n",
    "&P(\\mbox{favorite wins $|$ spread = 7}) \\\\\n",
    "&P(\\mbox{favorite wins by at least 7 $|$ spread = 7} ) \\\\\n",
    "&P(\\mbox{favorite wins by at least 7 $|$ spread = 7 and favorite wins} ) \\\\\n",
    "\\end{align*}\n",
    "$$\n",
    "\n",
    "The favorite wins if $y > -7$, so we have\n",
    "$$\n",
    "\\begin{align*}\n",
    "&P(\\mbox{favorite wins $|$ spread = 7}) = \\frac{1}{\\sqrt{2\\pi 14^2}} \\int_{-7}^\\infty \\exp\\left(-\\frac{1}{2}\\frac{(y - 7)^2}{14^2}\\right) dy \\approx 0.6915\n",
    "\\end{align*}\n",
    "$$\n",
    "where we compute the approximation with:"
   ]
  },
  {
   "cell_type": "code",
   "execution_count": 3,
   "metadata": {},
   "outputs": [
    {
     "data": {
      "text/plain": [
       "0.6914624612740131"
      ]
     },
     "execution_count": 3,
     "metadata": {},
     "output_type": "execute_result"
    }
   ],
   "source": [
    "1-sp.stats.norm(0, 14).cdf(-7)"
   ]
  },
  {
   "cell_type": "markdown",
   "metadata": {},
   "source": [
    "The favorite wins by at least 7 if $y \\geq 0$, which has probability 0.5.\n",
    "\n",
    "Finally, we can use the definition of conditional probability to find the last probability:\n",
    "\n",
    "$$ P(\\mbox{favorite wins by at least 7 $|$ spread = 7 and favorite wins} ) = \\frac{P(\\mbox{favorite wins by at least 7 $|$ spread = 7} )}{P(\\mbox{favorite wins $|$ spread = 7})} \\approx 0.7231 $$\n",
    "\n",
    "For a comparison, we compute the empirical probabilities from the data set:"
   ]
  },
  {
   "cell_type": "code",
   "execution_count": 4,
   "metadata": {},
   "outputs": [
    {
     "name": "stdout",
     "output_type": "stream",
     "text": [
      "P(fav wins): 0.7737226277372263\n",
      "P(fav wins by 7): 0.5474452554744526\n",
      "P(fav wins by 7 | fav wins): 0.7075471698113207\n"
     ]
    }
   ],
   "source": [
    "print('P(fav wins):', sum(scores['diff'] > 0) / len(scores))\n",
    "print('P(fav wins by 7):', sum(scores['diff'] >= 7) / len(scores))\n",
    "print('P(fav wins by 7 | fav wins):', sum(scores['diff'] >= 7) / sum(scores['diff'] > 0))"
   ]
  },
  {
   "cell_type": "markdown",
   "metadata": {},
   "source": [
    "The first probability is not approximated very well, although the others are better. This may be attributable to the fact that a game ending in a tie score continues for an \"overtime\" period, reducing the probability that the final score is exactly 0 and transferring that probability mass to neighboring scores (this might be thought of as a \"zero-deflated\" process), meaning that the continuous approximation fares especially poorly near $y = 0$."
   ]
  },
  {
   "cell_type": "markdown",
   "metadata": {},
   "source": [
    "### Problem 2\n",
    "\n",
    "We'll show two approaches: First, computing the predictive probability explicitly by integrating over the posterior distribution; second, estimating it by sampling from the posterior predictive distribution. Skip to **alternative approach** below if you don't want to deal with integrals :)\n",
    "\n",
    "First, we consider the hypothesis that the intermediate data showed 8 cases in the vaccine arm and 86 in the placebo arm. Under this hypothesis, and the model\n",
    "$$\n",
    "\\begin{align*}\n",
    "y &\\sim \\mathrm{Binomial}(n, \\theta) \\\\\n",
    "\\theta &\\sim \\mathrm{Beta}(0.7, 1.0) \\\\\n",
    "\\end{align*}\n",
    "$$\n",
    "the posterior distribution is $\\theta | y_{\\mathrm{obs}} \\sim \\mathrm{Beta}(0.7 + 8, 1 + 86)$.\n",
    "\n",
    "If this is the case, then the remaining data consists of 82 cases in the placebo arm and 0 in the vaccine arm; denote this as $y' = 0$.\n",
    "To compute the posterior predictive probability of this, we marginalize over $\\theta$:\n",
    "\n",
    "$$ \n",
    "\\begin{align*}\n",
    "p(y' = 0 | y_{\\mathrm{obs}}) &= \\int_0^1 p(y' = 0 | \\theta) p(\\theta | y_{\\mathrm{obs}}) d\\theta  \\\\\n",
    "&= \\frac{1}{B(8.7, 87)}\\int_0^1 (1 - \\theta)^{82} \\theta^{7.7} (1 - \\theta)^{86} d\\theta \\\\\n",
    "&= \\frac{1}{B(8.7, 87)}\\int_0^1 \\theta^{7.7} (1 - \\theta)^{168} d\\theta\n",
    "\\end{align*}\n",
    "$$\n",
    "\n",
    "where $B(8.7, 87)$ is the normalizing constant for a $\\mathrm{Beta(8.7, 87)}$ distribution.\n",
    "\n",
    "We can compute this either using numerical integration, or with repeated integration by parts. Starting with the normalizing constant,\n",
    "$$\n",
    "B(8.7, 87) = \\int_0^1 \\theta^{7.7} (1-\\theta)^{86} d\\theta\n",
    "$$\n",
    "Integrating by parts once,\n",
    "$$\n",
    "\\int_0^1 \\theta^{7.7} (1-\\theta)^{86} d\\theta = \\frac{86}{8.7} \\int_0^1 \\theta^{8.7} (1-\\theta)^{85} d\\theta\n",
    "$$\n",
    "Repeating until the power on $(1 - \\theta)$ is zero,\n",
    "$$\n",
    "\\int_0^1 \\theta^{7.7} (1-\\theta)^{86} d\\theta = \\frac{86!}{(8.7)(9.7)\\ldots(93.7)} \\int_0^1 \\theta^{93.7}d\\theta = \\frac{86!}{(8.7)(9.7)\\ldots(94.7)}\n",
    "$$\n",
    "\n",
    "So,\n",
    "$$\n",
    "B(8.7, 87) =  \\frac{86!}{(8.7)(9.7)\\ldots(94.7)}\n",
    "$$\n",
    "and,\n",
    "$$\n",
    "p(y' = 0 | y_{\\mathrm{obs}}) = \\frac{(8.7)(9.7)\\ldots(94.7)}{86!} \\int_0^1 \\theta^{7.7} (1 - \\theta)^{168} d\\theta\n",
    "$$\n",
    "The integral has the same form as the beta integral, so we can just apply the same technique:\n",
    "$$\n",
    "p(y' = 0 | y_{\\mathrm{obs}}) = \\frac{(8.7)(9.7)\\ldots(94.7)}{86!} \\frac{168!}{(8.7)(9.7)\\ldots(176.7)} \\approx 0.0037\n",
    "$$\n",
    "Below we compute using the exact formula and by numerical integration, confirming that they produce approximately the same result."
   ]
  },
  {
   "cell_type": "code",
   "execution_count": 5,
   "metadata": {},
   "outputs": [
    {
     "name": "stdout",
     "output_type": "stream",
     "text": [
      "1.9631007157014142e-13\n"
     ]
    },
    {
     "data": {
      "text/plain": [
       "1.9631007157013905e-13"
      ]
     },
     "execution_count": 5,
     "metadata": {},
     "output_type": "execute_result"
    }
   ],
   "source": [
    "b = 1\n",
    "for i in range(86):\n",
    "    b *= (86 - i) / (8.7 + i)\n",
    "b /= 94.7\n",
    "print(b)\n",
    "sp.special.beta(8.7, 87) # make sure we didn't mess up :)"
   ]
  },
  {
   "cell_type": "code",
   "execution_count": 6,
   "metadata": {},
   "outputs": [
    {
     "data": {
      "text/plain": [
       "0.003704002854739326"
      ]
     },
     "execution_count": 6,
     "metadata": {},
     "output_type": "execute_result"
    }
   ],
   "source": [
    "p = 1\n",
    "for i in range(168):\n",
    "    p *= (168 - i) / (8.7 + i)\n",
    "p /= 176.7\n",
    "p / b"
   ]
  },
  {
   "cell_type": "code",
   "execution_count": 7,
   "metadata": {},
   "outputs": [
    {
     "data": {
      "text/plain": [
       "0.0037042653645103425"
      ]
     },
     "execution_count": 7,
     "metadata": {},
     "output_type": "execute_result"
    }
   ],
   "source": [
    "from scipy import integrate\n",
    "f = lambda t: (t ** 7.7) * (1 - t) ** 168\n",
    "sp.integrate.quad(f, 0, 1)[0] / sp.special.beta(8.7, 87)"
   ]
  },
  {
   "cell_type": "markdown",
   "metadata": {},
   "source": [
    "By the same approach, under the second hypothesis, the posterior distribution is $\\theta | y_{\\mathrm{obs}} \\sim \\mathrm{Beta}(0.7 + 3, 1 + 91)$, and the remaining data consist of 5 cases in the vaccine arm and 77 in the placebo arm.\n",
    "\n",
    "Then, \n",
    "$$ \n",
    "\\begin{align*}\n",
    "p(y' = 5 | y_{\\mathrm{obs}}) &= \\int_0^1 p(y' = 0 | \\theta) p(\\theta | y_{\\mathrm{obs}}) d\\theta  \\\\\n",
    "&= \\frac{1}{B(3.7, 92)}\\left(\\begin{array}{c}82\\\\5\\end{array}\\right)\\int_0^1 \\theta^5 (1 - \\theta)^{77} \\theta^{2.7} (1 - \\theta)^{91} d\\theta \\\\\n",
    "&= \\frac{1}{B(3.7, 92)}\\left(\\begin{array}{c}82\\\\5\\end{array}\\right)\\int_0^1 \\theta^{7.7} (1 - \\theta)^{168} d\\theta\n",
    "\\end{align*}\n",
    "$$\n",
    "\n",
    "Integrating by parts again,\n",
    "$$\n",
    "p(y' = 5 | y_{\\mathrm{obs}}) = \\left(\\begin{array}{c}82\\\\5\\end{array}\\right) \\frac{(3.7)(4.7) \\ldots (94.7)}{91!} \\frac{168!}{(8.7)(9.7)\\ldots(176.7)} \\approx 0.0926\n",
    "$$"
   ]
  },
  {
   "cell_type": "code",
   "execution_count": 8,
   "metadata": {},
   "outputs": [
    {
     "data": {
      "text/plain": [
       "0.09261146436606198"
      ]
     },
     "execution_count": 8,
     "metadata": {},
     "output_type": "execute_result"
    }
   ],
   "source": [
    "# Exact formula\n",
    "b = 1\n",
    "for i in range(91):\n",
    "    b *= (91 - i) / (3.7 + i)\n",
    "b /= 94.7\n",
    "p = 1\n",
    "for i in range(168):\n",
    "    p *= (168 - i) / (8.7 + i)\n",
    "p /= 176.7\n",
    "(p / b) * sp.special.binom(82, 5)"
   ]
  },
  {
   "cell_type": "code",
   "execution_count": 9,
   "metadata": {},
   "outputs": [
    {
     "data": {
      "text/plain": [
       "0.09261146436820741"
      ]
     },
     "execution_count": 9,
     "metadata": {},
     "output_type": "execute_result"
    }
   ],
   "source": [
    "# Numerical integration\n",
    "g = lambda t: sp.special.binom(82,5) * (t ** 7.7) * (1 - t) ** 168\n",
    "sp.integrate.quad(g, 0, 1)[0] / sp.special.beta(3.7, 92)"
   ]
  },
  {
   "cell_type": "markdown",
   "metadata": {},
   "source": [
    "This suggests that of these two hypotheses, the second is more plausible: the first yields a predictive probability of 0.0037 for the new data; the second, 0.0926.\n",
    "\n",
    "**Alternative approach:** We could approximate these results by sampling -- generating values of $\\theta$ from the posterior and then sampling the corresponding binomial distribution."
   ]
  },
  {
   "cell_type": "code",
   "execution_count": 10,
   "metadata": {},
   "outputs": [
    {
     "name": "stdout",
     "output_type": "stream",
     "text": [
      "0.004\n",
      "0.0954\n"
     ]
    }
   ],
   "source": [
    "posterior_1 = sp.stats.beta(8.7, 87)\n",
    "posterior_2 = sp.stats.beta(3.7, 92)\n",
    "\n",
    "post_smp_1 = posterior_1.rvs(5000)\n",
    "post_smp_2 = posterior_2.rvs(5000)\n",
    "\n",
    "post_pred_1 = [sp.stats.binom(82, p).rvs() for p in post_smp_1]\n",
    "post_pred_2 = [sp.stats.binom(82, p).rvs() for p in post_smp_2]\n",
    "print(post_pred_1.count(0) / 5000)        # How many times do we see 0 vaccine cases?\n",
    "print(post_pred_2.count(5) / 5000)        # How many times do we see 5 vaccine cases?"
   ]
  },
  {
   "cell_type": "markdown",
   "metadata": {},
   "source": [
    "### Problem 3"
   ]
  },
  {
   "cell_type": "code",
   "execution_count": 11,
   "metadata": {},
   "outputs": [
    {
     "data": {
      "text/html": [
       "<div>\n",
       "<style scoped>\n",
       "    .dataframe tbody tr th:only-of-type {\n",
       "        vertical-align: middle;\n",
       "    }\n",
       "\n",
       "    .dataframe tbody tr th {\n",
       "        vertical-align: top;\n",
       "    }\n",
       "\n",
       "    .dataframe thead th {\n",
       "        text-align: right;\n",
       "    }\n",
       "</style>\n",
       "<table border=\"1\" class=\"dataframe\">\n",
       "  <thead>\n",
       "    <tr style=\"text-align: right;\">\n",
       "      <th></th>\n",
       "      <th>discipline</th>\n",
       "      <th>gender</th>\n",
       "      <th>applications</th>\n",
       "      <th>awards</th>\n",
       "      <th>genderid</th>\n",
       "      <th>discid</th>\n",
       "    </tr>\n",
       "  </thead>\n",
       "  <tbody>\n",
       "    <tr>\n",
       "      <th>0</th>\n",
       "      <td>Chemical sciences</td>\n",
       "      <td>m</td>\n",
       "      <td>83</td>\n",
       "      <td>22</td>\n",
       "      <td>1</td>\n",
       "      <td>0</td>\n",
       "    </tr>\n",
       "    <tr>\n",
       "      <th>1</th>\n",
       "      <td>Chemical sciences</td>\n",
       "      <td>f</td>\n",
       "      <td>39</td>\n",
       "      <td>10</td>\n",
       "      <td>0</td>\n",
       "      <td>0</td>\n",
       "    </tr>\n",
       "    <tr>\n",
       "      <th>2</th>\n",
       "      <td>Physical sciences</td>\n",
       "      <td>m</td>\n",
       "      <td>135</td>\n",
       "      <td>26</td>\n",
       "      <td>1</td>\n",
       "      <td>5</td>\n",
       "    </tr>\n",
       "    <tr>\n",
       "      <th>3</th>\n",
       "      <td>Physical sciences</td>\n",
       "      <td>f</td>\n",
       "      <td>39</td>\n",
       "      <td>9</td>\n",
       "      <td>0</td>\n",
       "      <td>5</td>\n",
       "    </tr>\n",
       "    <tr>\n",
       "      <th>4</th>\n",
       "      <td>Physics</td>\n",
       "      <td>m</td>\n",
       "      <td>67</td>\n",
       "      <td>18</td>\n",
       "      <td>1</td>\n",
       "      <td>6</td>\n",
       "    </tr>\n",
       "    <tr>\n",
       "      <th>5</th>\n",
       "      <td>Physics</td>\n",
       "      <td>f</td>\n",
       "      <td>9</td>\n",
       "      <td>2</td>\n",
       "      <td>0</td>\n",
       "      <td>6</td>\n",
       "    </tr>\n",
       "    <tr>\n",
       "      <th>6</th>\n",
       "      <td>Humanities</td>\n",
       "      <td>m</td>\n",
       "      <td>230</td>\n",
       "      <td>33</td>\n",
       "      <td>1</td>\n",
       "      <td>2</td>\n",
       "    </tr>\n",
       "    <tr>\n",
       "      <th>7</th>\n",
       "      <td>Humanities</td>\n",
       "      <td>f</td>\n",
       "      <td>166</td>\n",
       "      <td>32</td>\n",
       "      <td>0</td>\n",
       "      <td>2</td>\n",
       "    </tr>\n",
       "    <tr>\n",
       "      <th>8</th>\n",
       "      <td>Technical sciences</td>\n",
       "      <td>m</td>\n",
       "      <td>189</td>\n",
       "      <td>30</td>\n",
       "      <td>1</td>\n",
       "      <td>8</td>\n",
       "    </tr>\n",
       "    <tr>\n",
       "      <th>9</th>\n",
       "      <td>Technical sciences</td>\n",
       "      <td>f</td>\n",
       "      <td>62</td>\n",
       "      <td>13</td>\n",
       "      <td>0</td>\n",
       "      <td>8</td>\n",
       "    </tr>\n",
       "    <tr>\n",
       "      <th>10</th>\n",
       "      <td>Interdisciplinary</td>\n",
       "      <td>m</td>\n",
       "      <td>105</td>\n",
       "      <td>12</td>\n",
       "      <td>1</td>\n",
       "      <td>3</td>\n",
       "    </tr>\n",
       "    <tr>\n",
       "      <th>11</th>\n",
       "      <td>Interdisciplinary</td>\n",
       "      <td>f</td>\n",
       "      <td>78</td>\n",
       "      <td>17</td>\n",
       "      <td>0</td>\n",
       "      <td>3</td>\n",
       "    </tr>\n",
       "    <tr>\n",
       "      <th>12</th>\n",
       "      <td>Earth/life sciences</td>\n",
       "      <td>m</td>\n",
       "      <td>156</td>\n",
       "      <td>38</td>\n",
       "      <td>1</td>\n",
       "      <td>1</td>\n",
       "    </tr>\n",
       "    <tr>\n",
       "      <th>13</th>\n",
       "      <td>Earth/life sciences</td>\n",
       "      <td>f</td>\n",
       "      <td>126</td>\n",
       "      <td>18</td>\n",
       "      <td>0</td>\n",
       "      <td>1</td>\n",
       "    </tr>\n",
       "    <tr>\n",
       "      <th>14</th>\n",
       "      <td>Social sciences</td>\n",
       "      <td>m</td>\n",
       "      <td>425</td>\n",
       "      <td>65</td>\n",
       "      <td>1</td>\n",
       "      <td>7</td>\n",
       "    </tr>\n",
       "    <tr>\n",
       "      <th>15</th>\n",
       "      <td>Social sciences</td>\n",
       "      <td>f</td>\n",
       "      <td>409</td>\n",
       "      <td>47</td>\n",
       "      <td>0</td>\n",
       "      <td>7</td>\n",
       "    </tr>\n",
       "    <tr>\n",
       "      <th>16</th>\n",
       "      <td>Medical sciences</td>\n",
       "      <td>m</td>\n",
       "      <td>245</td>\n",
       "      <td>46</td>\n",
       "      <td>1</td>\n",
       "      <td>4</td>\n",
       "    </tr>\n",
       "    <tr>\n",
       "      <th>17</th>\n",
       "      <td>Medical sciences</td>\n",
       "      <td>f</td>\n",
       "      <td>260</td>\n",
       "      <td>29</td>\n",
       "      <td>0</td>\n",
       "      <td>4</td>\n",
       "    </tr>\n",
       "  </tbody>\n",
       "</table>\n",
       "</div>"
      ],
      "text/plain": [
       "             discipline gender  applications  awards  genderid  discid\n",
       "0     Chemical sciences      m            83      22         1       0\n",
       "1     Chemical sciences      f            39      10         0       0\n",
       "2     Physical sciences      m           135      26         1       5\n",
       "3     Physical sciences      f            39       9         0       5\n",
       "4               Physics      m            67      18         1       6\n",
       "5               Physics      f             9       2         0       6\n",
       "6            Humanities      m           230      33         1       2\n",
       "7            Humanities      f           166      32         0       2\n",
       "8    Technical sciences      m           189      30         1       8\n",
       "9    Technical sciences      f            62      13         0       8\n",
       "10    Interdisciplinary      m           105      12         1       3\n",
       "11    Interdisciplinary      f            78      17         0       3\n",
       "12  Earth/life sciences      m           156      38         1       1\n",
       "13  Earth/life sciences      f           126      18         0       1\n",
       "14      Social sciences      m           425      65         1       7\n",
       "15      Social sciences      f           409      47         0       7\n",
       "16     Medical sciences      m           245      46         1       4\n",
       "17     Medical sciences      f           260      29         0       4"
      ]
     },
     "execution_count": 11,
     "metadata": {},
     "output_type": "execute_result"
    }
   ],
   "source": [
    "from sklearn.preprocessing import OrdinalEncoder, LabelEncoder\n",
    "\n",
    "grants = pd.read_csv('NWOGrants.csv', sep = ';')\n",
    "#grants['gender_m'] = (grants.gender == 'm').astype(np.int64)\n",
    "#grants['gender_f'] = (grants.gender == 'f').astype(np.int64)\n",
    "grants['genderid'] = LabelEncoder().fit_transform(grants.gender)\n",
    "grants['discid'] = OrdinalEncoder().fit_transform(grants[['discipline']]).astype(np.int64)\n",
    "grants"
   ]
  },
  {
   "cell_type": "markdown",
   "metadata": {},
   "source": [
    "We start with a simple model that only includes gender. Below is a forest plot for the intercept (interpreted as a baseline funding probability), and the slope (interpreted as the total effect of gender)."
   ]
  },
  {
   "cell_type": "code",
   "execution_count": 12,
   "metadata": {},
   "outputs": [
    {
     "name": "stderr",
     "output_type": "stream",
     "text": [
      "Auto-assigning NUTS sampler...\n",
      "Initializing NUTS using jitter+adapt_diag...\n",
      "Multiprocess sampling (4 chains in 4 jobs)\n",
      "NUTS: [bm, a]\n",
      "Sampling 4 chains, 0 divergences: 100%|██████████| 36000/36000 [00:11<00:00, 3221.25draws/s]\n"
     ]
    },
    {
     "data": {
      "image/png": "[encoded data removed]",
      "text/plain": [
       "<Figure size 432x417.6 with 1 Axes>"
      ]
     },
     "metadata": {
      "needs_background": "light"
     },
     "output_type": "display_data"
    }
   ],
   "source": [
    "with pm.Model() as univariate_model:\n",
    "    a = pm.Normal('a', 0, 4)\n",
    "    bm = pm.Normal('bm', 0, 0.2)\n",
    "    #bf = pm.Normal('bf', 0, 0.2)\n",
    "    p = pm.math.invlogit(a + bm * grants.genderid )# + bf * grants.gender_f)\n",
    "    y = pm.Binomial('y', p=p, n=grants.applications, observed = grants.awards)\n",
    "    \n",
    "    trace_univariate = pm.sample(6000, target_accept = 0.9, tune = 3000, chains = 4, cores = 4)\n",
    "    summary_univariate = pm.summary(trace_univariate, var_names = ['a', 'bm'])\n",
    "    pm.forestplot(trace_univariate, var_names = ['a', 'bm'])\n",
    "    #pm.traceplot(trace_univariate) # Commenting out because this spits a ton of matplotlib warnings on my current environment"
   ]
  },
  {
   "cell_type": "markdown",
   "metadata": {},
   "source": [
    "Now, the model including discipline, in the form of 9 varying intercepts."
   ]
  },
  {
   "cell_type": "code",
   "execution_count": 13,
   "metadata": {},
   "outputs": [
    {
     "name": "stderr",
     "output_type": "stream",
     "text": [
      "Auto-assigning NUTS sampler...\n",
      "Initializing NUTS using jitter+adapt_diag...\n",
      "Multiprocess sampling (4 chains in 4 jobs)\n",
      "NUTS: [bm, bd, a]\n",
      "Sampling 4 chains, 0 divergences: 100%|██████████| 36000/36000 [00:24<00:00, 1459.61draws/s]\n",
      "The number of effective samples is smaller than 25% for some parameters.\n"
     ]
    },
    {
     "data": {
      "image/png": "[encoded data removed]",
      "text/plain": [
       "<Figure size 432x748.8 with 1 Axes>"
      ]
     },
     "metadata": {
      "needs_background": "light"
     },
     "output_type": "display_data"
    }
   ],
   "source": [
    "with pm.Model() as bivariate_model:\n",
    "    a = pm.Normal('a', 0, 4)\n",
    "    bd = pm.Normal('bd', 0, 0.5, shape = 9)\n",
    "    \n",
    "    bm = pm.Normal('bm', 0, 0.5)\n",
    "    p = pm.math.invlogit(a + bd[grants.discid.values] + bm * grants.genderid)\n",
    "    y = pm.Binomial('y', p=p, n=grants.applications, observed = grants.awards)\n",
    "    \n",
    "    trace_bivariate = pm.sample(6000, target_accept = 0.9, tune = 3000, chains = 4, cores = 4)\n",
    "    summary_bivariate = pm.summary(trace_bivariate, var_names = ['a', 'bm', 'bd'])\n",
    "    pm.forestplot(trace_bivariate, var_names = ['a', 'bd', 'bm'])\n",
    "    #pm.traceplot(trace_bivariate)"
   ]
  },
  {
   "cell_type": "markdown",
   "metadata": {},
   "source": [
    "We see some variation accounted for by discipline, including a few disciplines that are funded at especially high (e.g. physics) or low (e.g. social sciences) rates. (Sorry, social scientists!) Finally, let's compare the posterior distributions of the slopes for each model."
   ]
  },
  {
   "cell_type": "code",
   "execution_count": 14,
   "metadata": {},
   "outputs": [
    {
     "data": {
      "text/plain": [
       "array([<AxesSubplot:title={'center':'bm'}>], dtype=object)"
      ]
     },
     "execution_count": 14,
     "metadata": {},
     "output_type": "execute_result"
    },
    {
     "data": {
      "image/png": "[encoded data removed]",
      "text/plain": [
       "<Figure size 432x288 with 1 Axes>"
      ]
     },
     "metadata": {
      "needs_background": "light"
     },
     "output_type": "display_data"
    },
    {
     "data": {
      "image/png": "[encoded data removed]",
      "text/plain": [
       "<Figure size 432x288 with 1 Axes>"
      ]
     },
     "metadata": {
      "needs_background": "light"
     },
     "output_type": "display_data"
    }
   ],
   "source": [
    "pm.plot_posterior(trace_univariate, var_names = ['bm'])\n",
    "pm.plot_posterior(trace_bivariate, var_names = ['bm'])"
   ]
  },
  {
   "cell_type": "markdown",
   "metadata": {},
   "source": [
    "From the above, we see that in both cases, most of the posterior probability mass lies above 0, suggesting that grants from male applicants are funded at a higher rate. A small amount of this difference is accounted for by discipline, as the model conditioning for discipline has a slightly lower posterior mean and a little more posterior probability mass below 0.\n",
    "\n",
    "If we add an unobserved variable that influences discipline and funding, this analysis no longer works, because discipline is a collider between gender and our unobserved variable, so conditioning on gender opens a backdoor path."
   ]
  },
  {
   "cell_type": "markdown",
   "metadata": {},
   "source": [
    "### Problem 4"
   ]
  },
  {
   "cell_type": "code",
   "execution_count": 15,
   "metadata": {},
   "outputs": [
    {
     "data": {
      "text/html": [
       "<div>\n",
       "<style scoped>\n",
       "    .dataframe tbody tr th:only-of-type {\n",
       "        vertical-align: middle;\n",
       "    }\n",
       "\n",
       "    .dataframe tbody tr th {\n",
       "        vertical-align: top;\n",
       "    }\n",
       "\n",
       "    .dataframe thead th {\n",
       "        text-align: right;\n",
       "    }\n",
       "</style>\n",
       "<table border=\"1\" class=\"dataframe\">\n",
       "  <thead>\n",
       "    <tr style=\"text-align: right;\">\n",
       "      <th></th>\n",
       "      <th>density</th>\n",
       "      <th>pred</th>\n",
       "      <th>size</th>\n",
       "      <th>surv</th>\n",
       "      <th>propsurv</th>\n",
       "      <th>pred_id</th>\n",
       "    </tr>\n",
       "  </thead>\n",
       "  <tbody>\n",
       "    <tr>\n",
       "      <th>0</th>\n",
       "      <td>10</td>\n",
       "      <td>no</td>\n",
       "      <td>big</td>\n",
       "      <td>9</td>\n",
       "      <td>0.900000</td>\n",
       "      <td>0</td>\n",
       "    </tr>\n",
       "    <tr>\n",
       "      <th>1</th>\n",
       "      <td>10</td>\n",
       "      <td>no</td>\n",
       "      <td>big</td>\n",
       "      <td>10</td>\n",
       "      <td>1.000000</td>\n",
       "      <td>0</td>\n",
       "    </tr>\n",
       "    <tr>\n",
       "      <th>2</th>\n",
       "      <td>10</td>\n",
       "      <td>no</td>\n",
       "      <td>big</td>\n",
       "      <td>7</td>\n",
       "      <td>0.700000</td>\n",
       "      <td>0</td>\n",
       "    </tr>\n",
       "    <tr>\n",
       "      <th>3</th>\n",
       "      <td>10</td>\n",
       "      <td>no</td>\n",
       "      <td>big</td>\n",
       "      <td>10</td>\n",
       "      <td>1.000000</td>\n",
       "      <td>0</td>\n",
       "    </tr>\n",
       "    <tr>\n",
       "      <th>4</th>\n",
       "      <td>10</td>\n",
       "      <td>no</td>\n",
       "      <td>small</td>\n",
       "      <td>9</td>\n",
       "      <td>0.900000</td>\n",
       "      <td>0</td>\n",
       "    </tr>\n",
       "    <tr>\n",
       "      <th>5</th>\n",
       "      <td>10</td>\n",
       "      <td>no</td>\n",
       "      <td>small</td>\n",
       "      <td>9</td>\n",
       "      <td>0.900000</td>\n",
       "      <td>0</td>\n",
       "    </tr>\n",
       "    <tr>\n",
       "      <th>6</th>\n",
       "      <td>10</td>\n",
       "      <td>no</td>\n",
       "      <td>small</td>\n",
       "      <td>10</td>\n",
       "      <td>1.000000</td>\n",
       "      <td>0</td>\n",
       "    </tr>\n",
       "    <tr>\n",
       "      <th>7</th>\n",
       "      <td>10</td>\n",
       "      <td>no</td>\n",
       "      <td>small</td>\n",
       "      <td>9</td>\n",
       "      <td>0.900000</td>\n",
       "      <td>0</td>\n",
       "    </tr>\n",
       "    <tr>\n",
       "      <th>8</th>\n",
       "      <td>10</td>\n",
       "      <td>pred</td>\n",
       "      <td>big</td>\n",
       "      <td>4</td>\n",
       "      <td>0.400000</td>\n",
       "      <td>1</td>\n",
       "    </tr>\n",
       "    <tr>\n",
       "      <th>9</th>\n",
       "      <td>10</td>\n",
       "      <td>pred</td>\n",
       "      <td>big</td>\n",
       "      <td>9</td>\n",
       "      <td>0.900000</td>\n",
       "      <td>1</td>\n",
       "    </tr>\n",
       "    <tr>\n",
       "      <th>10</th>\n",
       "      <td>10</td>\n",
       "      <td>pred</td>\n",
       "      <td>big</td>\n",
       "      <td>7</td>\n",
       "      <td>0.700000</td>\n",
       "      <td>1</td>\n",
       "    </tr>\n",
       "    <tr>\n",
       "      <th>11</th>\n",
       "      <td>10</td>\n",
       "      <td>pred</td>\n",
       "      <td>big</td>\n",
       "      <td>6</td>\n",
       "      <td>0.600000</td>\n",
       "      <td>1</td>\n",
       "    </tr>\n",
       "    <tr>\n",
       "      <th>12</th>\n",
       "      <td>10</td>\n",
       "      <td>pred</td>\n",
       "      <td>small</td>\n",
       "      <td>7</td>\n",
       "      <td>0.700000</td>\n",
       "      <td>1</td>\n",
       "    </tr>\n",
       "    <tr>\n",
       "      <th>13</th>\n",
       "      <td>10</td>\n",
       "      <td>pred</td>\n",
       "      <td>small</td>\n",
       "      <td>5</td>\n",
       "      <td>0.500000</td>\n",
       "      <td>1</td>\n",
       "    </tr>\n",
       "    <tr>\n",
       "      <th>14</th>\n",
       "      <td>10</td>\n",
       "      <td>pred</td>\n",
       "      <td>small</td>\n",
       "      <td>9</td>\n",
       "      <td>0.900000</td>\n",
       "      <td>1</td>\n",
       "    </tr>\n",
       "    <tr>\n",
       "      <th>15</th>\n",
       "      <td>10</td>\n",
       "      <td>pred</td>\n",
       "      <td>small</td>\n",
       "      <td>9</td>\n",
       "      <td>0.900000</td>\n",
       "      <td>1</td>\n",
       "    </tr>\n",
       "    <tr>\n",
       "      <th>16</th>\n",
       "      <td>25</td>\n",
       "      <td>no</td>\n",
       "      <td>big</td>\n",
       "      <td>24</td>\n",
       "      <td>0.960000</td>\n",
       "      <td>0</td>\n",
       "    </tr>\n",
       "    <tr>\n",
       "      <th>17</th>\n",
       "      <td>25</td>\n",
       "      <td>no</td>\n",
       "      <td>big</td>\n",
       "      <td>23</td>\n",
       "      <td>0.920000</td>\n",
       "      <td>0</td>\n",
       "    </tr>\n",
       "    <tr>\n",
       "      <th>18</th>\n",
       "      <td>25</td>\n",
       "      <td>no</td>\n",
       "      <td>big</td>\n",
       "      <td>22</td>\n",
       "      <td>0.880000</td>\n",
       "      <td>0</td>\n",
       "    </tr>\n",
       "    <tr>\n",
       "      <th>19</th>\n",
       "      <td>25</td>\n",
       "      <td>no</td>\n",
       "      <td>big</td>\n",
       "      <td>25</td>\n",
       "      <td>1.000000</td>\n",
       "      <td>0</td>\n",
       "    </tr>\n",
       "    <tr>\n",
       "      <th>20</th>\n",
       "      <td>25</td>\n",
       "      <td>no</td>\n",
       "      <td>small</td>\n",
       "      <td>23</td>\n",
       "      <td>0.920000</td>\n",
       "      <td>0</td>\n",
       "    </tr>\n",
       "    <tr>\n",
       "      <th>21</th>\n",
       "      <td>25</td>\n",
       "      <td>no</td>\n",
       "      <td>small</td>\n",
       "      <td>23</td>\n",
       "      <td>0.920000</td>\n",
       "      <td>0</td>\n",
       "    </tr>\n",
       "    <tr>\n",
       "      <th>22</th>\n",
       "      <td>25</td>\n",
       "      <td>no</td>\n",
       "      <td>small</td>\n",
       "      <td>23</td>\n",
       "      <td>0.920000</td>\n",
       "      <td>0</td>\n",
       "    </tr>\n",
       "    <tr>\n",
       "      <th>23</th>\n",
       "      <td>25</td>\n",
       "      <td>no</td>\n",
       "      <td>small</td>\n",
       "      <td>21</td>\n",
       "      <td>0.840000</td>\n",
       "      <td>0</td>\n",
       "    </tr>\n",
       "    <tr>\n",
       "      <th>24</th>\n",
       "      <td>25</td>\n",
       "      <td>pred</td>\n",
       "      <td>big</td>\n",
       "      <td>6</td>\n",
       "      <td>0.240000</td>\n",
       "      <td>1</td>\n",
       "    </tr>\n",
       "    <tr>\n",
       "      <th>25</th>\n",
       "      <td>25</td>\n",
       "      <td>pred</td>\n",
       "      <td>big</td>\n",
       "      <td>13</td>\n",
       "      <td>0.520000</td>\n",
       "      <td>1</td>\n",
       "    </tr>\n",
       "    <tr>\n",
       "      <th>26</th>\n",
       "      <td>25</td>\n",
       "      <td>pred</td>\n",
       "      <td>big</td>\n",
       "      <td>4</td>\n",
       "      <td>0.160000</td>\n",
       "      <td>1</td>\n",
       "    </tr>\n",
       "    <tr>\n",
       "      <th>27</th>\n",
       "      <td>25</td>\n",
       "      <td>pred</td>\n",
       "      <td>big</td>\n",
       "      <td>9</td>\n",
       "      <td>0.360000</td>\n",
       "      <td>1</td>\n",
       "    </tr>\n",
       "    <tr>\n",
       "      <th>28</th>\n",
       "      <td>25</td>\n",
       "      <td>pred</td>\n",
       "      <td>small</td>\n",
       "      <td>13</td>\n",
       "      <td>0.520000</td>\n",
       "      <td>1</td>\n",
       "    </tr>\n",
       "    <tr>\n",
       "      <th>29</th>\n",
       "      <td>25</td>\n",
       "      <td>pred</td>\n",
       "      <td>small</td>\n",
       "      <td>20</td>\n",
       "      <td>0.800000</td>\n",
       "      <td>1</td>\n",
       "    </tr>\n",
       "    <tr>\n",
       "      <th>30</th>\n",
       "      <td>25</td>\n",
       "      <td>pred</td>\n",
       "      <td>small</td>\n",
       "      <td>8</td>\n",
       "      <td>0.320000</td>\n",
       "      <td>1</td>\n",
       "    </tr>\n",
       "    <tr>\n",
       "      <th>31</th>\n",
       "      <td>25</td>\n",
       "      <td>pred</td>\n",
       "      <td>small</td>\n",
       "      <td>10</td>\n",
       "      <td>0.400000</td>\n",
       "      <td>1</td>\n",
       "    </tr>\n",
       "    <tr>\n",
       "      <th>32</th>\n",
       "      <td>35</td>\n",
       "      <td>no</td>\n",
       "      <td>big</td>\n",
       "      <td>34</td>\n",
       "      <td>0.971429</td>\n",
       "      <td>0</td>\n",
       "    </tr>\n",
       "    <tr>\n",
       "      <th>33</th>\n",
       "      <td>35</td>\n",
       "      <td>no</td>\n",
       "      <td>big</td>\n",
       "      <td>33</td>\n",
       "      <td>0.942857</td>\n",
       "      <td>0</td>\n",
       "    </tr>\n",
       "    <tr>\n",
       "      <th>34</th>\n",
       "      <td>35</td>\n",
       "      <td>no</td>\n",
       "      <td>big</td>\n",
       "      <td>33</td>\n",
       "      <td>0.942857</td>\n",
       "      <td>0</td>\n",
       "    </tr>\n",
       "    <tr>\n",
       "      <th>35</th>\n",
       "      <td>35</td>\n",
       "      <td>no</td>\n",
       "      <td>big</td>\n",
       "      <td>31</td>\n",
       "      <td>0.885714</td>\n",
       "      <td>0</td>\n",
       "    </tr>\n",
       "    <tr>\n",
       "      <th>36</th>\n",
       "      <td>35</td>\n",
       "      <td>no</td>\n",
       "      <td>small</td>\n",
       "      <td>31</td>\n",
       "      <td>0.885714</td>\n",
       "      <td>0</td>\n",
       "    </tr>\n",
       "    <tr>\n",
       "      <th>37</th>\n",
       "      <td>35</td>\n",
       "      <td>no</td>\n",
       "      <td>small</td>\n",
       "      <td>35</td>\n",
       "      <td>1.000000</td>\n",
       "      <td>0</td>\n",
       "    </tr>\n",
       "    <tr>\n",
       "      <th>38</th>\n",
       "      <td>35</td>\n",
       "      <td>no</td>\n",
       "      <td>small</td>\n",
       "      <td>33</td>\n",
       "      <td>0.942857</td>\n",
       "      <td>0</td>\n",
       "    </tr>\n",
       "    <tr>\n",
       "      <th>39</th>\n",
       "      <td>35</td>\n",
       "      <td>no</td>\n",
       "      <td>small</td>\n",
       "      <td>32</td>\n",
       "      <td>0.914286</td>\n",
       "      <td>0</td>\n",
       "    </tr>\n",
       "    <tr>\n",
       "      <th>40</th>\n",
       "      <td>35</td>\n",
       "      <td>pred</td>\n",
       "      <td>big</td>\n",
       "      <td>4</td>\n",
       "      <td>0.114286</td>\n",
       "      <td>1</td>\n",
       "    </tr>\n",
       "    <tr>\n",
       "      <th>41</th>\n",
       "      <td>35</td>\n",
       "      <td>pred</td>\n",
       "      <td>big</td>\n",
       "      <td>12</td>\n",
       "      <td>0.342857</td>\n",
       "      <td>1</td>\n",
       "    </tr>\n",
       "    <tr>\n",
       "      <th>42</th>\n",
       "      <td>35</td>\n",
       "      <td>pred</td>\n",
       "      <td>big</td>\n",
       "      <td>13</td>\n",
       "      <td>0.371429</td>\n",
       "      <td>1</td>\n",
       "    </tr>\n",
       "    <tr>\n",
       "      <th>43</th>\n",
       "      <td>35</td>\n",
       "      <td>pred</td>\n",
       "      <td>big</td>\n",
       "      <td>14</td>\n",
       "      <td>0.400000</td>\n",
       "      <td>1</td>\n",
       "    </tr>\n",
       "    <tr>\n",
       "      <th>44</th>\n",
       "      <td>35</td>\n",
       "      <td>pred</td>\n",
       "      <td>small</td>\n",
       "      <td>22</td>\n",
       "      <td>0.628571</td>\n",
       "      <td>1</td>\n",
       "    </tr>\n",
       "    <tr>\n",
       "      <th>45</th>\n",
       "      <td>35</td>\n",
       "      <td>pred</td>\n",
       "      <td>small</td>\n",
       "      <td>12</td>\n",
       "      <td>0.342857</td>\n",
       "      <td>1</td>\n",
       "    </tr>\n",
       "    <tr>\n",
       "      <th>46</th>\n",
       "      <td>35</td>\n",
       "      <td>pred</td>\n",
       "      <td>small</td>\n",
       "      <td>31</td>\n",
       "      <td>0.885714</td>\n",
       "      <td>1</td>\n",
       "    </tr>\n",
       "    <tr>\n",
       "      <th>47</th>\n",
       "      <td>35</td>\n",
       "      <td>pred</td>\n",
       "      <td>small</td>\n",
       "      <td>17</td>\n",
       "      <td>0.485714</td>\n",
       "      <td>1</td>\n",
       "    </tr>\n",
       "  </tbody>\n",
       "</table>\n",
       "</div>"
      ],
      "text/plain": [
       "    density  pred   size  surv  propsurv  pred_id\n",
       "0        10    no    big     9  0.900000        0\n",
       "1        10    no    big    10  1.000000        0\n",
       "2        10    no    big     7  0.700000        0\n",
       "3        10    no    big    10  1.000000        0\n",
       "4        10    no  small     9  0.900000        0\n",
       "5        10    no  small     9  0.900000        0\n",
       "6        10    no  small    10  1.000000        0\n",
       "7        10    no  small     9  0.900000        0\n",
       "8        10  pred    big     4  0.400000        1\n",
       "9        10  pred    big     9  0.900000        1\n",
       "10       10  pred    big     7  0.700000        1\n",
       "11       10  pred    big     6  0.600000        1\n",
       "12       10  pred  small     7  0.700000        1\n",
       "13       10  pred  small     5  0.500000        1\n",
       "14       10  pred  small     9  0.900000        1\n",
       "15       10  pred  small     9  0.900000        1\n",
       "16       25    no    big    24  0.960000        0\n",
       "17       25    no    big    23  0.920000        0\n",
       "18       25    no    big    22  0.880000        0\n",
       "19       25    no    big    25  1.000000        0\n",
       "20       25    no  small    23  0.920000        0\n",
       "21       25    no  small    23  0.920000        0\n",
       "22       25    no  small    23  0.920000        0\n",
       "23       25    no  small    21  0.840000        0\n",
       "24       25  pred    big     6  0.240000        1\n",
       "25       25  pred    big    13  0.520000        1\n",
       "26       25  pred    big     4  0.160000        1\n",
       "27       25  pred    big     9  0.360000        1\n",
       "28       25  pred  small    13  0.520000        1\n",
       "29       25  pred  small    20  0.800000        1\n",
       "30       25  pred  small     8  0.320000        1\n",
       "31       25  pred  small    10  0.400000        1\n",
       "32       35    no    big    34  0.971429        0\n",
       "33       35    no    big    33  0.942857        0\n",
       "34       35    no    big    33  0.942857        0\n",
       "35       35    no    big    31  0.885714        0\n",
       "36       35    no  small    31  0.885714        0\n",
       "37       35    no  small    35  1.000000        0\n",
       "38       35    no  small    33  0.942857        0\n",
       "39       35    no  small    32  0.914286        0\n",
       "40       35  pred    big     4  0.114286        1\n",
       "41       35  pred    big    12  0.342857        1\n",
       "42       35  pred    big    13  0.371429        1\n",
       "43       35  pred    big    14  0.400000        1\n",
       "44       35  pred  small    22  0.628571        1\n",
       "45       35  pred  small    12  0.342857        1\n",
       "46       35  pred  small    31  0.885714        1\n",
       "47       35  pred  small    17  0.485714        1"
      ]
     },
     "execution_count": 15,
     "metadata": {},
     "output_type": "execute_result"
    }
   ],
   "source": [
    "frogs = pd.read_csv('reedfrogs.csv', sep=';')\n",
    "frogs['pred_id'] = (frogs.pred == 'pred').astype(np.int64)\n",
    "frogs"
   ]
  },
  {
   "cell_type": "markdown",
   "metadata": {},
   "source": [
    "Three models:\n",
    "1. 48 independent tanks\n",
    "2. Hierarchical varying intercepts\n",
    "3. Hierarchical varying intercepts, plus predation"
   ]
  },
  {
   "cell_type": "code",
   "execution_count": 16,
   "metadata": {},
   "outputs": [
    {
     "name": "stderr",
     "output_type": "stream",
     "text": [
      "Auto-assigning NUTS sampler...\n",
      "Initializing NUTS using jitter+adapt_diag...\n",
      "Multiprocess sampling (4 chains in 4 jobs)\n",
      "NUTS: [a]\n",
      "Sampling 4 chains, 0 divergences: 100%|██████████| 24000/24000 [00:12<00:00, 1922.83draws/s]\n"
     ]
    }
   ],
   "source": [
    "with pm.Model() as simple_model:\n",
    "    a = pm.Normal('a', 0, 2, shape = 48)\n",
    "    p = pm.math.invlogit(a)\n",
    "    y = pm.Binomial('y', n = frogs.density, p = p, observed = frogs.surv)\n",
    "    \n",
    "    trace_simple = pm.sample(4000, tune = 2000, target_accept = 0.9, chains = 4, cores = 4)\n",
    "    summary_simple = pm.summary(trace_simple)\n",
    "    #pm.traceplot(trace_simple)"
   ]
  },
  {
   "cell_type": "code",
   "execution_count": 17,
   "metadata": {},
   "outputs": [
    {
     "name": "stderr",
     "output_type": "stream",
     "text": [
      "Auto-assigning NUTS sampler...\n",
      "Initializing NUTS using jitter+adapt_diag...\n",
      "Multiprocess sampling (4 chains in 4 jobs)\n",
      "NUTS: [σ, η, μ]\n",
      "Sampling 4 chains, 0 divergences: 100%|██████████| 24000/24000 [00:20<00:00, 1176.09draws/s]\n",
      "The number of effective samples is smaller than 25% for some parameters.\n"
     ]
    }
   ],
   "source": [
    "with pm.Model() as vi_model:\n",
    "    μ = pm.Normal('μ', 0, 2)\n",
    "    η = pm.Normal('η', 0, 1, shape = 48)\n",
    "    σ = pm.HalfCauchy('σ', 5)\n",
    "    \n",
    "    a = pm.Deterministic('a', μ + η * σ)\n",
    "    p = pm.math.invlogit(a)\n",
    "    y = pm.Binomial('y', n = frogs.density, p = p, observed = frogs.surv)\n",
    "    \n",
    "    trace_vi = pm.sample(4000, tune = 2000, target_accept = 0.9, chains = 4, cores = 4)\n",
    "    summary_vi = pm.summary(trace_vi, var_names = ['μ', 'σ', 'a'])\n",
    "    #pm.traceplot(trace_simple)"
   ]
  },
  {
   "cell_type": "code",
   "execution_count": 18,
   "metadata": {},
   "outputs": [
    {
     "name": "stderr",
     "output_type": "stream",
     "text": [
      "Auto-assigning NUTS sampler...\n",
      "Initializing NUTS using jitter+adapt_diag...\n",
      "Multiprocess sampling (4 chains in 4 jobs)\n",
      "NUTS: [b, σ, η, μ]\n",
      "Sampling 4 chains, 0 divergences: 100%|██████████| 24000/24000 [00:22<00:00, 1065.86draws/s]\n"
     ]
    }
   ],
   "source": [
    "with pm.Model() as vi_with_pred:\n",
    "    μ = pm.Normal('μ', 0, 2)\n",
    "    η = pm.Normal('η', 0, 1, shape = 48)\n",
    "    σ = pm.HalfCauchy('σ', 5)\n",
    "    \n",
    "    b = pm.Normal('b', 0, 2)\n",
    "    \n",
    "    a = pm.Deterministic('a', μ + η * σ)\n",
    "    p = pm.math.invlogit(a + b * frogs.pred_id)\n",
    "    y = pm.Binomial('y', n = frogs.density, p = p, observed = frogs.surv)\n",
    "    \n",
    "    trace_vip = pm.sample(4000, tune = 2000, target_accept = 0.9, chains = 4, cores = 4)\n",
    "    summary_vip = pm.summary(trace_vip, var_names = ['μ', 'σ', 'b', 'a'])\n",
    "    #pm.traceplot(trace_simple)"
   ]
  },
  {
   "cell_type": "code",
   "execution_count": 19,
   "metadata": {},
   "outputs": [
    {
     "name": "stderr",
     "output_type": "stream",
     "text": [
      "/opt/anaconda3/lib/python3.8/site-packages/arviz/stats/stats.py:1194: UserWarning: For one or more samples the posterior variance of the log predictive densities exceeds 0.4. This could be indication of WAIC starting to fail. \n",
      "See http://arxiv.org/abs/1507.04544 for details\n",
      "  warnings.warn(\n",
      "/opt/anaconda3/lib/python3.8/site-packages/arviz/stats/stats.py:1194: UserWarning: For one or more samples the posterior variance of the log predictive densities exceeds 0.4. This could be indication of WAIC starting to fail. \n",
      "See http://arxiv.org/abs/1507.04544 for details\n",
      "  warnings.warn(\n",
      "/opt/anaconda3/lib/python3.8/site-packages/arviz/stats/stats.py:1194: UserWarning: For one or more samples the posterior variance of the log predictive densities exceeds 0.4. This could be indication of WAIC starting to fail. \n",
      "See http://arxiv.org/abs/1507.04544 for details\n",
      "  warnings.warn(\n"
     ]
    },
    {
     "data": {
      "text/html": [
       "<div>\n",
       "<style scoped>\n",
       "    .dataframe tbody tr th:only-of-type {\n",
       "        vertical-align: middle;\n",
       "    }\n",
       "\n",
       "    .dataframe tbody tr th {\n",
       "        vertical-align: top;\n",
       "    }\n",
       "\n",
       "    .dataframe thead th {\n",
       "        text-align: right;\n",
       "    }\n",
       "</style>\n",
       "<table border=\"1\" class=\"dataframe\">\n",
       "  <thead>\n",
       "    <tr style=\"text-align: right;\">\n",
       "      <th></th>\n",
       "      <th>rank</th>\n",
       "      <th>waic</th>\n",
       "      <th>p_waic</th>\n",
       "      <th>d_waic</th>\n",
       "      <th>weight</th>\n",
       "      <th>se</th>\n",
       "      <th>dse</th>\n",
       "      <th>warning</th>\n",
       "      <th>waic_scale</th>\n",
       "    </tr>\n",
       "  </thead>\n",
       "  <tbody>\n",
       "    <tr>\n",
       "      <th>vi_with_pred</th>\n",
       "      <td>0</td>\n",
       "      <td>198.941</td>\n",
       "      <td>19.2645</td>\n",
       "      <td>0</td>\n",
       "      <td>0.585001</td>\n",
       "      <td>5.97428</td>\n",
       "      <td>0</td>\n",
       "      <td>True</td>\n",
       "      <td>deviance</td>\n",
       "    </tr>\n",
       "    <tr>\n",
       "      <th>vi</th>\n",
       "      <td>1</td>\n",
       "      <td>200.957</td>\n",
       "      <td>21.3719</td>\n",
       "      <td>2.01633</td>\n",
       "      <td>0.300767</td>\n",
       "      <td>7.10244</td>\n",
       "      <td>5.59635</td>\n",
       "      <td>True</td>\n",
       "      <td>deviance</td>\n",
       "    </tr>\n",
       "    <tr>\n",
       "      <th>simple</th>\n",
       "      <td>2</td>\n",
       "      <td>203.324</td>\n",
       "      <td>22.2317</td>\n",
       "      <td>4.38315</td>\n",
       "      <td>0.114232</td>\n",
       "      <td>8.91557</td>\n",
       "      <td>5.84709</td>\n",
       "      <td>True</td>\n",
       "      <td>deviance</td>\n",
       "    </tr>\n",
       "  </tbody>\n",
       "</table>\n",
       "</div>"
      ],
      "text/plain": [
       "             rank     waic   p_waic   d_waic    weight       se      dse  \\\n",
       "vi_with_pred    0  198.941  19.2645        0  0.585001  5.97428        0   \n",
       "vi              1  200.957  21.3719  2.01633  0.300767  7.10244  5.59635   \n",
       "simple          2  203.324  22.2317  4.38315  0.114232  8.91557  5.84709   \n",
       "\n",
       "             warning waic_scale  \n",
       "vi_with_pred    True   deviance  \n",
       "vi              True   deviance  \n",
       "simple          True   deviance  "
      ]
     },
     "execution_count": 19,
     "metadata": {},
     "output_type": "execute_result"
    }
   ],
   "source": [
    "pm.compare({'simple':trace_simple, 'vi':trace_vi, 'vi_with_pred':trace_vip})"
   ]
  },
  {
   "cell_type": "code",
   "execution_count": 20,
   "metadata": {},
   "outputs": [
    {
     "data": {
      "text/html": [
       "<div>\n",
       "<style scoped>\n",
       "    .dataframe tbody tr th:only-of-type {\n",
       "        vertical-align: middle;\n",
       "    }\n",
       "\n",
       "    .dataframe tbody tr th {\n",
       "        vertical-align: top;\n",
       "    }\n",
       "\n",
       "    .dataframe thead th {\n",
       "        text-align: right;\n",
       "    }\n",
       "</style>\n",
       "<table border=\"1\" class=\"dataframe\">\n",
       "  <thead>\n",
       "    <tr style=\"text-align: right;\">\n",
       "      <th></th>\n",
       "      <th>mean</th>\n",
       "      <th>sd</th>\n",
       "      <th>hpd_3%</th>\n",
       "      <th>hpd_97%</th>\n",
       "      <th>mcse_mean</th>\n",
       "      <th>mcse_sd</th>\n",
       "      <th>ess_mean</th>\n",
       "      <th>ess_sd</th>\n",
       "      <th>ess_bulk</th>\n",
       "      <th>ess_tail</th>\n",
       "      <th>r_hat</th>\n",
       "    </tr>\n",
       "  </thead>\n",
       "  <tbody>\n",
       "    <tr>\n",
       "      <th>μ</th>\n",
       "      <td>2.641</td>\n",
       "      <td>0.249</td>\n",
       "      <td>2.174</td>\n",
       "      <td>3.119</td>\n",
       "      <td>0.003</td>\n",
       "      <td>0.002</td>\n",
       "      <td>6841.0</td>\n",
       "      <td>6840.0</td>\n",
       "      <td>6850.0</td>\n",
       "      <td>9876.0</td>\n",
       "      <td>1.0</td>\n",
       "    </tr>\n",
       "    <tr>\n",
       "      <th>σ</th>\n",
       "      <td>0.841</td>\n",
       "      <td>0.149</td>\n",
       "      <td>0.565</td>\n",
       "      <td>1.117</td>\n",
       "      <td>0.002</td>\n",
       "      <td>0.001</td>\n",
       "      <td>6215.0</td>\n",
       "      <td>6215.0</td>\n",
       "      <td>6194.0</td>\n",
       "      <td>9736.0</td>\n",
       "      <td>1.0</td>\n",
       "    </tr>\n",
       "    <tr>\n",
       "      <th>b</th>\n",
       "      <td>-2.584</td>\n",
       "      <td>0.318</td>\n",
       "      <td>-3.162</td>\n",
       "      <td>-1.961</td>\n",
       "      <td>0.004</td>\n",
       "      <td>0.003</td>\n",
       "      <td>5121.0</td>\n",
       "      <td>5121.0</td>\n",
       "      <td>5121.0</td>\n",
       "      <td>8177.0</td>\n",
       "      <td>1.0</td>\n",
       "    </tr>\n",
       "  </tbody>\n",
       "</table>\n",
       "</div>"
      ],
      "text/plain": [
       "    mean     sd  hpd_3%  hpd_97%  mcse_mean  mcse_sd  ess_mean  ess_sd  \\\n",
       "μ  2.641  0.249   2.174    3.119      0.003    0.002    6841.0  6840.0   \n",
       "σ  0.841  0.149   0.565    1.117      0.002    0.001    6215.0  6215.0   \n",
       "b -2.584  0.318  -3.162   -1.961      0.004    0.003    5121.0  5121.0   \n",
       "\n",
       "   ess_bulk  ess_tail  r_hat  \n",
       "μ    6850.0    9876.0    1.0  \n",
       "σ    6194.0    9736.0    1.0  \n",
       "b    5121.0    8177.0    1.0  "
      ]
     },
     "execution_count": 20,
     "metadata": {},
     "output_type": "execute_result"
    }
   ],
   "source": [
    "summary_vip.iloc[0:3, :]"
   ]
  },
  {
   "cell_type": "code",
   "execution_count": 21,
   "metadata": {},
   "outputs": [
    {
     "data": {
      "text/html": [
       "<div>\n",
       "<style scoped>\n",
       "    .dataframe tbody tr th:only-of-type {\n",
       "        vertical-align: middle;\n",
       "    }\n",
       "\n",
       "    .dataframe tbody tr th {\n",
       "        vertical-align: top;\n",
       "    }\n",
       "\n",
       "    .dataframe thead th {\n",
       "        text-align: right;\n",
       "    }\n",
       "</style>\n",
       "<table border=\"1\" class=\"dataframe\">\n",
       "  <thead>\n",
       "    <tr style=\"text-align: right;\">\n",
       "      <th></th>\n",
       "      <th>mean</th>\n",
       "      <th>sd</th>\n",
       "      <th>hpd_3%</th>\n",
       "      <th>hpd_97%</th>\n",
       "      <th>mcse_mean</th>\n",
       "      <th>mcse_sd</th>\n",
       "      <th>ess_mean</th>\n",
       "      <th>ess_sd</th>\n",
       "      <th>ess_bulk</th>\n",
       "      <th>ess_tail</th>\n",
       "      <th>r_hat</th>\n",
       "    </tr>\n",
       "  </thead>\n",
       "  <tbody>\n",
       "    <tr>\n",
       "      <th>μ</th>\n",
       "      <td>1.369</td>\n",
       "      <td>0.259</td>\n",
       "      <td>0.881</td>\n",
       "      <td>1.851</td>\n",
       "      <td>0.005</td>\n",
       "      <td>0.003</td>\n",
       "      <td>3017.0</td>\n",
       "      <td>3017.0</td>\n",
       "      <td>3016.0</td>\n",
       "      <td>5906.0</td>\n",
       "      <td>1.0</td>\n",
       "    </tr>\n",
       "    <tr>\n",
       "      <th>σ</th>\n",
       "      <td>1.662</td>\n",
       "      <td>0.224</td>\n",
       "      <td>1.265</td>\n",
       "      <td>2.100</td>\n",
       "      <td>0.004</td>\n",
       "      <td>0.002</td>\n",
       "      <td>4015.0</td>\n",
       "      <td>4015.0</td>\n",
       "      <td>3988.0</td>\n",
       "      <td>7481.0</td>\n",
       "      <td>1.0</td>\n",
       "    </tr>\n",
       "  </tbody>\n",
       "</table>\n",
       "</div>"
      ],
      "text/plain": [
       "    mean     sd  hpd_3%  hpd_97%  mcse_mean  mcse_sd  ess_mean  ess_sd  \\\n",
       "μ  1.369  0.259   0.881    1.851      0.005    0.003    3017.0  3017.0   \n",
       "σ  1.662  0.224   1.265    2.100      0.004    0.002    4015.0  4015.0   \n",
       "\n",
       "   ess_bulk  ess_tail  r_hat  \n",
       "μ    3016.0    5906.0    1.0  \n",
       "σ    3988.0    7481.0    1.0  "
      ]
     },
     "execution_count": 21,
     "metadata": {},
     "output_type": "execute_result"
    }
   ],
   "source": [
    "summary_vi.iloc[0:2, :]"
   ]
  },
  {
   "cell_type": "markdown",
   "metadata": {},
   "source": [
    "The WAIC shows little difference in predictive accuracy among the three models. The reduced value of $\\sigma$ in the model including predation is because some of the variation between tanks is due to the fact that some tanks have predators and others don't. If this is accounted for by a coefficient in the model, we don't need as high a variance between tanks."
   ]
  },
  {
   "cell_type": "markdown",
   "metadata": {},
   "source": [
    "### Problem 5\n",
    "\n",
    "First, read the data and compute the proportions."
   ]
  },
  {
   "cell_type": "code",
   "execution_count": 22,
   "metadata": {},
   "outputs": [],
   "source": [
    "naes_data = pd.read_csv('naes_grouped.csv', index_col = 0)\n",
    "naes_data['prop'] = naes_data['yes'] / naes_data['n']"
   ]
  },
  {
   "cell_type": "code",
   "execution_count": 23,
   "metadata": {},
   "outputs": [],
   "source": [
    "# Set up data for the GP fit\n",
    "age = naes_data['age'].values[:, None]\n",
    "p = naes_data['prop'].values"
   ]
  },
  {
   "cell_type": "markdown",
   "metadata": {},
   "source": [
    "We set up a GP model using the `Marginal` class from PyMC3 (we don't need anything fancier) using the `marginal_likelihood` method to construct the model and `find_MAP` to fit it. The Matern_{3/2} prior is chosen pretty arbitrarily here."
   ]
  },
  {
   "cell_type": "code",
   "execution_count": 24,
   "metadata": {},
   "outputs": [
    {
     "name": "stderr",
     "output_type": "stream",
     "text": [
      "/opt/anaconda3/lib/python3.8/site-packages/theano/tensor/basic.py:6611: FutureWarning: Using a non-tuple sequence for multidimensional indexing is deprecated; use `arr[tuple(seq)]` instead of `arr[seq]`. In the future this will be interpreted as an array index, `arr[np.array(seq)]`, which will result either in an error or a different result.\n",
      "  result[diagonal_slice] = x\n",
      "/opt/anaconda3/lib/python3.8/site-packages/theano/tensor/basic.py:6611: FutureWarning: Using a non-tuple sequence for multidimensional indexing is deprecated; use `arr[tuple(seq)]` instead of `arr[seq]`. In the future this will be interpreted as an array index, `arr[np.array(seq)]`, which will result either in an error or a different result.\n",
      "  result[diagonal_slice] = x\n",
      "/opt/anaconda3/lib/python3.8/site-packages/theano/tensor/basic.py:6611: FutureWarning: Using a non-tuple sequence for multidimensional indexing is deprecated; use `arr[tuple(seq)]` instead of `arr[seq]`. In the future this will be interpreted as an array index, `arr[np.array(seq)]`, which will result either in an error or a different result.\n",
      "  result[diagonal_slice] = x\n",
      "/opt/anaconda3/lib/python3.8/site-packages/theano/tensor/basic.py:6611: FutureWarning: Using a non-tuple sequence for multidimensional indexing is deprecated; use `arr[tuple(seq)]` instead of `arr[seq]`. In the future this will be interpreted as an array index, `arr[np.array(seq)]`, which will result either in an error or a different result.\n",
      "  result[diagonal_slice] = x\n",
      "/opt/anaconda3/lib/python3.8/site-packages/theano/tensor/basic.py:6611: FutureWarning: Using a non-tuple sequence for multidimensional indexing is deprecated; use `arr[tuple(seq)]` instead of `arr[seq]`. In the future this will be interpreted as an array index, `arr[np.array(seq)]`, which will result either in an error or a different result.\n",
      "  result[diagonal_slice] = x\n",
      "/opt/anaconda3/lib/python3.8/site-packages/theano/tensor/basic.py:6611: FutureWarning: Using a non-tuple sequence for multidimensional indexing is deprecated; use `arr[tuple(seq)]` instead of `arr[seq]`. In the future this will be interpreted as an array index, `arr[np.array(seq)]`, which will result either in an error or a different result.\n",
      "  result[diagonal_slice] = x\n",
      "/opt/anaconda3/lib/python3.8/site-packages/theano/tensor/basic.py:6611: FutureWarning: Using a non-tuple sequence for multidimensional indexing is deprecated; use `arr[tuple(seq)]` instead of `arr[seq]`. In the future this will be interpreted as an array index, `arr[np.array(seq)]`, which will result either in an error or a different result.\n",
      "  result[diagonal_slice] = x\n",
      "  0%|          | 0/5000 [00:00<?, ?it/s]/opt/anaconda3/lib/python3.8/site-packages/theano/tensor/basic.py:6611: FutureWarning: Using a non-tuple sequence for multidimensional indexing is deprecated; use `arr[tuple(seq)]` instead of `arr[seq]`. In the future this will be interpreted as an array index, `arr[np.array(seq)]`, which will result either in an error or a different result.\n",
      "  result[diagonal_slice] = x\n",
      "logp = 90.662, ||grad|| = 0.062434: 100%|██████████| 25/25 [00:00<00:00, 633.37it/s]  \n"
     ]
    }
   ],
   "source": [
    "with pm.Model() as gp_model:\n",
    "    eta_process = pm.HalfCauchy('eta_process', 1)\n",
    "    l_process = pm.Gamma('l_process', 5, 1)         # somewhat arbitrarily pick a characteristic time scale of 5 years\n",
    "    cov_process = (eta_process ** 2) * pm.gp.cov.Matern32(1, l_process)\n",
    "    gp = pm.gp.Marginal(cov_func = cov_process)\n",
    "    \n",
    "    eta_noise = pm.HalfNormal('eta_noise', 2)\n",
    "    sigma_noise = pm.HalfCauchy('sigma_noise', 2)\n",
    "    cov_noise = (eta_noise ** 2) * pm.gp.cov.WhiteNoise(sigma_noise)\n",
    "    \n",
    "    # Since the normal noise model and the GP are conjugates, we use `Marginal` with the `.marginal_likelihood` method\n",
    "    y_ = gp.marginal_likelihood(\"y\", X=age, y=p, noise=cov_noise)\n",
    "\n",
    "    # this line calls an optimizer to find the MAP\n",
    "    map_est = pm.find_MAP(include_transformed = True)"
   ]
  },
  {
   "cell_type": "code",
   "execution_count": 25,
   "metadata": {},
   "outputs": [
    {
     "name": "stdout",
     "output_type": "stream",
     "text": [
      "Predicting with gp ...\n",
      "Done\n"
     ]
    },
    {
     "name": "stderr",
     "output_type": "stream",
     "text": [
      "/opt/anaconda3/lib/python3.8/site-packages/theano/tensor/basic.py:6611: FutureWarning: Using a non-tuple sequence for multidimensional indexing is deprecated; use `arr[tuple(seq)]` instead of `arr[seq]`. In the future this will be interpreted as an array index, `arr[np.array(seq)]`, which will result either in an error or a different result.\n",
      "  result[diagonal_slice] = x\n",
      "/opt/anaconda3/lib/python3.8/site-packages/theano/tensor/basic.py:6611: FutureWarning: Using a non-tuple sequence for multidimensional indexing is deprecated; use `arr[tuple(seq)]` instead of `arr[seq]`. In the future this will be interpreted as an array index, `arr[np.array(seq)]`, which will result either in an error or a different result.\n",
      "  result[diagonal_slice] = x\n"
     ]
    }
   ],
   "source": [
    "tnew = np.arange(min(age)-3, max(age)+3, 0.1)[:, None]\n",
    "\n",
    "print(\"Predicting with gp ...\")\n",
    "mu, var = gp.predict(tnew, point=map_est, diag=True)\n",
    "#mean_pred = mu*std_pm + mean_pm\n",
    "#var_pred  = var*std_pm**2\n",
    "\n",
    "# make dataframe to store fit results\n",
    "fit = pd.DataFrame({\"t\": tnew.flatten(),\n",
    "                    \"mu_total\": mu, #mean_pred,\n",
    "                    \"sd_total\": np.sqrt(var)}\n",
    "                   )\n",
    "print(\"Done\")"
   ]
  },
  {
   "cell_type": "markdown",
   "metadata": {},
   "source": [
    "Below we plot the GP fit with a 2 SD band. We're extending predictions a few years past the bounds of the data."
   ]
  },
  {
   "cell_type": "code",
   "execution_count": 26,
   "metadata": {},
   "outputs": [
    {
     "data": {
      "image/png": "[encoded data removed]",
      "text/plain": [
       "<Figure size 1008x576 with 1 Axes>"
      ]
     },
     "metadata": {
      "needs_background": "light"
     },
     "output_type": "display_data"
    }
   ],
   "source": [
    "plt.figure(figsize=(14,8))\n",
    "plt.title('Proportion vs. age for the NAES data')\n",
    "plt.xlabel('Age')\n",
    "plt.ylabel('Proportion of \"yes\" answers')\n",
    "plt.plot(tnew, fit.mu_total, label = 'GP fit')\n",
    "plt.fill_between(x=tnew.flatten(), y1=fit.mu_total - 2*fit.sd_total, y2 = fit.mu_total + 2*fit.sd_total, color = 'lightblue')\n",
    "plt.plot(age, p, 'k.', label = 'Observed proportions')\n",
    "plt.legend()\n",
    "plt.show()"
   ]
  },
  {
   "cell_type": "markdown",
   "metadata": {},
   "source": [
    "### Problem 6\n",
    "\n",
    "Functions below to generate the data and run the filter. Note the same dynamics used in each process."
   ]
  },
  {
   "cell_type": "code",
   "execution_count": 27,
   "metadata": {},
   "outputs": [],
   "source": [
    "def get_initial_velocity():\n",
    "    v = sp.stats.norm(400, 20).rvs()\n",
    "    angle = sp.stats.norm(np.pi/2, 0.1).rvs()\n",
    "    vx = v * np.cos(angle)\n",
    "    vy = v * np.sin(angle)\n",
    "    return vx, vy\n",
    "\n",
    "def generate_data(N, dt):\n",
    "    # Set up initial state\n",
    "    x, y = 0., 0.\n",
    "    vx, vy = get_initial_velocity()\n",
    "    state = np.array([x, vx, y, vy])\n",
    "    \n",
    "    # Set up dynamics matrices\n",
    "    A = np.array([[1, dt, 0, 0], [0, 1, 0, 0], [0, 0, 1, dt], [0, 0, 0, 1]])\n",
    "    B = np.array([[0,  0, 0, 0], [0, 0, 0, 0], [0, 0, -4.9 * dt ** 2, 0], [0, 0, 0, -9.8 * dt]])\n",
    "\n",
    "    # Generate states with dynamical system\n",
    "    state_seq = np.zeros((4, N))\n",
    "    state_seq[:,0] = state\n",
    "    for i in range(1, N):\n",
    "        state_seq[:, i] = A @ state + B @ np.array([0, 0, 1, 1])\n",
    "        state = state_seq[:, i]\n",
    "        \n",
    "    # Generate measurements\n",
    "    measurements = np.zeros((4, N - 1))\n",
    "    for i in range(N-1):\n",
    "        measurements[:, i] = state_seq[:, i] + sp.stats.multivariate_normal(mean=np.array([0, 0, 0, 0]), \n",
    "                                                                            cov=np.array([[100, 0, 0, 0], [0, 0.25, 0, 0], [0, 0, 100, 0], [0, 0, 0, 0.25]])).rvs()\n",
    "    return state_seq, measurements\n",
    "    \n",
    "def run_filter(measurements, dt, R):\n",
    "    # Set up dynamics matrices\n",
    "    A = np.array([[1, dt, 0, 0], [0, 1, 0, 0], [0, 0, 1, dt], [0, 0, 0, 1]])\n",
    "    B = np.array([[0,  0, 0, 0], [0, 0, 0, 0], [0, 0, -4.9 * dt ** 2, 0], [0, 0, 0, -9.8 * dt]])\n",
    "    \n",
    "    # Set up initial guess\n",
    "    x, y = 0., 0.\n",
    "    vx, vy = 0, 400\n",
    "    state = np.array([x, vx, y, vy])\n",
    "    \n",
    "    state_seq = np.zeros((4, measurements.shape[1]))\n",
    "    state_seq[:,0] = state\n",
    "    \n",
    "    # Set up covariance matrices. Using something close to 0 for the process noise.\n",
    "    P = np.eye(4)\n",
    "    Q = 1e-4 * np.eye(4)\n",
    "    \n",
    "    for i in range(1, measurements.shape[1]):\n",
    "        # Time update\n",
    "        new_state = A @ state + B @ np.array([0, 0, 1, 1])\n",
    "        P = P + Q\n",
    "        \n",
    "        # Measurement update\n",
    "        K = P @ np.linalg.inv(P + R)\n",
    "        new_est = new_state + K @ (measurements[:, i] - new_state)\n",
    "        P = (np.eye(4) - K) @ P\n",
    "        state_seq[:, i] = new_est\n",
    "        state = new_est\n",
    "        #print(P)\n",
    "    return state_seq"
   ]
  },
  {
   "cell_type": "markdown",
   "metadata": {},
   "source": [
    "Now we generate some data. By experimentation, about 700 time steps is usually a good amount to see what's going on."
   ]
  },
  {
   "cell_type": "code",
   "execution_count": 28,
   "metadata": {},
   "outputs": [
    {
     "data": {
      "image/png": "[encoded data removed]",
      "text/plain": [
       "<Figure size 1152x1152 with 1 Axes>"
      ]
     },
     "metadata": {
      "needs_background": "light"
     },
     "output_type": "display_data"
    }
   ],
   "source": [
    "states, measurements = generate_data(700, 0.1)\n",
    "plt.figure(figsize=(16, 16))\n",
    "plt.plot(states[0, :], states[2, :], '--', label = 'true path')\n",
    "plt.plot(measurements[0, :], measurements[2, :], 'r.', label = 'measurements')\n",
    "plt.xlabel('x position')\n",
    "plt.ylabel('y position')\n",
    "plt.legend()\n",
    "plt.show()"
   ]
  },
  {
   "cell_type": "markdown",
   "metadata": {},
   "source": [
    "A few choices of measurement noise covariance are below."
   ]
  },
  {
   "cell_type": "code",
   "execution_count": 29,
   "metadata": {},
   "outputs": [],
   "source": [
    "R = np.array([[100, 0, 0, 0], [0, 0.25, 0, 0], [0, 0, 100, 0], [0, 0, 0, 0.25]])\n",
    "#R = 1000 * np.eye(4)\n",
    "#R = 0.001 * np.eye(4)"
   ]
  },
  {
   "cell_type": "code",
   "execution_count": 30,
   "metadata": {},
   "outputs": [],
   "source": [
    "est = run_filter(measurements, 0.1, R)"
   ]
  },
  {
   "cell_type": "code",
   "execution_count": 31,
   "metadata": {},
   "outputs": [
    {
     "data": {
      "image/png": "[encoded data removed]",
      "text/plain": [
       "<Figure size 1152x1152 with 1 Axes>"
      ]
     },
     "metadata": {
      "needs_background": "light"
     },
     "output_type": "display_data"
    }
   ],
   "source": [
    "plt.figure(figsize=(16, 16))\n",
    "plt.plot(states[0, :], states[2, :], '--', label = 'true path')\n",
    "plt.plot(measurements[0, :], measurements[2, :], 'r.', label = 'measurements')\n",
    "plt.plot(est[0, :], est[2, :], 'k', label = 'estimated path', alpha = 0.7)\n",
    "plt.xlabel('x position')\n",
    "plt.ylabel('y position')\n",
    "plt.legend()\n",
    "plt.show()"
   ]
  },
  {
   "cell_type": "markdown",
   "metadata": {},
   "source": [
    "As we can see, if we choose the true values for the measurement noise covariance the filter tracks the true trajectory very well. If $R$ is made very small, the estimated path is noisier, as it follows the data more closely. If $R$ is made very large, the estimation is very bad, because we trust initial guesses of the velocity too much. (Large noise variance on the position estimates is less harmful.) Tuning by hand shows $R = 10I$ to be a reasonably effective value if we don't know anything about the measurement covariance *a priori.*"
   ]
  }
 ],
 "metadata": {
  "kernelspec": {
   "display_name": "Python 3",
   "language": "python",
   "name": "python3"
  },
  "language_info": {
   "codemirror_mode": {
    "name": "ipython",
    "version": 3
   },
   "file_extension": ".py",
   "mimetype": "text/x-python",
   "name": "python",
   "nbconvert_exporter": "python",
   "pygments_lexer": "ipython3",
   "version": "3.8.6"
  }
 },
 "nbformat": 4,
 "nbformat_minor": 4
}
