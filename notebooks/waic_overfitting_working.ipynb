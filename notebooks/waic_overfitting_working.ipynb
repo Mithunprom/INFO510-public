{
 "cells": [
  {
   "cell_type": "markdown",
   "metadata": {},
   "source": [
    "# Overfitting and WAIC"
   ]
  },
  {
   "cell_type": "code",
   "execution_count": 139,
   "metadata": {},
   "outputs": [],
   "source": [
    "import numpy as np, scipy as sp, pymc3 as pm, matplotlib.pyplot as plt, statsmodels.api as sm, arviz as az\n",
    "from scipy import stats"
   ]
  },
  {
   "cell_type": "code",
   "execution_count": 219,
   "metadata": {},
   "outputs": [],
   "source": [
    "# Set parameters of data-generating process\n",
    "rho = np.array([0.15, -0.4])\n",
    "N = 20\n",
    "dim = 7\n",
    "bigrho = np.eye(dim)\n",
    "bigrho[0, 1] = rho[0]\n",
    "bigrho[0, 2] = rho[1]\n",
    "bigrho[1, 0] = rho[0]\n",
    "bigrho[2, 0] = rho[1]\n",
    "sigma = 1"
   ]
  },
  {
   "cell_type": "code",
   "execution_count": 220,
   "metadata": {},
   "outputs": [],
   "source": [
    "# Generate some data\n",
    "def create_data(N, dim, bigrho):\n",
    "    # Training set\n",
    "    train = sp.stats.multivariate_normal(np.zeros(dim), bigrho).rvs(N)\n",
    "    # Testing set\n",
    "    test = sp.stats.multivariate_normal(np.zeros(dim), bigrho).rvs(N)\n",
    "    return train, test"
   ]
  },
  {
   "cell_type": "code",
   "execution_count": 221,
   "metadata": {},
   "outputs": [],
   "source": [
    "def sim(reps, N, dim, k, sigma_b):\n",
    "    dev_train = np.zeros(reps)\n",
    "    dev_test = np.zeros(reps)\n",
    "    for i in range(reps):\n",
    "        train, test = create_data(N, dim, bigrho)\n",
    "        model = sm.OLS(train[:, 0], sm.add_constant(train[:, 1:1+k]))\n",
    "        result = model.fit_regularized(alpha = 1/sigma_b, L1_wt=0)\n",
    "        dev_train[i] = -2 * np.log(sp.stats.multivariate_normal.pdf(train[:, 0], mean=result.predict(), cov=np.eye(N)))\n",
    "        dev_test[i] = -2 * np.log(sp.stats.multivariate_normal.pdf(test[:, 0], mean=result.predict(sm.add_constant(test[:, 1:1+k])), cov=np.eye(N)))\n",
    "    return dev_train, dev_test"
   ]
  },
  {
   "cell_type": "code",
   "execution_count": 222,
   "metadata": {},
   "outputs": [],
   "source": [
    "train, test = create_data(N, dim, bigrho)"
   ]
  },
  {
   "cell_type": "code",
   "execution_count": 228,
   "metadata": {},
   "outputs": [
    {
     "data": {
      "image/png": "[encoded data removed]",
      "text/plain": [
       "<Figure size 576x432 with 1 Axes>"
      ]
     },
     "metadata": {
      "needs_background": "light"
     },
     "output_type": "display_data"
    }
   ],
   "source": [
    "dev_train_avg = np.zeros(7)\n",
    "dev_test_avg = np.zeros(7)\n",
    "dev_train_sd = np.zeros(7)\n",
    "dev_test_sd = np.zeros(7)\n",
    "for i in range(7):\n",
    "    dev_train, dev_test = sim(500, 20, 7, i, 100)\n",
    "    dev_train_avg[i] = np.average(dev_train)\n",
    "    dev_test_avg[i] = np.average(dev_test)\n",
    "    dev_train_sd[i] = np.std(dev_train)\n",
    "    dev_test_sd[i] = np.std(dev_test)\n",
    "plt.figure(figsize=(8, 6))\n",
    "plt.plot(range(1,8), dev_train_avg, 'o', label = 'Training deviance', color = 'blue')\n",
    "plt.plot(range(1,8), dev_test_avg, 'o', label = 'Testing deviance', color = 'red')\n",
    "plt.plot(range(1,8), dev_train_avg + 2 * np.arange(1,8), 'o',label = 'AIC', color = 'black')\n",
    "plt.ylim((40, 80))\n",
    "plt.xlabel('Number of parameters', size=14)\n",
    "plt.ylabel('Deviance', size= 14)\n",
    "for i in range(7):\n",
    "    plt.vlines(x=i+1, ymin = dev_train_avg[i] - dev_train_sd[i], ymax = dev_train_avg[i] + dev_train_sd[i], color = 'blue', alpha = 0.3)\n",
    "    plt.vlines(x=i+1, ymin = dev_test_avg[i] - dev_test_sd[i], ymax = dev_test_avg[i] + dev_test_sd[i], color = 'red', alpha = 0.3)\n",
    "plt.legend()\n",
    "plt.savefig('deviance_aic.png')"
   ]
  },
  {
   "cell_type": "code",
   "execution_count": 214,
   "metadata": {},
   "outputs": [
    {
     "name": "stderr",
     "output_type": "stream",
     "text": [
      "Auto-assigning NUTS sampler...\n",
      "Initializing NUTS using jitter+adapt_diag...\n",
      "Multiprocess sampling (4 chains in 4 jobs)\n",
      "NUTS: [beta4, beta3, beta2, beta1, alpha]\n",
      "Sampling 4 chains, 0 divergences: 100%|██████████| 6000/6000 [00:01<00:00, 3646.85draws/s]\n",
      "Auto-assigning NUTS sampler...\n",
      "Initializing NUTS using jitter+adapt_diag...\n",
      "Multiprocess sampling (4 chains in 4 jobs)\n",
      "NUTS: [beta3, beta2, beta1, alpha]\n",
      "Sampling 4 chains, 0 divergences: 100%|██████████| 6000/6000 [00:01<00:00, 3306.22draws/s]\n",
      "Auto-assigning NUTS sampler...\n",
      "Initializing NUTS using jitter+adapt_diag...\n",
      "Multiprocess sampling (4 chains in 4 jobs)\n",
      "NUTS: [beta2, beta1, alpha]\n",
      "Sampling 4 chains, 0 divergences: 100%|██████████| 6000/6000 [00:01<00:00, 4263.17draws/s]\n",
      "Auto-assigning NUTS sampler...\n",
      "Initializing NUTS using jitter+adapt_diag...\n",
      "Multiprocess sampling (4 chains in 4 jobs)\n",
      "NUTS: [beta1, alpha]\n",
      "Sampling 4 chains, 0 divergences: 100%|██████████| 6000/6000 [00:01<00:00, 3813.85draws/s]\n"
     ]
    }
   ],
   "source": [
    "prior_sd = 0.5\n",
    "model_0 = pm.Model()\n",
    "model_1 = pm.Model()\n",
    "model_2 = pm.Model()\n",
    "model_3 = pm.Model()\n",
    "model_4 = pm.Model()\n",
    "\n",
    "with model_4:\n",
    "    alpha = pm.Normal('alpha', 0, prior_sd)\n",
    "    beta1 = pm.Normal('beta1', 0, prior_sd)\n",
    "    beta2 = pm.Normal('beta2', 0, prior_sd)\n",
    "    beta3 = pm.Normal('beta3', 0, prior_sd)\n",
    "    beta4 = pm.Normal('beta4', 0, prior_sd)\n",
    "    \n",
    "    m = pm.Deterministic('m', alpha + beta1 * train[:, 1] + beta2 * train[:, 2] + beta3 * train[:, 3] + beta4 * train[:, 4])\n",
    "    \n",
    "    y = pm.Normal('y', m, sigma, observed = train[:,0])\n",
    "    \n",
    "    trace_4 = pm.sample(tune = 1000)\n",
    "\n",
    "with model_3:\n",
    "    alpha = pm.Normal('alpha', 0, prior_sd)\n",
    "    beta1 = pm.Normal('beta1', prior_sd)\n",
    "    beta2 = pm.Normal('beta2', prior_sd)\n",
    "    beta3 = pm.Normal('beta3', prior_sd)\n",
    "    \n",
    "    m = pm.Deterministic('m', alpha + beta1 * train[:, 1] + beta2 * train[:, 2] + beta3 * train[:, 3])\n",
    "    \n",
    "    y = pm.Normal('y', m, sigma, observed = train[:,0])\n",
    "    \n",
    "    trace_3 = pm.sample(tune = 1000)\n",
    "    summary_3 = pm.summary(trace_3, var_names = ['beta1', 'beta2', 'beta3'])\n",
    "    \n",
    "with pm.Model() as model_2:\n",
    "    alpha = pm.Normal('alpha', 0, prior_sd)\n",
    "    beta1 = pm.Normal('beta1', prior_sd)\n",
    "    beta2 = pm.Normal('beta2', prior_sd)\n",
    "    \n",
    "    m = pm.Deterministic('m', alpha + beta1 * train[:, 1] + beta2 * train[:, 2])\n",
    "    \n",
    "    y = pm.Normal('y', m, sigma, observed = train[:,0])\n",
    "    \n",
    "    trace_2 = pm.sample(tune = 1000)\n",
    "\n",
    "with pm.Model() as model_1:\n",
    "    alpha = pm.Normal('alpha', 0, prior_sd)\n",
    "    beta1 = pm.Normal('beta1', prior_sd)\n",
    "    \n",
    "    m = pm.Deterministic('m', alpha + beta1 * train[:, 1])\n",
    "    \n",
    "    y = pm.Normal('y', m, sigma, observed = train[:,0])\n",
    "    \n",
    "    trace_1 = pm.sample(tune = 1000)"
   ]
  },
  {
   "cell_type": "code",
   "execution_count": 215,
   "metadata": {},
   "outputs": [
    {
     "name": "stderr",
     "output_type": "stream",
     "text": [
      "/opt/anaconda3/lib/python3.8/site-packages/arviz/data/io_pymc3.py:87: FutureWarning: Using `from_pymc3` without the model will be deprecated in a future release. Not using the model will return less accurate and less useful results. Make sure you use the model argument or call from_pymc3 within a model context.\n",
      "  warnings.warn(\n",
      "/opt/anaconda3/lib/python3.8/site-packages/arviz/stats/stats.py:1425: UserWarning: For one or more samples the posterior variance of the log predictive densities exceeds 0.4. This could be indication of WAIC starting to fail. \n",
      "See http://arxiv.org/abs/1507.04544 for details\n",
      "  warnings.warn(\n"
     ]
    },
    {
     "data": {
      "text/html": [
       "<div>\n",
       "<style scoped>\n",
       "    .dataframe tbody tr th:only-of-type {\n",
       "        vertical-align: middle;\n",
       "    }\n",
       "\n",
       "    .dataframe tbody tr th {\n",
       "        vertical-align: top;\n",
       "    }\n",
       "\n",
       "    .dataframe thead th {\n",
       "        text-align: right;\n",
       "    }\n",
       "</style>\n",
       "<table border=\"1\" class=\"dataframe\">\n",
       "  <thead>\n",
       "    <tr style=\"text-align: right;\">\n",
       "      <th></th>\n",
       "      <th>rank</th>\n",
       "      <th>waic</th>\n",
       "      <th>p_waic</th>\n",
       "      <th>d_waic</th>\n",
       "      <th>weight</th>\n",
       "      <th>se</th>\n",
       "      <th>dse</th>\n",
       "      <th>warning</th>\n",
       "      <th>waic_scale</th>\n",
       "    </tr>\n",
       "  </thead>\n",
       "  <tbody>\n",
       "    <tr>\n",
       "      <th>model_2</th>\n",
       "      <td>0</td>\n",
       "      <td>49.9848</td>\n",
       "      <td>1.24274</td>\n",
       "      <td>0</td>\n",
       "      <td>0.597598</td>\n",
       "      <td>3.07518</td>\n",
       "      <td>0</td>\n",
       "      <td>False</td>\n",
       "      <td>deviance</td>\n",
       "    </tr>\n",
       "    <tr>\n",
       "      <th>model_3</th>\n",
       "      <td>1</td>\n",
       "      <td>51.7489</td>\n",
       "      <td>1.94018</td>\n",
       "      <td>1.7641</td>\n",
       "      <td>0.252699</td>\n",
       "      <td>3.32093</td>\n",
       "      <td>0.604136</td>\n",
       "      <td>False</td>\n",
       "      <td>deviance</td>\n",
       "    </tr>\n",
       "    <tr>\n",
       "      <th>model_4</th>\n",
       "      <td>2</td>\n",
       "      <td>53.139</td>\n",
       "      <td>2.31603</td>\n",
       "      <td>3.15417</td>\n",
       "      <td>0.139579</td>\n",
       "      <td>5.27815</td>\n",
       "      <td>1.23782</td>\n",
       "      <td>True</td>\n",
       "      <td>deviance</td>\n",
       "    </tr>\n",
       "    <tr>\n",
       "      <th>model_1</th>\n",
       "      <td>3</td>\n",
       "      <td>61.3833</td>\n",
       "      <td>1.85693</td>\n",
       "      <td>11.3985</td>\n",
       "      <td>0.0101237</td>\n",
       "      <td>2.74631</td>\n",
       "      <td>4.31194</td>\n",
       "      <td>False</td>\n",
       "      <td>deviance</td>\n",
       "    </tr>\n",
       "  </tbody>\n",
       "</table>\n",
       "</div>"
      ],
      "text/plain": [
       "        rank     waic   p_waic   d_waic     weight       se       dse warning  \\\n",
       "model_2    0  49.9848  1.24274        0   0.597598  3.07518         0   False   \n",
       "model_3    1  51.7489  1.94018   1.7641   0.252699  3.32093  0.604136   False   \n",
       "model_4    2   53.139  2.31603  3.15417   0.139579  5.27815   1.23782    True   \n",
       "model_1    3  61.3833  1.85693  11.3985  0.0101237  2.74631   4.31194   False   \n",
       "\n",
       "        waic_scale  \n",
       "model_2   deviance  \n",
       "model_3   deviance  \n",
       "model_4   deviance  \n",
       "model_1   deviance  "
      ]
     },
     "execution_count": 215,
     "metadata": {},
     "output_type": "execute_result"
    }
   ],
   "source": [
    "waic_comp = az.compare({'model_1':trace_1, 'model_2':trace_2, 'model_3':trace_3, 'model_4':trace_4}, ic='waic', scale='deviance')\n",
    "waic_comp"
   ]
  },
  {
   "cell_type": "code",
   "execution_count": 216,
   "metadata": {},
   "outputs": [
    {
     "name": "stderr",
     "output_type": "stream",
     "text": [
      "/opt/anaconda3/lib/python3.8/site-packages/arviz/data/io_pymc3.py:87: FutureWarning: Using `from_pymc3` without the model will be deprecated in a future release. Not using the model will return less accurate and less useful results. Make sure you use the model argument or call from_pymc3 within a model context.\n",
      "  warnings.warn(\n",
      "/opt/anaconda3/lib/python3.8/site-packages/arviz/data/io_pymc3.py:87: FutureWarning: Using `from_pymc3` without the model will be deprecated in a future release. Not using the model will return less accurate and less useful results. Make sure you use the model argument or call from_pymc3 within a model context.\n",
      "  warnings.warn(\n",
      "/opt/anaconda3/lib/python3.8/site-packages/arviz/data/io_pymc3.py:87: FutureWarning: Using `from_pymc3` without the model will be deprecated in a future release. Not using the model will return less accurate and less useful results. Make sure you use the model argument or call from_pymc3 within a model context.\n",
      "  warnings.warn(\n",
      "/opt/anaconda3/lib/python3.8/site-packages/arviz/data/io_pymc3.py:87: FutureWarning: Using `from_pymc3` without the model will be deprecated in a future release. Not using the model will return less accurate and less useful results. Make sure you use the model argument or call from_pymc3 within a model context.\n",
      "  warnings.warn(\n"
     ]
    },
    {
     "data": {
      "text/html": [
       "<div>\n",
       "<style scoped>\n",
       "    .dataframe tbody tr th:only-of-type {\n",
       "        vertical-align: middle;\n",
       "    }\n",
       "\n",
       "    .dataframe tbody tr th {\n",
       "        vertical-align: top;\n",
       "    }\n",
       "\n",
       "    .dataframe thead th {\n",
       "        text-align: right;\n",
       "    }\n",
       "</style>\n",
       "<table border=\"1\" class=\"dataframe\">\n",
       "  <thead>\n",
       "    <tr style=\"text-align: right;\">\n",
       "      <th></th>\n",
       "      <th>rank</th>\n",
       "      <th>loo</th>\n",
       "      <th>p_loo</th>\n",
       "      <th>d_loo</th>\n",
       "      <th>weight</th>\n",
       "      <th>se</th>\n",
       "      <th>dse</th>\n",
       "      <th>warning</th>\n",
       "      <th>loo_scale</th>\n",
       "    </tr>\n",
       "  </thead>\n",
       "  <tbody>\n",
       "    <tr>\n",
       "      <th>model_2</th>\n",
       "      <td>0</td>\n",
       "      <td>50.0461</td>\n",
       "      <td>1.27339</td>\n",
       "      <td>0</td>\n",
       "      <td>0.620241</td>\n",
       "      <td>2.99975</td>\n",
       "      <td>0</td>\n",
       "      <td>False</td>\n",
       "      <td>deviance</td>\n",
       "    </tr>\n",
       "    <tr>\n",
       "      <th>model_3</th>\n",
       "      <td>1</td>\n",
       "      <td>51.9171</td>\n",
       "      <td>2.02426</td>\n",
       "      <td>1.87096</td>\n",
       "      <td>0.244262</td>\n",
       "      <td>3.32768</td>\n",
       "      <td>0.637612</td>\n",
       "      <td>False</td>\n",
       "      <td>deviance</td>\n",
       "    </tr>\n",
       "    <tr>\n",
       "      <th>model_4</th>\n",
       "      <td>2</td>\n",
       "      <td>53.4191</td>\n",
       "      <td>2.45612</td>\n",
       "      <td>3.37303</td>\n",
       "      <td>0.126268</td>\n",
       "      <td>5.15648</td>\n",
       "      <td>1.31626</td>\n",
       "      <td>False</td>\n",
       "      <td>deviance</td>\n",
       "    </tr>\n",
       "    <tr>\n",
       "      <th>model_1</th>\n",
       "      <td>3</td>\n",
       "      <td>61.5239</td>\n",
       "      <td>1.92722</td>\n",
       "      <td>11.4778</td>\n",
       "      <td>0.00922876</td>\n",
       "      <td>2.66832</td>\n",
       "      <td>4.31673</td>\n",
       "      <td>False</td>\n",
       "      <td>deviance</td>\n",
       "    </tr>\n",
       "  </tbody>\n",
       "</table>\n",
       "</div>"
      ],
      "text/plain": [
       "        rank      loo    p_loo    d_loo      weight       se       dse  \\\n",
       "model_2    0  50.0461  1.27339        0    0.620241  2.99975         0   \n",
       "model_3    1  51.9171  2.02426  1.87096    0.244262  3.32768  0.637612   \n",
       "model_4    2  53.4191  2.45612  3.37303    0.126268  5.15648   1.31626   \n",
       "model_1    3  61.5239  1.92722  11.4778  0.00922876  2.66832   4.31673   \n",
       "\n",
       "        warning loo_scale  \n",
       "model_2   False  deviance  \n",
       "model_3   False  deviance  \n",
       "model_4   False  deviance  \n",
       "model_1   False  deviance  "
      ]
     },
     "execution_count": 216,
     "metadata": {},
     "output_type": "execute_result"
    }
   ],
   "source": [
    "loo_comp = az.compare({'model_1':trace_1, 'model_2':trace_2, 'model_3':trace_3, 'model_4':trace_4}, ic='loo', scale = 'deviance')\n",
    "loo_comp"
   ]
  }
 ],
 "metadata": {
  "kernelspec": {
   "display_name": "Python 3",
   "language": "python",
   "name": "python3"
  },
  "language_info": {
   "codemirror_mode": {
    "name": "ipython",
    "version": 3
   },
   "file_extension": ".py",
   "mimetype": "text/x-python",
   "name": "python",
   "nbconvert_exporter": "python",
   "pygments_lexer": "ipython3",
   "version": "3.8.3"
  }
 },
 "nbformat": 4,
 "nbformat_minor": 4
}
