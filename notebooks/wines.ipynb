{
 "cells": [
  {
   "cell_type": "markdown",
   "metadata": {},
   "source": [
    "# Simple interaction models and the Judgement of Princeton"
   ]
  },
  {
   "cell_type": "code",
   "execution_count": 1,
   "metadata": {},
   "outputs": [],
   "source": [
    "import numpy as np, scipy as sp, pandas as pd, pymc3 as pm\n",
    "from scipy import stats\n",
    "import seaborn as sb\n",
    "import matplotlib.pyplot as plt\n",
    "from sklearn.preprocessing import OrdinalEncoder, StandardScaler"
   ]
  },
  {
   "cell_type": "code",
   "execution_count": 2,
   "metadata": {},
   "outputs": [
    {
     "data": {
      "text/html": [
       "<div>\n",
       "<style scoped>\n",
       "    .dataframe tbody tr th:only-of-type {\n",
       "        vertical-align: middle;\n",
       "    }\n",
       "\n",
       "    .dataframe tbody tr th {\n",
       "        vertical-align: top;\n",
       "    }\n",
       "\n",
       "    .dataframe thead th {\n",
       "        text-align: right;\n",
       "    }\n",
       "</style>\n",
       "<table border=\"1\" class=\"dataframe\">\n",
       "  <thead>\n",
       "    <tr style=\"text-align: right;\">\n",
       "      <th></th>\n",
       "      <th>judge</th>\n",
       "      <th>flight</th>\n",
       "      <th>wine</th>\n",
       "      <th>score</th>\n",
       "      <th>wine.amer</th>\n",
       "      <th>judge.amer</th>\n",
       "    </tr>\n",
       "  </thead>\n",
       "  <tbody>\n",
       "    <tr>\n",
       "      <th>0</th>\n",
       "      <td>Jean-M Cardebat</td>\n",
       "      <td>white</td>\n",
       "      <td>A1</td>\n",
       "      <td>10.0</td>\n",
       "      <td>1</td>\n",
       "      <td>0</td>\n",
       "    </tr>\n",
       "    <tr>\n",
       "      <th>1</th>\n",
       "      <td>Jean-M Cardebat</td>\n",
       "      <td>white</td>\n",
       "      <td>B1</td>\n",
       "      <td>13.0</td>\n",
       "      <td>1</td>\n",
       "      <td>0</td>\n",
       "    </tr>\n",
       "    <tr>\n",
       "      <th>2</th>\n",
       "      <td>Jean-M Cardebat</td>\n",
       "      <td>white</td>\n",
       "      <td>C1</td>\n",
       "      <td>14.0</td>\n",
       "      <td>0</td>\n",
       "      <td>0</td>\n",
       "    </tr>\n",
       "    <tr>\n",
       "      <th>3</th>\n",
       "      <td>Jean-M Cardebat</td>\n",
       "      <td>white</td>\n",
       "      <td>D1</td>\n",
       "      <td>15.0</td>\n",
       "      <td>0</td>\n",
       "      <td>0</td>\n",
       "    </tr>\n",
       "    <tr>\n",
       "      <th>4</th>\n",
       "      <td>Jean-M Cardebat</td>\n",
       "      <td>white</td>\n",
       "      <td>E1</td>\n",
       "      <td>8.0</td>\n",
       "      <td>1</td>\n",
       "      <td>0</td>\n",
       "    </tr>\n",
       "    <tr>\n",
       "      <th>5</th>\n",
       "      <td>Jean-M Cardebat</td>\n",
       "      <td>white</td>\n",
       "      <td>F1</td>\n",
       "      <td>13.0</td>\n",
       "      <td>1</td>\n",
       "      <td>0</td>\n",
       "    </tr>\n",
       "    <tr>\n",
       "      <th>6</th>\n",
       "      <td>Jean-M Cardebat</td>\n",
       "      <td>white</td>\n",
       "      <td>G1</td>\n",
       "      <td>15.0</td>\n",
       "      <td>1</td>\n",
       "      <td>0</td>\n",
       "    </tr>\n",
       "    <tr>\n",
       "      <th>7</th>\n",
       "      <td>Jean-M Cardebat</td>\n",
       "      <td>white</td>\n",
       "      <td>H1</td>\n",
       "      <td>11.0</td>\n",
       "      <td>0</td>\n",
       "      <td>0</td>\n",
       "    </tr>\n",
       "    <tr>\n",
       "      <th>8</th>\n",
       "      <td>Jean-M Cardebat</td>\n",
       "      <td>white</td>\n",
       "      <td>I1</td>\n",
       "      <td>9.0</td>\n",
       "      <td>1</td>\n",
       "      <td>0</td>\n",
       "    </tr>\n",
       "    <tr>\n",
       "      <th>9</th>\n",
       "      <td>Jean-M Cardebat</td>\n",
       "      <td>white</td>\n",
       "      <td>J1</td>\n",
       "      <td>12.0</td>\n",
       "      <td>0</td>\n",
       "      <td>0</td>\n",
       "    </tr>\n",
       "  </tbody>\n",
       "</table>\n",
       "</div>"
      ],
      "text/plain": [
       "             judge flight wine  score  wine.amer  judge.amer\n",
       "0  Jean-M Cardebat  white   A1   10.0          1           0\n",
       "1  Jean-M Cardebat  white   B1   13.0          1           0\n",
       "2  Jean-M Cardebat  white   C1   14.0          0           0\n",
       "3  Jean-M Cardebat  white   D1   15.0          0           0\n",
       "4  Jean-M Cardebat  white   E1    8.0          1           0\n",
       "5  Jean-M Cardebat  white   F1   13.0          1           0\n",
       "6  Jean-M Cardebat  white   G1   15.0          1           0\n",
       "7  Jean-M Cardebat  white   H1   11.0          0           0\n",
       "8  Jean-M Cardebat  white   I1    9.0          1           0\n",
       "9  Jean-M Cardebat  white   J1   12.0          0           0"
      ]
     },
     "execution_count": 2,
     "metadata": {},
     "output_type": "execute_result"
    }
   ],
   "source": [
    "wines = pd.read_csv('data/Wines2012.csv', sep = ';')\n",
    "wines.head(10)"
   ]
  },
  {
   "cell_type": "markdown",
   "metadata": {},
   "source": [
    "## Preprocessing"
   ]
  },
  {
   "cell_type": "code",
   "execution_count": 3,
   "metadata": {},
   "outputs": [
    {
     "data": {
      "text/html": [
       "<div>\n",
       "<style scoped>\n",
       "    .dataframe tbody tr th:only-of-type {\n",
       "        vertical-align: middle;\n",
       "    }\n",
       "\n",
       "    .dataframe tbody tr th {\n",
       "        vertical-align: top;\n",
       "    }\n",
       "\n",
       "    .dataframe thead th {\n",
       "        text-align: right;\n",
       "    }\n",
       "</style>\n",
       "<table border=\"1\" class=\"dataframe\">\n",
       "  <thead>\n",
       "    <tr style=\"text-align: right;\">\n",
       "      <th></th>\n",
       "      <th>judge</th>\n",
       "      <th>flight</th>\n",
       "      <th>wine</th>\n",
       "      <th>score</th>\n",
       "      <th>wine.amer</th>\n",
       "      <th>judge.amer</th>\n",
       "    </tr>\n",
       "  </thead>\n",
       "  <tbody>\n",
       "    <tr>\n",
       "      <th>0</th>\n",
       "      <td>3</td>\n",
       "      <td>0</td>\n",
       "      <td>0</td>\n",
       "      <td>-1.581002</td>\n",
       "      <td>1</td>\n",
       "      <td>0</td>\n",
       "    </tr>\n",
       "    <tr>\n",
       "      <th>1</th>\n",
       "      <td>3</td>\n",
       "      <td>0</td>\n",
       "      <td>2</td>\n",
       "      <td>-0.451715</td>\n",
       "      <td>1</td>\n",
       "      <td>0</td>\n",
       "    </tr>\n",
       "    <tr>\n",
       "      <th>2</th>\n",
       "      <td>3</td>\n",
       "      <td>0</td>\n",
       "      <td>4</td>\n",
       "      <td>-0.075286</td>\n",
       "      <td>0</td>\n",
       "      <td>0</td>\n",
       "    </tr>\n",
       "    <tr>\n",
       "      <th>3</th>\n",
       "      <td>3</td>\n",
       "      <td>0</td>\n",
       "      <td>6</td>\n",
       "      <td>0.301143</td>\n",
       "      <td>0</td>\n",
       "      <td>0</td>\n",
       "    </tr>\n",
       "    <tr>\n",
       "      <th>4</th>\n",
       "      <td>3</td>\n",
       "      <td>0</td>\n",
       "      <td>8</td>\n",
       "      <td>-2.333860</td>\n",
       "      <td>1</td>\n",
       "      <td>0</td>\n",
       "    </tr>\n",
       "    <tr>\n",
       "      <th>...</th>\n",
       "      <td>...</td>\n",
       "      <td>...</td>\n",
       "      <td>...</td>\n",
       "      <td>...</td>\n",
       "      <td>...</td>\n",
       "      <td>...</td>\n",
       "    </tr>\n",
       "    <tr>\n",
       "      <th>175</th>\n",
       "      <td>1</td>\n",
       "      <td>1</td>\n",
       "      <td>11</td>\n",
       "      <td>-0.828144</td>\n",
       "      <td>1</td>\n",
       "      <td>1</td>\n",
       "    </tr>\n",
       "    <tr>\n",
       "      <th>176</th>\n",
       "      <td>1</td>\n",
       "      <td>1</td>\n",
       "      <td>13</td>\n",
       "      <td>0.301143</td>\n",
       "      <td>0</td>\n",
       "      <td>1</td>\n",
       "    </tr>\n",
       "    <tr>\n",
       "      <th>177</th>\n",
       "      <td>1</td>\n",
       "      <td>1</td>\n",
       "      <td>15</td>\n",
       "      <td>0.677572</td>\n",
       "      <td>1</td>\n",
       "      <td>1</td>\n",
       "    </tr>\n",
       "    <tr>\n",
       "      <th>178</th>\n",
       "      <td>1</td>\n",
       "      <td>1</td>\n",
       "      <td>17</td>\n",
       "      <td>-2.710289</td>\n",
       "      <td>1</td>\n",
       "      <td>1</td>\n",
       "    </tr>\n",
       "    <tr>\n",
       "      <th>179</th>\n",
       "      <td>1</td>\n",
       "      <td>1</td>\n",
       "      <td>19</td>\n",
       "      <td>1.054001</td>\n",
       "      <td>0</td>\n",
       "      <td>1</td>\n",
       "    </tr>\n",
       "  </tbody>\n",
       "</table>\n",
       "<p>180 rows × 6 columns</p>\n",
       "</div>"
      ],
      "text/plain": [
       "     judge  flight  wine     score  wine.amer  judge.amer\n",
       "0        3       0     0 -1.581002          1           0\n",
       "1        3       0     2 -0.451715          1           0\n",
       "2        3       0     4 -0.075286          0           0\n",
       "3        3       0     6  0.301143          0           0\n",
       "4        3       0     8 -2.333860          1           0\n",
       "..     ...     ...   ...       ...        ...         ...\n",
       "175      1       1    11 -0.828144          1           1\n",
       "176      1       1    13  0.301143          0           1\n",
       "177      1       1    15  0.677572          1           1\n",
       "178      1       1    17 -2.710289          1           1\n",
       "179      1       1    19  1.054001          0           1\n",
       "\n",
       "[180 rows x 6 columns]"
      ]
     },
     "execution_count": 3,
     "metadata": {},
     "output_type": "execute_result"
    }
   ],
   "source": [
    "wines[['wine']] = OrdinalEncoder(dtype=np.int64).fit_transform(wines[['wine']])\n",
    "wines[['judge']] = OrdinalEncoder(dtype=np.int64).fit_transform(wines[['judge']])\n",
    "wines['flight'] = 1 - OrdinalEncoder(dtype=np.int64).fit_transform(wines[['flight']])\n",
    "wines[['score']] = StandardScaler().fit_transform(wines[['score']])\n",
    "wines"
   ]
  },
  {
   "cell_type": "markdown",
   "metadata": {},
   "source": [
    "## Model 1: simple effects of wine and judge"
   ]
  },
  {
   "cell_type": "markdown",
   "metadata": {},
   "source": [
    "Let's start by examining the effects of the wine and the judge.\n",
    "\n",
    "$$ \\begin{align*}\n",
    "    y_i &\\sim \\mathrm{Normal}(\\mu_i, \\sigma) \\\\\n",
    "    \\mu_i &\\sim \\alpha + \\beta_{W[j]} + \\beta_{J[k]} \\\\\n",
    "    \\beta_{W[j]} &\\sim \\mathrm{Normal}(0, 0.5) \\\\\n",
    "    \\beta_{J[k]} &\\sim \\mathrm{Normal}(0, 0.5) \\\\\n",
    "    \\alpha &\\sim \\mathrm{Normal}(0, 0.2) \\\\\n",
    "    \\sigma &\\sim \\mathrm{Exponential}(1) \\end{align*} $$\n",
    "    \n",
    "The brackets on the parameters indicate indexing; so, we really have a vector of $\\beta_W$s, and we select out the relevant one for"
   ]
  },
  {
   "cell_type": "code",
   "execution_count": 4,
   "metadata": {},
   "outputs": [
    {
     "name": "stderr",
     "output_type": "stream",
     "text": [
      "Auto-assigning NUTS sampler...\n",
      "Initializing NUTS using jitter+adapt_diag...\n",
      "Multiprocess sampling (2 chains in 2 jobs)\n",
      "NUTS: [sigma, alpha, aJ, aW]\n",
      "Sampling 2 chains, 0 divergences: 100%|██████████| 5000/5000 [00:06<00:00, 830.66draws/s]\n"
     ]
    }
   ],
   "source": [
    "with pm.Model() as wj_model:\n",
    "    # Priors for parameters\n",
    "    aW = pm.Normal('aW', 0, 0.5, shape = 20)\n",
    "    aJ = pm.Normal('aJ', 0, 0.5, shape = 9)\n",
    "    alpha = pm.Normal('alpha', 0, 0.2)\n",
    "    sigma = pm.Exponential('sigma', 1)\n",
    "    \n",
    "    # Model equation\n",
    "    mu = alpha + aW[wines['wine'].values] + aJ[wines['judge'].values] # use .values here to avoid annoying theano warnings\n",
    "    \n",
    "    # Observation model\n",
    "    score = pm.Normal('score', mu = mu, sigma = sigma, observed = wines['score'])\n",
    "    \n",
    "    # Sampling\n",
    "    wj_trace = pm.sample(2000, target_accept = 0.95)\n",
    "    wj_sumtab = pm.summary(wj_trace)"
   ]
  },
  {
   "cell_type": "code",
   "execution_count": 5,
   "metadata": {},
   "outputs": [
    {
     "data": {
      "text/plain": [
       "array([<AxesSubplot:title={'center':'94.0% Credible Interval'}>],\n",
       "      dtype=object)"
      ]
     },
     "execution_count": 5,
     "metadata": {},
     "output_type": "execute_result"
    },
    {
     "data": {
      "image/png": "[encoded data removed]",
      "text/plain": [
       "<Figure size 432x864 with 1 Axes>"
      ]
     },
     "metadata": {
      "needs_background": "light"
     },
     "output_type": "display_data"
    }
   ],
   "source": [
    "pm.forestplot(wj_trace, var_names = wj_trace.varnames.remove('sigma'))"
   ]
  },
  {
   "cell_type": "markdown",
   "metadata": {},
   "source": [
    "There isn't a lot of variation between the wines; only one wine has its posterior interval completely away from 0, and a few more (e.g. wines 3, 5, 19) are close. There is more variation among judges, with several who consistently rate wines higher or lower than average. Judges rate by their own \"internal scales\", so this generally makes sense."
   ]
  },
  {
   "cell_type": "markdown",
   "metadata": {},
   "source": [
    "## Simple model: color/judge/region effects"
   ]
  },
  {
   "cell_type": "markdown",
   "metadata": {},
   "source": [
    "There is a slight distinction between two approaches we can take to writing down the model. We can use indicator variables:\n",
    "\n",
    "$$ \\begin{align*} y_i &\\sim \\mathrm{Normal}(\\mu_i, \\sigma) \\\\\n",
    "    \\mu_i &\\sim \\alpha + \\beta_{R} R + \\beta_{J} J + \\beta_{W} W \\\\\n",
    "    \\beta_{R} &\\sim \\mathrm{Normal}(0, 0.5) \\\\\n",
    "    \\beta_{J} &\\sim \\mathrm{Normal}(0, 0.5) \\\\\n",
    "    \\beta_{W} &\\sim \\mathrm{Normal}(0, 0.5) \\\\\n",
    "    \\alpha &\\sim \\mathrm{Normal}(0, 0.2) \\\\\n",
    "    \\sigma &\\sim \\mathrm{Exponential}(1) \\end{align*} $$\n",
    "where $R, J, W$ are indicators: \n",
    "* $R = 0$ if the wine is white, $R = 1$ if the wine is red\n",
    "* $J = 0$ if the judge is French, $J = 1$ if the judge is American\n",
    "* $W = 0$ if the wine is French, $W = 1$ if the wine is American"
   ]
  },
  {
   "cell_type": "markdown",
   "metadata": {},
   "source": [
    "Another approach is to introduce a parameter for each value of the predictors, so that the intercepts are indexed by predictor values. This is the approach from the first model (individual wines) where we have a parameter for every wine and every judge.\n",
    "\n",
    "$$ \\begin{align*} y_i &\\sim \\mathrm{Normal}(\\mu_i, \\sigma) \\\\\n",
    "    \\mu_i &\\sim \\alpha + \\beta_{R[k]} + \\beta_{J[l]} + \\beta_{W[m]} \\\\\n",
    "    \\beta_{R[k]} &\\sim \\mathrm{Normal}(0, 0.5) \\\\\n",
    "    \\beta_{J[l]} &\\sim \\mathrm{Normal}(0, 0.5) \\\\\n",
    "    \\beta_{W[m]} &\\sim \\mathrm{Normal}(0, 0.5) \\\\\n",
    "    \\alpha &\\sim \\mathrm{Normal}(0, 0.2) \\\\\n",
    "    \\sigma &\\sim \\mathrm{Exponential}(1) \\end{align*} $$\n",
    "    \n",
    "The indicator variables drop out of the model equation, but now we have separate intercepts; e.g., $\\beta_{R[0]}$ enters the equation when $R = 0$.\n",
    "\n",
    "There may or may not be a difference in the results -- broadly, the index variable approach is a bit more flexible, as we will see below when we model interactions."
   ]
  },
  {
   "cell_type": "code",
   "execution_count": 6,
   "metadata": {},
   "outputs": [
    {
     "name": "stderr",
     "output_type": "stream",
     "text": [
      "Auto-assigning NUTS sampler...\n",
      "Initializing NUTS using jitter+adapt_diag...\n",
      "Multiprocess sampling (2 chains in 2 jobs)\n",
      "NUTS: [alpha, sigma, bW, bJ, bR]\n",
      "Sampling 2 chains, 0 divergences: 100%|██████████| 3000/3000 [00:02<00:00, 1003.10draws/s]\n"
     ]
    }
   ],
   "source": [
    "# Indicator variable version\n",
    "with pm.Model() as indicator_model:\n",
    "    # Priors\n",
    "    bR = pm.Normal('bR', 0, 0.5)\n",
    "    bJ = pm.Normal('bJ', 0, 0.5)\n",
    "    bW = pm.Normal('bW', 0, 0.5)\n",
    "    sigma = pm.Exponential('sigma', 1)\n",
    "    alpha = pm.Normal('alpha', 0, 0.2)\n",
    "    \n",
    "    # Model equation\n",
    "    mu = alpha + bR * wines['flight'] + bJ * wines['judge.amer'] + bW * wines['wine.amer']\n",
    "    \n",
    "    # Observation model\n",
    "    score = pm.Normal('score', mu=mu, sigma=sigma, observed=wines['score'])\n",
    "    \n",
    "    # Sampling\n",
    "    indicator_trace = pm.sample(1000, target_accept = 0.9)\n",
    "    indicator_sumtab = pm.summary(indicator_trace)"
   ]
  },
  {
   "cell_type": "code",
   "execution_count": 7,
   "metadata": {},
   "outputs": [
    {
     "name": "stderr",
     "output_type": "stream",
     "text": [
      "Auto-assigning NUTS sampler...\n",
      "Initializing NUTS using jitter+adapt_diag...\n",
      "Multiprocess sampling (2 chains in 2 jobs)\n",
      "NUTS: [alpha, sigma, bW, bJ, bR]\n",
      "Sampling 2 chains, 0 divergences: 100%|██████████| 3000/3000 [00:07<00:00, 417.09draws/s]\n"
     ]
    }
   ],
   "source": [
    "# Index variable version\n",
    "with pm.Model() as index_model:\n",
    "    # Priors\n",
    "    bR = pm.Normal('bR', 0, 0.5, shape = 2)\n",
    "    bJ = pm.Normal('bJ', 0, 0.5, shape = 2)\n",
    "    bW = pm.Normal('bW', 0, 0.5, shape = 2)\n",
    "    sigma = pm.Exponential('sigma', 1)\n",
    "    alpha = pm.Normal('alpha', 0, 1)\n",
    "    \n",
    "    # Model equation \n",
    "    mu = alpha + bR[wines['flight'].values] + bJ[wines['judge.amer'].values] + bW[wines['wine.amer'].values]\n",
    "    \n",
    "    # Observation model\n",
    "    score = pm.Normal('score', mu=mu, sigma=sigma, observed=wines['score'])\n",
    "    \n",
    "    # Sampling\n",
    "    index_trace = pm.sample(1000, target_accept = 0.9)\n",
    "    index_sumtab = pm.summary(index_trace)"
   ]
  },
  {
   "cell_type": "code",
   "execution_count": 8,
   "metadata": {},
   "outputs": [
    {
     "data": {
      "text/html": [
       "<div>\n",
       "<style scoped>\n",
       "    .dataframe tbody tr th:only-of-type {\n",
       "        vertical-align: middle;\n",
       "    }\n",
       "\n",
       "    .dataframe tbody tr th {\n",
       "        vertical-align: top;\n",
       "    }\n",
       "\n",
       "    .dataframe thead th {\n",
       "        text-align: right;\n",
       "    }\n",
       "</style>\n",
       "<table border=\"1\" class=\"dataframe\">\n",
       "  <thead>\n",
       "    <tr style=\"text-align: right;\">\n",
       "      <th></th>\n",
       "      <th>mean</th>\n",
       "      <th>sd</th>\n",
       "      <th>hpd_3%</th>\n",
       "      <th>hpd_97%</th>\n",
       "      <th>mcse_mean</th>\n",
       "      <th>mcse_sd</th>\n",
       "      <th>ess_mean</th>\n",
       "      <th>ess_sd</th>\n",
       "      <th>ess_bulk</th>\n",
       "      <th>ess_tail</th>\n",
       "      <th>r_hat</th>\n",
       "    </tr>\n",
       "  </thead>\n",
       "  <tbody>\n",
       "    <tr>\n",
       "      <th>bR</th>\n",
       "      <td>-0.009</td>\n",
       "      <td>0.138</td>\n",
       "      <td>-0.270</td>\n",
       "      <td>0.255</td>\n",
       "      <td>0.003</td>\n",
       "      <td>0.003</td>\n",
       "      <td>1977.0</td>\n",
       "      <td>796.0</td>\n",
       "      <td>1975.0</td>\n",
       "      <td>1439.0</td>\n",
       "      <td>1.0</td>\n",
       "    </tr>\n",
       "    <tr>\n",
       "      <th>bJ</th>\n",
       "      <td>0.235</td>\n",
       "      <td>0.140</td>\n",
       "      <td>-0.026</td>\n",
       "      <td>0.488</td>\n",
       "      <td>0.003</td>\n",
       "      <td>0.003</td>\n",
       "      <td>1698.0</td>\n",
       "      <td>1468.0</td>\n",
       "      <td>1704.0</td>\n",
       "      <td>1421.0</td>\n",
       "      <td>1.0</td>\n",
       "    </tr>\n",
       "    <tr>\n",
       "      <th>bW</th>\n",
       "      <td>-0.180</td>\n",
       "      <td>0.138</td>\n",
       "      <td>-0.442</td>\n",
       "      <td>0.080</td>\n",
       "      <td>0.003</td>\n",
       "      <td>0.003</td>\n",
       "      <td>1655.0</td>\n",
       "      <td>1365.0</td>\n",
       "      <td>1655.0</td>\n",
       "      <td>1234.0</td>\n",
       "      <td>1.0</td>\n",
       "    </tr>\n",
       "    <tr>\n",
       "      <th>alpha</th>\n",
       "      <td>-0.017</td>\n",
       "      <td>0.124</td>\n",
       "      <td>-0.243</td>\n",
       "      <td>0.215</td>\n",
       "      <td>0.003</td>\n",
       "      <td>0.003</td>\n",
       "      <td>1436.0</td>\n",
       "      <td>1119.0</td>\n",
       "      <td>1436.0</td>\n",
       "      <td>1319.0</td>\n",
       "      <td>1.0</td>\n",
       "    </tr>\n",
       "    <tr>\n",
       "      <th>sigma</th>\n",
       "      <td>1.003</td>\n",
       "      <td>0.056</td>\n",
       "      <td>0.901</td>\n",
       "      <td>1.106</td>\n",
       "      <td>0.001</td>\n",
       "      <td>0.001</td>\n",
       "      <td>1411.0</td>\n",
       "      <td>1392.0</td>\n",
       "      <td>1449.0</td>\n",
       "      <td>1086.0</td>\n",
       "      <td>1.0</td>\n",
       "    </tr>\n",
       "  </tbody>\n",
       "</table>\n",
       "</div>"
      ],
      "text/plain": [
       "        mean     sd  hpd_3%  hpd_97%  mcse_mean  mcse_sd  ess_mean  ess_sd  \\\n",
       "bR    -0.009  0.138  -0.270    0.255      0.003    0.003    1977.0   796.0   \n",
       "bJ     0.235  0.140  -0.026    0.488      0.003    0.003    1698.0  1468.0   \n",
       "bW    -0.180  0.138  -0.442    0.080      0.003    0.003    1655.0  1365.0   \n",
       "alpha -0.017  0.124  -0.243    0.215      0.003    0.003    1436.0  1119.0   \n",
       "sigma  1.003  0.056   0.901    1.106      0.001    0.001    1411.0  1392.0   \n",
       "\n",
       "       ess_bulk  ess_tail  r_hat  \n",
       "bR       1975.0    1439.0    1.0  \n",
       "bJ       1704.0    1421.0    1.0  \n",
       "bW       1655.0    1234.0    1.0  \n",
       "alpha    1436.0    1319.0    1.0  \n",
       "sigma    1449.0    1086.0    1.0  "
      ]
     },
     "execution_count": 8,
     "metadata": {},
     "output_type": "execute_result"
    }
   ],
   "source": [
    "indicator_sumtab"
   ]
  },
  {
   "cell_type": "code",
   "execution_count": 9,
   "metadata": {},
   "outputs": [
    {
     "data": {
      "text/plain": [
       "array([<AxesSubplot:title={'center':'94.0% Credible Interval'}>],\n",
       "      dtype=object)"
      ]
     },
     "execution_count": 9,
     "metadata": {},
     "output_type": "execute_result"
    },
    {
     "data": {
      "image/png": "[encoded data removed]",
      "text/plain": [
       "<Figure size 432x561.6 with 1 Axes>"
      ]
     },
     "metadata": {
      "needs_background": "light"
     },
     "output_type": "display_data"
    }
   ],
   "source": [
    "pm.forestplot(indicator_trace, var_names = ['bR', 'bJ', 'bW', 'alpha'])"
   ]
  },
  {
   "cell_type": "markdown",
   "metadata": {},
   "source": [
    "The only really strong effect here (and it's borderline) is that American judges appear to rate wines a little higher. But this is probably dominated by judges 4 and 5, the two who consistently rate all wines a little higher (and are both American). Of the two judges who rate wines lower, one is American and one is French."
   ]
  },
  {
   "cell_type": "code",
   "execution_count": 10,
   "metadata": {},
   "outputs": [
    {
     "name": "stdout",
     "output_type": "stream",
     "text": [
      "0.1792711023607228\n"
     ]
    },
    {
     "data": {
      "image/png": "[encoded data removed]",
      "text/plain": [
       "<Figure size 432x288 with 1 Axes>"
      ]
     },
     "metadata": {
      "needs_background": "light"
     },
     "output_type": "display_data"
    }
   ],
   "source": [
    "bW_diff = index_trace['bW'][:,0] - index_trace['bW'][:,1]\n",
    "print(np.average(bW_diff))\n",
    "plt.hist(bW_diff)\n",
    "plt.show()"
   ]
  },
  {
   "cell_type": "code",
   "execution_count": 11,
   "metadata": {},
   "outputs": [
    {
     "name": "stderr",
     "output_type": "stream",
     "text": [
      "Auto-assigning NUTS sampler...\n",
      "Initializing NUTS using jitter+adapt_diag...\n",
      "Multiprocess sampling (2 chains in 2 jobs)\n",
      "NUTS: [alpha, sigma, bWR, bJR, bWJ, bW, bJ, bR]\n",
      "Sampling 2 chains, 0 divergences: 100%|██████████| 3000/3000 [00:04<00:00, 727.54draws/s]\n"
     ]
    }
   ],
   "source": [
    "with pm.Model() as interaction:\n",
    "    # Priors\n",
    "    bR = pm.Normal('bR', 0, 0.5)\n",
    "    bJ = pm.Normal('bJ', 0, 0.5)\n",
    "    bW = pm.Normal('bW', 0, 0.5)\n",
    "    bWJ = pm.Normal('bWJ', 0, 0.25)\n",
    "    bJR = pm.Normal('bJR', 0, 0.25)\n",
    "    bWR = pm.Normal('bWR', 0, 0.25)\n",
    "    sigma = pm.Exponential('sigma', 1)\n",
    "    alpha = pm.Normal('alpha', 0, 0.2)\n",
    "    \n",
    "    # Model equation\n",
    "    mu = alpha + bR * wines['flight'] + bJ * wines['judge.amer'] + bW * wines['wine.amer'] + \\\n",
    "        bWJ * wines['judge.amer'] * wines['wine.amer'] + bJR * wines['judge.amer'] * wines['flight'] + \\\n",
    "        bWR * wines['flight'] * wines['wine.amer']\n",
    "    \n",
    "    # Observation model\n",
    "    score = pm.Normal('score', mu=mu, sigma=sigma, observed=wines['score'])\n",
    "    \n",
    "    # Sampling\n",
    "    int_trace = pm.sample(1000, target_accept = 0.9)\n",
    "    int_sumtab = pm.summary(int_trace, var_names = ['alpha', 'bR', 'bJ', 'bW', 'bWJ', 'bJR', 'bWR'])"
   ]
  },
  {
   "cell_type": "code",
   "execution_count": 12,
   "metadata": {},
   "outputs": [
    {
     "data": {
      "text/html": [
       "<div>\n",
       "<style scoped>\n",
       "    .dataframe tbody tr th:only-of-type {\n",
       "        vertical-align: middle;\n",
       "    }\n",
       "\n",
       "    .dataframe tbody tr th {\n",
       "        vertical-align: top;\n",
       "    }\n",
       "\n",
       "    .dataframe thead th {\n",
       "        text-align: right;\n",
       "    }\n",
       "</style>\n",
       "<table border=\"1\" class=\"dataframe\">\n",
       "  <thead>\n",
       "    <tr style=\"text-align: right;\">\n",
       "      <th></th>\n",
       "      <th>mean</th>\n",
       "      <th>sd</th>\n",
       "      <th>hpd_3%</th>\n",
       "      <th>hpd_97%</th>\n",
       "      <th>mcse_mean</th>\n",
       "      <th>mcse_sd</th>\n",
       "      <th>ess_mean</th>\n",
       "      <th>ess_sd</th>\n",
       "      <th>ess_bulk</th>\n",
       "      <th>ess_tail</th>\n",
       "      <th>r_hat</th>\n",
       "    </tr>\n",
       "  </thead>\n",
       "  <tbody>\n",
       "    <tr>\n",
       "      <th>alpha</th>\n",
       "      <td>-0.044</td>\n",
       "      <td>0.138</td>\n",
       "      <td>-0.303</td>\n",
       "      <td>0.219</td>\n",
       "      <td>0.004</td>\n",
       "      <td>0.003</td>\n",
       "      <td>1394.0</td>\n",
       "      <td>979.0</td>\n",
       "      <td>1395.0</td>\n",
       "      <td>1268.0</td>\n",
       "      <td>1.0</td>\n",
       "    </tr>\n",
       "    <tr>\n",
       "      <th>bR</th>\n",
       "      <td>0.087</td>\n",
       "      <td>0.187</td>\n",
       "      <td>-0.288</td>\n",
       "      <td>0.423</td>\n",
       "      <td>0.005</td>\n",
       "      <td>0.004</td>\n",
       "      <td>1603.0</td>\n",
       "      <td>1120.0</td>\n",
       "      <td>1601.0</td>\n",
       "      <td>1402.0</td>\n",
       "      <td>1.0</td>\n",
       "    </tr>\n",
       "    <tr>\n",
       "      <th>bJ</th>\n",
       "      <td>0.205</td>\n",
       "      <td>0.181</td>\n",
       "      <td>-0.133</td>\n",
       "      <td>0.540</td>\n",
       "      <td>0.005</td>\n",
       "      <td>0.004</td>\n",
       "      <td>1501.0</td>\n",
       "      <td>1337.0</td>\n",
       "      <td>1505.0</td>\n",
       "      <td>1350.0</td>\n",
       "      <td>1.0</td>\n",
       "    </tr>\n",
       "    <tr>\n",
       "      <th>bW</th>\n",
       "      <td>-0.082</td>\n",
       "      <td>0.181</td>\n",
       "      <td>-0.435</td>\n",
       "      <td>0.246</td>\n",
       "      <td>0.005</td>\n",
       "      <td>0.004</td>\n",
       "      <td>1397.0</td>\n",
       "      <td>1011.0</td>\n",
       "      <td>1398.0</td>\n",
       "      <td>1241.0</td>\n",
       "      <td>1.0</td>\n",
       "    </tr>\n",
       "    <tr>\n",
       "      <th>bWJ</th>\n",
       "      <td>-0.017</td>\n",
       "      <td>0.187</td>\n",
       "      <td>-0.355</td>\n",
       "      <td>0.330</td>\n",
       "      <td>0.005</td>\n",
       "      <td>0.004</td>\n",
       "      <td>1502.0</td>\n",
       "      <td>1084.0</td>\n",
       "      <td>1507.0</td>\n",
       "      <td>1314.0</td>\n",
       "      <td>1.0</td>\n",
       "    </tr>\n",
       "    <tr>\n",
       "      <th>bJR</th>\n",
       "      <td>0.047</td>\n",
       "      <td>0.178</td>\n",
       "      <td>-0.304</td>\n",
       "      <td>0.354</td>\n",
       "      <td>0.004</td>\n",
       "      <td>0.004</td>\n",
       "      <td>1690.0</td>\n",
       "      <td>1126.0</td>\n",
       "      <td>1693.0</td>\n",
       "      <td>1542.0</td>\n",
       "      <td>1.0</td>\n",
       "    </tr>\n",
       "    <tr>\n",
       "      <th>bWR</th>\n",
       "      <td>-0.220</td>\n",
       "      <td>0.183</td>\n",
       "      <td>-0.567</td>\n",
       "      <td>0.135</td>\n",
       "      <td>0.005</td>\n",
       "      <td>0.003</td>\n",
       "      <td>1466.0</td>\n",
       "      <td>1466.0</td>\n",
       "      <td>1506.0</td>\n",
       "      <td>1013.0</td>\n",
       "      <td>1.0</td>\n",
       "    </tr>\n",
       "  </tbody>\n",
       "</table>\n",
       "</div>"
      ],
      "text/plain": [
       "        mean     sd  hpd_3%  hpd_97%  mcse_mean  mcse_sd  ess_mean  ess_sd  \\\n",
       "alpha -0.044  0.138  -0.303    0.219      0.004    0.003    1394.0   979.0   \n",
       "bR     0.087  0.187  -0.288    0.423      0.005    0.004    1603.0  1120.0   \n",
       "bJ     0.205  0.181  -0.133    0.540      0.005    0.004    1501.0  1337.0   \n",
       "bW    -0.082  0.181  -0.435    0.246      0.005    0.004    1397.0  1011.0   \n",
       "bWJ   -0.017  0.187  -0.355    0.330      0.005    0.004    1502.0  1084.0   \n",
       "bJR    0.047  0.178  -0.304    0.354      0.004    0.004    1690.0  1126.0   \n",
       "bWR   -0.220  0.183  -0.567    0.135      0.005    0.003    1466.0  1466.0   \n",
       "\n",
       "       ess_bulk  ess_tail  r_hat  \n",
       "alpha    1395.0    1268.0    1.0  \n",
       "bR       1601.0    1402.0    1.0  \n",
       "bJ       1505.0    1350.0    1.0  \n",
       "bW       1398.0    1241.0    1.0  \n",
       "bWJ      1507.0    1314.0    1.0  \n",
       "bJR      1693.0    1542.0    1.0  \n",
       "bWR      1506.0    1013.0    1.0  "
      ]
     },
     "execution_count": 12,
     "metadata": {},
     "output_type": "execute_result"
    }
   ],
   "source": [
    "int_sumtab"
   ]
  },
  {
   "cell_type": "code",
   "execution_count": 13,
   "metadata": {},
   "outputs": [
    {
     "data": {
      "text/plain": [
       "array([<AxesSubplot:title={'center':'94.0% Credible Interval'}>],\n",
       "      dtype=object)"
      ]
     },
     "execution_count": 13,
     "metadata": {},
     "output_type": "execute_result"
    },
    {
     "data": {
      "image/png": "[encoded data removed]",
      "text/plain": [
       "<Figure size 432x820.8 with 1 Axes>"
      ]
     },
     "metadata": {
      "needs_background": "light"
     },
     "output_type": "display_data"
    }
   ],
   "source": [
    "pm.forestplot(int_trace, var_names = ['alpha', 'bR', 'bJ', 'bW', 'bWJ', 'bJR', 'bWR'])"
   ]
  },
  {
   "cell_type": "markdown",
   "metadata": {},
   "source": [
    "## Visualizing the predictions\n",
    "\n",
    "Interpreting the parameters, especially the interaction parameters, can be a bit tricky. To clarify this, let's extract samples from the trace to evaluate our predicted scores for each of the combinations of predictors. We can do this by simply plugging the sampled values from the trace into the model equation."
   ]
  },
  {
   "cell_type": "code",
   "execution_count": 14,
   "metadata": {},
   "outputs": [],
   "source": [
    "RAA = int_trace['bR'] + int_trace['bJ'] + int_trace['bW'] + \\\n",
    "      int_trace['bWJ'] + int_trace['bJR'] + int_trace['bWR'] + int_trace['alpha']\n",
    "WAA = int_trace['bJ'] + int_trace['bW'] + int_trace['bWJ'] + int_trace['alpha']\n",
    "RFA = int_trace['bR'] + int_trace['bW'] + int_trace['bWR'] + int_trace['alpha']\n",
    "WFA = int_trace['bW'] + int_trace['alpha']\n",
    "RAF = int_trace['bR'] + int_trace['bJ'] + int_trace['bJR'] + int_trace['alpha']\n",
    "WAF = int_trace['bJ'] + int_trace['alpha']\n",
    "RFF = int_trace['bR'] + int_trace['alpha']\n",
    "WFF = int_trace['alpha']"
   ]
  },
  {
   "cell_type": "code",
   "execution_count": 15,
   "metadata": {},
   "outputs": [
    {
     "data": {
      "image/png": "[encoded data removed]",
      "text/plain": [
       "<Figure size 720x1440 with 8 Axes>"
      ]
     },
     "metadata": {
      "needs_background": "light"
     },
     "output_type": "display_data"
    }
   ],
   "source": [
    "fig, axs = plt.subplots(4,2, figsize = (10, 20))\n",
    "fig.suptitle('Predicted scores, by flight/judge/region', size = 16)\n",
    "axs[0,0].hist(RAA, bins = np.arange(-1, 1.1, 0.1))\n",
    "axs[0,0].set_title('Red/Am/Am')\n",
    "axs[1,0].hist(RFA, bins = np.arange(-1, 1.1, 0.1))\n",
    "axs[1,0].set_title('Red/Fr/Am')\n",
    "axs[2,0].hist(RAF, bins = np.arange(-1, 1.1, 0.1))\n",
    "axs[2,0].set_title('Red/Am/Fr')\n",
    "axs[3,0].hist(RFF, bins = np.arange(-1, 1.1, 0.1))\n",
    "axs[3,0].set_title('Red/Fr/Fr')\n",
    "axs[0,1].hist(WAA, bins = np.arange(-1, 1.1, 0.1))\n",
    "axs[0,1].set_title('White/Am/Am')\n",
    "axs[1,1].hist(WFA, bins = np.arange(-1, 1.1, 0.1))\n",
    "axs[1,1].set_title('White/Fr/Am')\n",
    "axs[2,1].hist(WAF, bins = np.arange(-1, 1.1, 0.1))\n",
    "axs[2,1].set_title('White/Am/Fr')\n",
    "axs[3,1].hist(WFF, bins = np.arange(-1, 1.1, 0.1))\n",
    "axs[3,1].set_title('White/Fr/Fr')\n",
    "plt.show()"
   ]
  },
  {
   "cell_type": "markdown",
   "metadata": {},
   "source": [
    "This clarifies the region/color interaction, which was the only clearly nonzero interaction from the parameter table. Red French wines were rated higher than average by American judges (although only about average by French judges) while red American wines were rated relatively poorly by the French judges. So, being red and American together appears to carry a bit of a disadvantage -- although how this manifests is dependent on the judge."
   ]
  },
  {
   "cell_type": "markdown",
   "metadata": {},
   "source": [
    "### Full interaction model"
   ]
  },
  {
   "cell_type": "code",
   "execution_count": null,
   "metadata": {},
   "outputs": [],
   "source": []
  },
  {
   "cell_type": "code",
   "execution_count": 16,
   "metadata": {},
   "outputs": [
    {
     "name": "stderr",
     "output_type": "stream",
     "text": [
      "Auto-assigning NUTS sampler...\n",
      "Initializing NUTS using jitter+adapt_diag...\n",
      "Multiprocess sampling (2 chains in 2 jobs)\n",
      "NUTS: [alpha, sigma, bWFF, bRFF, bWAF, bRAF, bWFA, bRFA, bWAA, bRAA]\n",
      "Sampling 2 chains, 0 divergences: 100%|██████████| 3000/3000 [00:03<00:00, 838.19draws/s]\n"
     ]
    }
   ],
   "source": [
    "with pm.Model() as interaction:\n",
    "    bRAA = pm.Normal('bRAA', 0, 0.5)\n",
    "    bWAA = pm.Normal('bWAA', 0, 0.5)\n",
    "    bRFA = pm.Normal('bRFA', 0, 0.5)\n",
    "    bWFA = pm.Normal('bWFA', 0, 0.5)\n",
    "    bRAF = pm.Normal('bRAF', 0, 0.5)\n",
    "    bWAF = pm.Normal('bWAF', 0, 0.5)\n",
    "    bRFF = pm.Normal('bRFF', 0, 0.5)\n",
    "    bWFF = pm.Normal('bWFF', 0, 0.5)\n",
    "    sigma = pm.Exponential('sigma', 1)\n",
    "    alpha = pm.Normal('alpha', 0, 0.2)\n",
    "    mu = alpha + bRAA * wines['flight'] * wines['judge.amer'] * wines['wine.amer'] + \\\n",
    "                 bWAA * (1-wines['flight']) * wines['judge.amer'] * wines['wine.amer'] + \\\n",
    "                 bRFA * wines['flight'] * (1-wines['judge.amer']) * wines['wine.amer'] + \\\n",
    "                 bWFA * (1-wines['flight']) * (1-wines['judge.amer']) * wines['wine.amer'] + \\\n",
    "                 bRAF * wines['flight'] * wines['judge.amer'] * (1-wines['wine.amer']) + \\\n",
    "                 bWAF * (1-wines['flight']) * wines['judge.amer'] * (1-wines['wine.amer']) + \\\n",
    "                 bRFF * wines['flight'] * (1-wines['judge.amer']) * (1-wines['wine.amer']) + \\\n",
    "                 bWFF * (1-wines['flight']) * (1-wines['judge.amer']) * (1-wines['wine.amer'])  \n",
    "    score = pm.Normal('score', mu=mu, sigma=sigma, observed=wines['score'])\n",
    "    \n",
    "    fullint_trace = pm.sample(1000, target_accept = 0.9)\n",
    "    fullint_sumtab = pm.summary(fullint_trace, var_names = ['alpha', 'bRAA', 'bWAA', 'bRFA', 'bWFA', 'bRAF', 'bWAF', 'bRFF', 'bWFF'])"
   ]
  },
  {
   "cell_type": "code",
   "execution_count": 17,
   "metadata": {},
   "outputs": [
    {
     "data": {
      "text/html": [
       "<div>\n",
       "<style scoped>\n",
       "    .dataframe tbody tr th:only-of-type {\n",
       "        vertical-align: middle;\n",
       "    }\n",
       "\n",
       "    .dataframe tbody tr th {\n",
       "        vertical-align: top;\n",
       "    }\n",
       "\n",
       "    .dataframe thead th {\n",
       "        text-align: right;\n",
       "    }\n",
       "</style>\n",
       "<table border=\"1\" class=\"dataframe\">\n",
       "  <thead>\n",
       "    <tr style=\"text-align: right;\">\n",
       "      <th></th>\n",
       "      <th>mean</th>\n",
       "      <th>sd</th>\n",
       "      <th>hpd_3%</th>\n",
       "      <th>hpd_97%</th>\n",
       "      <th>mcse_mean</th>\n",
       "      <th>mcse_sd</th>\n",
       "      <th>ess_mean</th>\n",
       "      <th>ess_sd</th>\n",
       "      <th>ess_bulk</th>\n",
       "      <th>ess_tail</th>\n",
       "      <th>r_hat</th>\n",
       "    </tr>\n",
       "  </thead>\n",
       "  <tbody>\n",
       "    <tr>\n",
       "      <th>alpha</th>\n",
       "      <td>-0.001</td>\n",
       "      <td>0.136</td>\n",
       "      <td>-0.258</td>\n",
       "      <td>0.245</td>\n",
       "      <td>0.005</td>\n",
       "      <td>0.004</td>\n",
       "      <td>684.0</td>\n",
       "      <td>684.0</td>\n",
       "      <td>680.0</td>\n",
       "      <td>1286.0</td>\n",
       "      <td>1.0</td>\n",
       "    </tr>\n",
       "    <tr>\n",
       "      <th>bRAA</th>\n",
       "      <td>-0.011</td>\n",
       "      <td>0.199</td>\n",
       "      <td>-0.359</td>\n",
       "      <td>0.399</td>\n",
       "      <td>0.006</td>\n",
       "      <td>0.004</td>\n",
       "      <td>1204.0</td>\n",
       "      <td>1204.0</td>\n",
       "      <td>1204.0</td>\n",
       "      <td>1399.0</td>\n",
       "      <td>1.0</td>\n",
       "    </tr>\n",
       "    <tr>\n",
       "      <th>bWAA</th>\n",
       "      <td>0.039</td>\n",
       "      <td>0.211</td>\n",
       "      <td>-0.340</td>\n",
       "      <td>0.461</td>\n",
       "      <td>0.006</td>\n",
       "      <td>0.005</td>\n",
       "      <td>1117.0</td>\n",
       "      <td>992.0</td>\n",
       "      <td>1121.0</td>\n",
       "      <td>1154.0</td>\n",
       "      <td>1.0</td>\n",
       "    </tr>\n",
       "    <tr>\n",
       "      <th>bRFA</th>\n",
       "      <td>-0.361</td>\n",
       "      <td>0.224</td>\n",
       "      <td>-0.797</td>\n",
       "      <td>0.039</td>\n",
       "      <td>0.006</td>\n",
       "      <td>0.004</td>\n",
       "      <td>1412.0</td>\n",
       "      <td>1368.0</td>\n",
       "      <td>1416.0</td>\n",
       "      <td>1447.0</td>\n",
       "      <td>1.0</td>\n",
       "    </tr>\n",
       "    <tr>\n",
       "      <th>bWFA</th>\n",
       "      <td>0.037</td>\n",
       "      <td>0.215</td>\n",
       "      <td>-0.394</td>\n",
       "      <td>0.414</td>\n",
       "      <td>0.006</td>\n",
       "      <td>0.004</td>\n",
       "      <td>1289.0</td>\n",
       "      <td>1194.0</td>\n",
       "      <td>1283.0</td>\n",
       "      <td>1541.0</td>\n",
       "      <td>1.0</td>\n",
       "    </tr>\n",
       "    <tr>\n",
       "      <th>bRAF</th>\n",
       "      <td>0.268</td>\n",
       "      <td>0.226</td>\n",
       "      <td>-0.169</td>\n",
       "      <td>0.686</td>\n",
       "      <td>0.006</td>\n",
       "      <td>0.004</td>\n",
       "      <td>1394.0</td>\n",
       "      <td>1309.0</td>\n",
       "      <td>1391.0</td>\n",
       "      <td>1496.0</td>\n",
       "      <td>1.0</td>\n",
       "    </tr>\n",
       "    <tr>\n",
       "      <th>bWAF</th>\n",
       "      <td>0.170</td>\n",
       "      <td>0.234</td>\n",
       "      <td>-0.264</td>\n",
       "      <td>0.583</td>\n",
       "      <td>0.007</td>\n",
       "      <td>0.005</td>\n",
       "      <td>1286.0</td>\n",
       "      <td>1206.0</td>\n",
       "      <td>1271.0</td>\n",
       "      <td>1378.0</td>\n",
       "      <td>1.0</td>\n",
       "    </tr>\n",
       "    <tr>\n",
       "      <th>bRFF</th>\n",
       "      <td>0.202</td>\n",
       "      <td>0.248</td>\n",
       "      <td>-0.265</td>\n",
       "      <td>0.657</td>\n",
       "      <td>0.007</td>\n",
       "      <td>0.005</td>\n",
       "      <td>1373.0</td>\n",
       "      <td>1302.0</td>\n",
       "      <td>1375.0</td>\n",
       "      <td>1507.0</td>\n",
       "      <td>1.0</td>\n",
       "    </tr>\n",
       "    <tr>\n",
       "      <th>bWFF</th>\n",
       "      <td>-0.303</td>\n",
       "      <td>0.245</td>\n",
       "      <td>-0.759</td>\n",
       "      <td>0.151</td>\n",
       "      <td>0.006</td>\n",
       "      <td>0.004</td>\n",
       "      <td>1640.0</td>\n",
       "      <td>1488.0</td>\n",
       "      <td>1642.0</td>\n",
       "      <td>1448.0</td>\n",
       "      <td>1.0</td>\n",
       "    </tr>\n",
       "  </tbody>\n",
       "</table>\n",
       "</div>"
      ],
      "text/plain": [
       "        mean     sd  hpd_3%  hpd_97%  mcse_mean  mcse_sd  ess_mean  ess_sd  \\\n",
       "alpha -0.001  0.136  -0.258    0.245      0.005    0.004     684.0   684.0   \n",
       "bRAA  -0.011  0.199  -0.359    0.399      0.006    0.004    1204.0  1204.0   \n",
       "bWAA   0.039  0.211  -0.340    0.461      0.006    0.005    1117.0   992.0   \n",
       "bRFA  -0.361  0.224  -0.797    0.039      0.006    0.004    1412.0  1368.0   \n",
       "bWFA   0.037  0.215  -0.394    0.414      0.006    0.004    1289.0  1194.0   \n",
       "bRAF   0.268  0.226  -0.169    0.686      0.006    0.004    1394.0  1309.0   \n",
       "bWAF   0.170  0.234  -0.264    0.583      0.007    0.005    1286.0  1206.0   \n",
       "bRFF   0.202  0.248  -0.265    0.657      0.007    0.005    1373.0  1302.0   \n",
       "bWFF  -0.303  0.245  -0.759    0.151      0.006    0.004    1640.0  1488.0   \n",
       "\n",
       "       ess_bulk  ess_tail  r_hat  \n",
       "alpha     680.0    1286.0    1.0  \n",
       "bRAA     1204.0    1399.0    1.0  \n",
       "bWAA     1121.0    1154.0    1.0  \n",
       "bRFA     1416.0    1447.0    1.0  \n",
       "bWFA     1283.0    1541.0    1.0  \n",
       "bRAF     1391.0    1496.0    1.0  \n",
       "bWAF     1271.0    1378.0    1.0  \n",
       "bRFF     1375.0    1507.0    1.0  \n",
       "bWFF     1642.0    1448.0    1.0  "
      ]
     },
     "execution_count": 17,
     "metadata": {},
     "output_type": "execute_result"
    }
   ],
   "source": [
    "fullint_sumtab"
   ]
  },
  {
   "cell_type": "code",
   "execution_count": 18,
   "metadata": {},
   "outputs": [
    {
     "data": {
      "image/png": "[encoded data removed]",
      "text/plain": [
       "<Figure size 720x1440 with 8 Axes>"
      ]
     },
     "metadata": {
      "needs_background": "light"
     },
     "output_type": "display_data"
    }
   ],
   "source": [
    "fig, axs = plt.subplots(4,2, figsize = (10, 20))\n",
    "fig.suptitle('Predicted scores, by flight/judge/region', size = 16)\n",
    "axs[0,0].hist(fullint_trace['bRAA'], bins = np.arange(-1, 1.1, 0.1))\n",
    "axs[0,0].set_title('Red/Am/Am')\n",
    "axs[1,0].hist(fullint_trace['bRFA'], bins = np.arange(-1, 1.1, 0.1))\n",
    "axs[1,0].set_title('Red/Fr/Am')\n",
    "axs[2,0].hist(fullint_trace['bRAF'], bins = np.arange(-1, 1.1, 0.1))\n",
    "axs[2,0].set_title('Red/Am/Fr')\n",
    "axs[3,0].hist(fullint_trace['bRFF'], bins = np.arange(-1, 1.1, 0.1))\n",
    "axs[3,0].set_title('Red/Fr/Fr')\n",
    "axs[0,1].hist(fullint_trace['bWAA'], bins = np.arange(-1, 1.1, 0.1))\n",
    "axs[0,1].set_title('White/Am/Am')\n",
    "axs[1,1].hist(fullint_trace['bWFA'], bins = np.arange(-1, 1.1, 0.1))\n",
    "axs[1,1].set_title('White/Fr/Am')\n",
    "axs[2,1].hist(fullint_trace['bWAF'], bins = np.arange(-1, 1.1, 0.1))\n",
    "axs[2,1].set_title('White/Am/Fr')\n",
    "axs[3,1].hist(fullint_trace['bWFF'], bins = np.arange(-1, 1.1, 0.1))\n",
    "axs[3,1].set_title('White/Fr/Fr')\n",
    "\n",
    "axs[0,0].hist(RAA, bins = np.arange(-1, 1.1, 0.1), color = 'gray', alpha = 0.3)\n",
    "axs[1,0].hist(RFA, bins = np.arange(-1, 1.1, 0.1), color = 'gray', alpha = 0.3)\n",
    "axs[2,0].hist(RAF, bins = np.arange(-1, 1.1, 0.1), color = 'gray', alpha = 0.3)\n",
    "axs[3,0].hist(RFF, bins = np.arange(-1, 1.1, 0.1), color = 'gray', alpha = 0.3)\n",
    "axs[0,1].hist(WAA, bins = np.arange(-1, 1.1, 0.1), color = 'gray', alpha = 0.3)\n",
    "axs[1,1].hist(WFA, bins = np.arange(-1, 1.1, 0.1), color = 'gray', alpha = 0.3)\n",
    "axs[2,1].hist(WAF, bins = np.arange(-1, 1.1, 0.1), color = 'gray', alpha = 0.3)\n",
    "axs[3,1].hist(WFF, bins = np.arange(-1, 1.1, 0.1), color = 'gray', alpha = 0.3)\n",
    "\n",
    "plt.show()"
   ]
  },
  {
   "cell_type": "markdown",
   "metadata": {},
   "source": [
    "The biggest difference is that the White/French/French predicted score is lower in this model. Why? The previous model has less flexibility. \n",
    "In the previous model, White/French/French corresponds to all the indicator variables being zero, so we just have\n",
    "$$ \\hat y = \\alpha $$\n",
    "and since our outcomes are standardized, we should generally have $\\alpha = 0$. This has, in a way, positioned White/French/French artificially as a \"default\", with all wines measured relative to it.\n",
    "\n",
    "In this model, every combination of traits gets its own parameter, and so they can vary freely."
   ]
  },
  {
   "cell_type": "code",
   "execution_count": null,
   "metadata": {},
   "outputs": [],
   "source": []
  }
 ],
 "metadata": {
  "kernelspec": {
   "display_name": "Python 3",
   "language": "python",
   "name": "python3"
  },
  "language_info": {
   "codemirror_mode": {
    "name": "ipython",
    "version": 3
   },
   "file_extension": ".py",
   "mimetype": "text/x-python",
   "name": "python",
   "nbconvert_exporter": "python",
   "pygments_lexer": "ipython3",
   "version": "3.8.5"
  }
 },
 "nbformat": 4,
 "nbformat_minor": 4
}
